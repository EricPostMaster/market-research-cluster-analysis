{
 "cells": [
  {
   "cell_type": "markdown",
   "metadata": {},
   "source": [
    "## Package Import"
   ]
  },
  {
   "cell_type": "code",
   "execution_count": 40,
   "metadata": {},
   "outputs": [],
   "source": [
    "# Data Manipulation and Visualization\n",
    "import pandas as pd\n",
    "import matplotlib.pyplot as plt\n",
    "from matplotlib.ticker import PercentFormatter\n",
    "import seaborn as sn\n",
    "import numpy as np\n",
    "\n",
    "# Factor Analysis\n",
    "# pip install factor_analyzer\n",
    "from factor_analyzer import FactorAnalyzer\n",
    "\n",
    "# Clustering\n",
    "from sklearn.cluster import KMeans\n",
    "# conda install -c conda-forge scikit-learn-extra\n",
    "from sklearn_extra.cluster import KMedoids\n",
    "from sklearn.cluster import AgglomerativeClustering\n",
    "from sklearn.metrics import silhouette_samples, silhouette_score\n",
    "from operator import itemgetter\n",
    "\n",
    "# Classification\n",
    "from sklearn.model_selection import train_test_split\n",
    "from sklearn.ensemble import RandomForestClassifier\n",
    "from sklearn.ensemble import GradientBoostingClassifier\n",
    "from sklearn.svm import SVC\n",
    "from sklearn.neighbors import KNeighborsClassifier"
   ]
  },
  {
   "cell_type": "markdown",
   "metadata": {},
   "source": [
    "## Dataset Creation\n",
    "The primary dataframe we will be working with is df_fct, which is a dataframe composed of only the 36 factor variables."
   ]
  },
  {
   "cell_type": "code",
   "execution_count": 46,
   "metadata": {},
   "outputs": [],
   "source": [
    "# Create dataframe from customer_data file\n",
    "df = pd.read_csv('customer_data.csv')\n",
    "\n",
    "# Create dataframe of factors only\n",
    "df_fct =  df.drop(['UID','Const'], axis=1)\n",
    "\n",
    "# Number of variables/factors/stimuli\n",
    "variables_to_examine = len(df_fct.columns)\n",
    "\n",
    "# scores = df_fct   # Run this instead of FA cell below to cluster/classify w/out FA"
   ]
  },
  {
   "cell_type": "markdown",
   "metadata": {},
   "source": [
    "## Factor Analysis\n",
    "\n",
    "The purpose of the factor analysis, as opposed to just clustering on the raw customer data, is to reduce noise in the initial dataset and hopefully obtain factors that are more generalizable to future, unseen data.\n",
    "\n",
    "The variables are all on a similar scale, so we will use the covariance matrix for identifying principal components."
   ]
  },
  {
   "cell_type": "code",
   "execution_count": 42,
   "metadata": {},
   "outputs": [],
   "source": [
    "# Create factor analysis object and perform factor analysis\n",
    "fa = FactorAnalyzer(n_factors=variables_to_examine, rotation=None)\n",
    "fa.fit(df_fct)\n",
    "\n",
    "# Check Eigenvalues\n",
    "ev, v = fa.get_eigenvalues()\n",
    "\n",
    "# Create FactorAnalyzer object\n",
    "n_factors = sum(i >= 1 for i in ev)\n",
    "fa = FactorAnalyzer(n_factors=n_factors, rotation=None)\n",
    "\n",
    "# Fit factor analysis model to variables\n",
    "fa.fit(df_fct)\n",
    "\n",
    "# Scores for the factor analysis, converted to dataframe\n",
    "scores = pd.DataFrame(fa.transform(df_fct))\n",
    "\n",
    "\n",
    "#################################\n",
    "# Extra Stuff (Exclude from app)\n",
    "#################################\n",
    "\n",
    "# The loadings are the coefficients that make up the linear combination of original variables to get the factors (v1 = l1x1 + l2X2)\n",
    "loadings = fa.loadings_\n",
    "\n",
    "# Create dataframe of eigenvalues of the covariance matrix\n",
    "\n",
    "data = {'factor'                    : range(1,n_factors+1),\n",
    "        'eigenvalues'               : fa.get_eigenvalues()[0][0:n_factors],\n",
    "        'common_factor_eigenvalues' : fa.get_eigenvalues()[1][0:n_factors],\n",
    "        'variance'                  : fa.get_factor_variance()[0],\n",
    "        'proportional_variance'     : fa.get_factor_variance()[1],\n",
    "        'cumulative_variance'       : fa.get_factor_variance()[2]\n",
    "       }\n",
    "\n",
    "cov_matrix_eigenvals = pd.DataFrame(data=data).set_index('factor')"
   ]
  },
  {
   "cell_type": "markdown",
   "metadata": {},
   "source": [
    "### Clustering"
   ]
  },
  {
   "cell_type": "code",
   "execution_count": 43,
   "metadata": {},
   "outputs": [],
   "source": [
    "sw=[]\n",
    "\n",
    "for i in range(2,7):\n",
    "    \n",
    "    # Create clustering objects\n",
    "    cls1 = KMeans(n_clusters=i, random_state=0)\n",
    "    cls2 = KMedoids(n_clusters=i, random_state=0)\n",
    "    cls3 = AgglomerativeClustering(n_clusters=i, affinity = 'euclidean', linkage ='ward')\n",
    "        # Note on agglomerative clustering: if linkage is ward, affinity must be Euclidean\n",
    "    cls_algs = [['kMeans', cls1], ['kMedoids', cls2], ['Hierarchical', cls3]]\n",
    "    \n",
    "    # Fit and score clustering solutions for i clusters with each clustering algorithm\n",
    "    for cls in cls_algs:\n",
    "        \n",
    "        # Fit the model to the factor analysis scores\n",
    "        cls[1].fit(scores)\n",
    "        \n",
    "        # List of assigned clusters\n",
    "        clusters = cls[1].fit_predict(scores)\n",
    "        \n",
    "        # Silhouette scores for each solution\n",
    "        silhouette_avg = silhouette_score(scores,clusters)\n",
    "        \n",
    "        # Store solution info [algorithm, number of clusters, avg silhouette score, cluster predictions]\n",
    "        algorithm = cls[0]\n",
    "        i_stats = [algorithm, i, silhouette_avg, clusters]\n",
    "        sw.append(i_stats)\n",
    "        \n",
    "        # Add columns of cluster assignments to df_fct datafram\n",
    "        df_fct[algorithm+'_'+'cluster'+'_'+str(i)] = clusters\n",
    "\n",
    "\n",
    "# Reorder cluster lists by descending silhouette scores.  Clusters in first element should be assigned to training data.\n",
    "sw = sorted(sw, key=itemgetter(2), reverse=True)\n",
    "\n",
    "# Add the labels to the training dataset (you can ignore the warning when the cell runs)\n",
    "df_fct['cluster'] = sw[0][3]"
   ]
  },
  {
   "cell_type": "markdown",
   "metadata": {},
   "source": [
    "### Classification\n",
    "\n",
    "#### Split into training, validation, and test data"
   ]
  },
  {
   "cell_type": "code",
   "execution_count": 44,
   "metadata": {},
   "outputs": [],
   "source": [
    "# These are the variable columns and the optimal cluster assignment\n",
    "data_of_interest = df_fct.iloc[:,np.r_[:variables_to_examine,-1]]\n",
    "\n",
    "# Split data into 75% training, 12.5% validation, 12.5% test\n",
    "train, valid = train_test_split(data_of_interest, test_size=0.25, random_state=123)\n",
    "\n",
    "valid, test = train_test_split(valid, test_size=0.5, random_state=123)\n",
    "\n",
    "# X is unlabeled training data, y is true training labels \n",
    "X, y = train.loc[:, train.columns != 'cluster'], train['cluster']\n",
    "\n",
    "X_valid, y_valid = valid.loc[:, train.columns != 'cluster'], valid['cluster']\n",
    "\n",
    "X_test, y_test = test.loc[:, test.columns != 'cluster'], test['cluster']"
   ]
  },
  {
   "cell_type": "markdown",
   "metadata": {},
   "source": [
    "#### Classifier Loop"
   ]
  },
  {
   "cell_type": "code",
   "execution_count": 45,
   "metadata": {},
   "outputs": [],
   "source": [
    "clf_scores = []\n",
    "\n",
    "clf1 = RandomForestClassifier(random_state=0)\n",
    "clf2 = GradientBoostingClassifier(random_state=0)\n",
    "clf3 = SVC(random_state=0)\n",
    "clf4 = KNeighborsClassifier()\n",
    "\n",
    "classifiers = [['rf', clf1], ['gbt', clf2], ['svc', clf3], ['knn', clf4]]\n",
    "\n",
    "for classifier in classifiers:\n",
    "    \n",
    "    # Fit classifier to training data\n",
    "    classifier[1].fit(X,y)    \n",
    "    \n",
    "    # Store classifier-specific results [algorithm object, classifier name, scores]\n",
    "    results = [classifier[1], classifier[0], classifier[1].score(X_valid,y_valid)]\n",
    "\n",
    "    # Overall classifier results\n",
    "    clf_scores.append(results)\n",
    "\n",
    "# Sort classifier accuracy in descending order\n",
    "clf_scores = sorted(clf_scores, key=itemgetter(1), reverse=True)    "
   ]
  },
  {
   "cell_type": "markdown",
   "metadata": {},
   "source": [
    "#### View feature importance"
   ]
  },
  {
   "cell_type": "code",
   "execution_count": 37,
   "metadata": {},
   "outputs": [
    {
     "data": {
      "image/png": "[encoded data removed]",
      "text/plain": [
       "<Figure size 576x288 with 1 Axes>"
      ]
     },
     "metadata": {},
     "output_type": "display_data"
    }
   ],
   "source": [
    "importance = pd.DataFrame({'variable': list(range(1,37)),\n",
    "                           'rf': clf1.feature_importances_,\n",
    "                           'gbt': clf2.feature_importances_,})\n",
    "\n",
    "# Average variable importance of rf and gbt models\n",
    "importance['avg'] = (importance['rf']+importance['gbt'])/2\n",
    "\n",
    "# Put the average importances on a scale from 0 to 1 to make it easier to visualize\n",
    "importance['Relative Importance'] = np.interp(importance['avg'], (importance['avg'].min(), importance['avg'].max()), (0, 1))\n",
    "\n",
    "# View top 10 variables when RF and GBT models are averaged\n",
    "top_10_avg = importance.sort_values(by='avg', ascending=False)[['avg', 'Relative Importance']].head(10)\n",
    "\n",
    "# 7 out of 10 of the top variables appear in both lists\n",
    "\n",
    "# Add variable rank column to dataframe\n",
    "importance_rank = list(range(1,37))\n",
    "importance = importance.sort_values(by='Relative Importance', ascending=False)\n",
    "importance['rank'] = importance_rank\n",
    "importance.reset_index(inplace=True)\n",
    "\n",
    "# Visualize relative importance of stimuli\n",
    "fig, ax = plt.subplots(figsize=(8,4))\n",
    "\n",
    "ax.bar(x=importance.variable, height=importance['Relative Importance'], tick_label=importance.variable)\n",
    "plt.xlabel(\"Variable\", fontsize=12)\n",
    "plt.ylabel(\"Relative Importance\", fontsize=12)\n",
    "plt.title(\"Relative Importance of Stimuli in Classification\", fontsize=14, pad=10)\n",
    "plt.savefig('Images/relative_importance.png')\n",
    "plt.show()"
   ]
  },
  {
   "cell_type": "markdown",
   "metadata": {},
   "source": [
    "### Testing final accuracy of model with selected best model"
   ]
  },
  {
   "cell_type": "code",
   "execution_count": 38,
   "metadata": {},
   "outputs": [
    {
     "name": "stdout",
     "output_type": "stream",
     "text": [
      "Raw data: 90.566% accuracy\n",
      "Binary variables: 73.585% accuracy\n"
     ]
    }
   ],
   "source": [
    "# Changes dataset into 0s and 1s depending on the value of the cell\n",
    "X_test_zero_one = X_test.mask(data_of_interest > 0, 1).mask(data_of_interest <= 0, 0)\n",
    "\n",
    "# Raw data accuracy = 0.9056603773584906\n",
    "print(f'Raw data: {round(clf_scores[0][0].score(X_test,y_test),5)*100}% accuracy')\n",
    "\n",
    "# Binary variables accuracy = 0.7358490566037735\n",
    "print(f'Binary variables: {round(clf_scores[0][0].score(X_test_zero_one,y_test),5)*100}% accuracy')\n",
    "\n",
    "# That seems like a pretty significant difference"
   ]
  },
  {
   "cell_type": "markdown",
   "metadata": {},
   "source": [
    "## Model Quality: Target Shuffling\n",
    "\n",
    "We decided to use target shuffling to assess the quality of the classification model.  The final model results are compared to scores for 10,000 random shuffles of the target variable, with the resulting difference charted in the histogram below."
   ]
  },
  {
   "cell_type": "code",
   "execution_count": 48,
   "metadata": {},
   "outputs": [
    {
     "data": {
      "image/png": "[encoded data removed]",
      "text/plain": [
       "<Figure size 432x288 with 1 Axes>"
      ]
     },
     "metadata": {},
     "output_type": "display_data"
    }
   ],
   "source": [
    "# Create a list of the scores for the model and the shuffles\n",
    "accuracy_dist = []\n",
    "\n",
    "# Accuracy score for the true raw data\n",
    "accuracy_dist.append(round(clf_scores[0][0].score(X_test,y_test),5)*100)\n",
    "\n",
    "# Loop shuffles the target variable and scores the model on that shuffle\n",
    "for i in range(10000):\n",
    "    shuffled_target = y_test.sample(frac=1)\n",
    "    accuracy_dist.append(round(clf_scores[0][0].score(X_test,shuffled_target),3)*100)\n",
    "\n",
    "# Create histogram of target shuffling model accuracy\n",
    "fig, ax = plt.subplots()\n",
    "\n",
    "sn.set_style('white')\n",
    "\n",
    "ax = sn.histplot(accuracy_dist, binwidth=4, alpha=0.3)\n",
    "plt.xlabel(\"Percent Accuracy\")\n",
    "plt.title(\"Histogram of Target Shuffling Model Accuracy\", fontsize=14, pad=10)\n",
    "ax.xaxis.set_major_formatter(PercentFormatter())\n",
    "plt.axvline(90.566, linestyle='dashed', linewidth=1, color='k')\n",
    "plt.text(90, 1500, f'Model Accuracy\\n{round(accuracy_dist[0],2)}%', ha='right')\n",
    "plt.axvline(62.2, linestyle='dashed', linewidth=1, color='k')\n",
    "plt.text(63, 2000, f'Random Classification\\n{round(np.mean(accuracy_dist[1:]),2)}%', ha='left')\n",
    "plt.savefig('Images/target_shuffling_accuracy.png')\n",
    "\n",
    "plt.show()"
   ]
  }
 ],
 "metadata": {
  "kernelspec": {
   "display_name": "Python 3",
   "language": "python",
   "name": "python3"
  },
  "language_info": {
   "codemirror_mode": {
    "name": "ipython",
    "version": 3
   },
   "file_extension": ".py",
   "mimetype": "text/x-python",
   "name": "python",
   "nbconvert_exporter": "python",
   "pygments_lexer": "ipython3",
   "version": "3.7.6"
  }
 },
 "nbformat": 4,
 "nbformat_minor": 4
}
