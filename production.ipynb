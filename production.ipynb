{
 "cells": [
  {
   "cell_type": "code",
   "execution_count": null,
   "metadata": {},
   "outputs": [],
   "source": [
    "# pip install factor_analyzer\n",
    "# !pip install https://github.com/pandas-profiling/pandas-profiling/archive/master.zip\n",
    "# conda install -c conda-forge scikit-learn-extra"
   ]
  },
  {
   "cell_type": "code",
   "execution_count": 1,
   "metadata": {},
   "outputs": [],
   "source": [
    "import pandas as pd\n",
    "from factor_analyzer import FactorAnalyzer\n",
    "import sklearn.datasets\n",
    "import matplotlib.pyplot as plt\n",
    "import seaborn as sn\n",
    "import numpy as np\n",
    "from pandas_profiling import ProfileReport\n",
    "from sklearn.model_selection import train_test_split\n",
    "from sklearn.cluster import KMeans\n",
    "from sklearn_extra.cluster import KMedoids\n",
    "from sklearn.metrics import silhouette_samples, silhouette_score\n",
    "from operator import itemgetter\n",
    "from sklearn.ensemble import RandomForestClassifier\n",
    "from sklearn.ensemble import GradientBoostingClassifier\n",
    "import scipy.cluster.hierarchy as sch\n",
    "from sklearn.cluster import AgglomerativeClustering"
   ]
  },
  {
   "cell_type": "markdown",
   "metadata": {},
   "source": [
    "## Dataset Creation\n",
    "The primary dataframe we will be working with is df_fct, which is a dataframe composed of only the 36 factor variables."
   ]
  },
  {
   "cell_type": "code",
   "execution_count": 61,
   "metadata": {},
   "outputs": [],
   "source": [
    "# Create dataframe from customer_data file\n",
    "df = pd.read_csv('customer_data.csv')\n",
    "\n",
    "# Create dataframe of factors only\n",
    "df_fct =  df.drop(['UID','Const'], axis=1)"
   ]
  },
  {
   "cell_type": "markdown",
   "metadata": {},
   "source": [
    "## Factor Analysis\n",
    "\n",
    "The variables are all on a similar scale, so we will use the covariance matrix for identifying principal components."
   ]
  },
  {
   "cell_type": "code",
   "execution_count": 21,
   "metadata": {},
   "outputs": [
    {
     "data": {
      "text/html": [
       "<div>\n",
       "<style scoped>\n",
       "    .dataframe tbody tr th:only-of-type {\n",
       "        vertical-align: middle;\n",
       "    }\n",
       "\n",
       "    .dataframe tbody tr th {\n",
       "        vertical-align: top;\n",
       "    }\n",
       "\n",
       "    .dataframe thead th {\n",
       "        text-align: right;\n",
       "    }\n",
       "</style>\n",
       "<table border=\"1\" class=\"dataframe\">\n",
       "  <thead>\n",
       "    <tr style=\"text-align: right;\">\n",
       "      <th></th>\n",
       "      <th>0</th>\n",
       "      <th>1</th>\n",
       "      <th>2</th>\n",
       "      <th>3</th>\n",
       "      <th>4</th>\n",
       "      <th>5</th>\n",
       "      <th>6</th>\n",
       "      <th>7</th>\n",
       "    </tr>\n",
       "  </thead>\n",
       "  <tbody>\n",
       "    <tr>\n",
       "      <th>0</th>\n",
       "      <td>-0.320393</td>\n",
       "      <td>0.453115</td>\n",
       "      <td>-0.574211</td>\n",
       "      <td>-0.203965</td>\n",
       "      <td>-0.228620</td>\n",
       "      <td>0.192364</td>\n",
       "      <td>0.184343</td>\n",
       "      <td>0.247107</td>\n",
       "    </tr>\n",
       "    <tr>\n",
       "      <th>1</th>\n",
       "      <td>-0.201729</td>\n",
       "      <td>-0.552065</td>\n",
       "      <td>1.248292</td>\n",
       "      <td>0.657975</td>\n",
       "      <td>-0.780350</td>\n",
       "      <td>-0.233010</td>\n",
       "      <td>0.103988</td>\n",
       "      <td>0.012951</td>\n",
       "    </tr>\n",
       "    <tr>\n",
       "      <th>2</th>\n",
       "      <td>0.053185</td>\n",
       "      <td>0.407005</td>\n",
       "      <td>1.080822</td>\n",
       "      <td>0.443553</td>\n",
       "      <td>0.119964</td>\n",
       "      <td>0.360981</td>\n",
       "      <td>0.174121</td>\n",
       "      <td>-0.550133</td>\n",
       "    </tr>\n",
       "    <tr>\n",
       "      <th>3</th>\n",
       "      <td>-0.576393</td>\n",
       "      <td>-0.537746</td>\n",
       "      <td>-0.400512</td>\n",
       "      <td>0.295972</td>\n",
       "      <td>0.224316</td>\n",
       "      <td>-0.712317</td>\n",
       "      <td>0.503526</td>\n",
       "      <td>0.538692</td>\n",
       "    </tr>\n",
       "    <tr>\n",
       "      <th>4</th>\n",
       "      <td>0.215408</td>\n",
       "      <td>-0.005269</td>\n",
       "      <td>-0.956114</td>\n",
       "      <td>0.986772</td>\n",
       "      <td>-0.457368</td>\n",
       "      <td>0.359107</td>\n",
       "      <td>0.229643</td>\n",
       "      <td>0.104415</td>\n",
       "    </tr>\n",
       "    <tr>\n",
       "      <th>...</th>\n",
       "      <td>...</td>\n",
       "      <td>...</td>\n",
       "      <td>...</td>\n",
       "      <td>...</td>\n",
       "      <td>...</td>\n",
       "      <td>...</td>\n",
       "      <td>...</td>\n",
       "      <td>...</td>\n",
       "    </tr>\n",
       "    <tr>\n",
       "      <th>419</th>\n",
       "      <td>-1.042005</td>\n",
       "      <td>-0.975928</td>\n",
       "      <td>0.292017</td>\n",
       "      <td>0.077903</td>\n",
       "      <td>-1.884163</td>\n",
       "      <td>-0.672287</td>\n",
       "      <td>0.688665</td>\n",
       "      <td>0.477339</td>\n",
       "    </tr>\n",
       "    <tr>\n",
       "      <th>420</th>\n",
       "      <td>0.487004</td>\n",
       "      <td>-0.541245</td>\n",
       "      <td>-0.140340</td>\n",
       "      <td>0.784496</td>\n",
       "      <td>0.859532</td>\n",
       "      <td>2.039539</td>\n",
       "      <td>1.414266</td>\n",
       "      <td>-1.362369</td>\n",
       "    </tr>\n",
       "    <tr>\n",
       "      <th>421</th>\n",
       "      <td>0.393437</td>\n",
       "      <td>0.753155</td>\n",
       "      <td>0.331564</td>\n",
       "      <td>-0.091108</td>\n",
       "      <td>0.448870</td>\n",
       "      <td>-1.874029</td>\n",
       "      <td>-0.851719</td>\n",
       "      <td>0.514225</td>\n",
       "    </tr>\n",
       "    <tr>\n",
       "      <th>422</th>\n",
       "      <td>-0.068717</td>\n",
       "      <td>1.447157</td>\n",
       "      <td>1.108519</td>\n",
       "      <td>-0.360980</td>\n",
       "      <td>0.117049</td>\n",
       "      <td>-0.584465</td>\n",
       "      <td>0.425051</td>\n",
       "      <td>0.799894</td>\n",
       "    </tr>\n",
       "    <tr>\n",
       "      <th>423</th>\n",
       "      <td>0.026104</td>\n",
       "      <td>0.725407</td>\n",
       "      <td>-0.166553</td>\n",
       "      <td>0.438245</td>\n",
       "      <td>0.079299</td>\n",
       "      <td>-0.132824</td>\n",
       "      <td>-0.332868</td>\n",
       "      <td>0.201130</td>\n",
       "    </tr>\n",
       "  </tbody>\n",
       "</table>\n",
       "<p>424 rows × 8 columns</p>\n",
       "</div>"
      ],
      "text/plain": [
       "            0         1         2         3         4         5         6  \\\n",
       "0   -0.320393  0.453115 -0.574211 -0.203965 -0.228620  0.192364  0.184343   \n",
       "1   -0.201729 -0.552065  1.248292  0.657975 -0.780350 -0.233010  0.103988   \n",
       "2    0.053185  0.407005  1.080822  0.443553  0.119964  0.360981  0.174121   \n",
       "3   -0.576393 -0.537746 -0.400512  0.295972  0.224316 -0.712317  0.503526   \n",
       "4    0.215408 -0.005269 -0.956114  0.986772 -0.457368  0.359107  0.229643   \n",
       "..        ...       ...       ...       ...       ...       ...       ...   \n",
       "419 -1.042005 -0.975928  0.292017  0.077903 -1.884163 -0.672287  0.688665   \n",
       "420  0.487004 -0.541245 -0.140340  0.784496  0.859532  2.039539  1.414266   \n",
       "421  0.393437  0.753155  0.331564 -0.091108  0.448870 -1.874029 -0.851719   \n",
       "422 -0.068717  1.447157  1.108519 -0.360980  0.117049 -0.584465  0.425051   \n",
       "423  0.026104  0.725407 -0.166553  0.438245  0.079299 -0.132824 -0.332868   \n",
       "\n",
       "            7  \n",
       "0    0.247107  \n",
       "1    0.012951  \n",
       "2   -0.550133  \n",
       "3    0.538692  \n",
       "4    0.104415  \n",
       "..        ...  \n",
       "419  0.477339  \n",
       "420 -1.362369  \n",
       "421  0.514225  \n",
       "422  0.799894  \n",
       "423  0.201130  \n",
       "\n",
       "[424 rows x 8 columns]"
      ]
     },
     "execution_count": 21,
     "metadata": {},
     "output_type": "execute_result"
    }
   ],
   "source": [
    "# Create factor analysis object and perform factor analysis\n",
    "fa = FactorAnalyzer(n_factors=len(df_fct.columns), rotation=None)\n",
    "fa.fit(df_fct)\n",
    "\n",
    "# Check Eigenvalues\n",
    "ev, v = fa.get_eigenvalues()\n",
    "\n",
    "# Create FactorAnalyzer object\n",
    "rotation = 'varimax'\n",
    "n_factors = sum(i >= 1 for i in ev)\n",
    "fa = FactorAnalyzer(n_factors=n_factors, rotation=rotation)\n",
    "\n",
    "# Fit factor analysis model to variables\n",
    "fa.fit(df_fct)\n",
    "\n",
    "# The loadings are the coefficients that make up the linear combination of original variables to get the factors (v1 = l1x1 + l2X2)\n",
    "loadings = fa.loadings_\n",
    "\n",
    "# Create dataframe of eigenvalues of the covariance matrix\n",
    "\n",
    "data = {'factor'                    : range(1,n_factors+1),\n",
    "        'eigenvalues'               : fa.get_eigenvalues()[0][0:n_factors],\n",
    "        'common_factor_eigenvalues' : fa.get_eigenvalues()[1][0:n_factors],\n",
    "        'variance'                  : fa.get_factor_variance()[0],\n",
    "        'proportional_variance'     : fa.get_factor_variance()[1],\n",
    "        'cumulative_variance'       : fa.get_factor_variance()[2]\n",
    "       }\n",
    "\n",
    "cov_matrix_eigenvals = pd.DataFrame(data=data).set_index('factor')\n",
    "\n",
    "# Scores for the factor analysis, converted to dataframe\n",
    "scores = pd.DataFrame(fa.transform(df_fct))\n",
    "scores"
   ]
  },
  {
   "cell_type": "markdown",
   "metadata": {},
   "source": [
    "### Clustering"
   ]
  },
  {
   "cell_type": "code",
   "execution_count": 64,
   "metadata": {},
   "outputs": [
    {
     "name": "stdout",
     "output_type": "stream",
     "text": [
      "2 k-medoid clusters: 0.224\n",
      "3 k-medoid clusters: 0.164\n",
      "4 k-medoid clusters: 0.158\n",
      "5 k-medoid clusters: 0.1\n",
      "6 k-medoid clusters: 0.168\n",
      "2 k-means clusters: 0.232\n",
      "3 k-means clusters: 0.205\n",
      "4 k-means clusters: 0.213\n",
      "5 k-means clusters: 0.248\n",
      "6 k-means clusters: 0.25\n"
     ]
    }
   ],
   "source": [
    "sw=[]\n",
    "\n",
    "for i in range (2,7):\n",
    "    i_stats = []\n",
    "    algorithm = \"kMedoids\"\n",
    "    kMedoids = KMedoids(n_clusters=i, random_state=0)\n",
    "    kMedoids.fit(scores)\n",
    "    clusters=kMedoids.fit_predict(scores)\n",
    "    silhouette_avg = silhouette_score(scores,clusters)  # 1 is a perfect score, -1 is worst score\n",
    "    i_stats.append(algorithm)\n",
    "    i_stats.append(i)\n",
    "    i_stats.append(silhouette_avg)\n",
    "    i_stats.append(clusters)\n",
    "    sw.append(i_stats)\n",
    "    print(f\"{i} k-medoid clusters: {round(silhouette_avg,3)}\")\n",
    "\n",
    "for i in range (2,7):\n",
    "    i_stats = []\n",
    "    algorithm = \"kMeans\"\n",
    "    kMeans = KMeans(n_clusters=i, random_state=0)\n",
    "    kMeans.fit(scores)\n",
    "    clusters=kMeans.labels_\n",
    "    silhouette_avg = silhouette_score(scores,clusters)  # 1 is a perfect score, -1 is worst score\n",
    "    i_stats.append(algorithm)\n",
    "    i_stats.append(i)\n",
    "    i_stats.append(silhouette_avg)\n",
    "    i_stats.append(clusters)\n",
    "    sw.append(i_stats)\n",
    "    print(f\"{i} k-means clusters: {round(silhouette_avg,3)}\")\n",
    "    \n",
    "for i in range (2,7):\n",
    "    i_stats = []\n",
    "    algorithm = \"hierarchical\"\n",
    "    hc = AgglomerativeClustering(n_clusters = i, affinity = 'euclidean', linkage ='ward') #if linkage is ward, affinity must be Euclidean\n",
    "    hc.fit_predict(scores)\n",
    "    clusters=hc.labels_\n",
    "    silhouette_avg = silhouette_score(scores,clusters)  # 1 is a perfect score, -1 is worst score\n",
    "    i_stats.append(algorithm)\n",
    "    i_stats.append(i)\n",
    "    i_stats.append(silhouette_avg)\n",
    "    i_stats.append(clusters)\n",
    "    sw.append(i_stats)\n",
    "    df_fct[algorithm+'_'+'cluster'+'_'+str(i)] = clusters\n",
    "    print(f\"{i} hierarchical clusters: {round(silhouette_avg,3)}\")\n",
    "\n",
    "# Reorder cluster lists by descending silhouette scores.  Clusters in first element should be assigned to training data.\n",
    "sw = sorted(sw, key=itemgetter(2), reverse=True)\n",
    "\n",
    "# Add the labels to the training dataset (you can ignore the warning when the cell runs)\n",
    "df_fct['cluster'] = sw[0][3]  # Remember to change this back to 0 afterward"
   ]
  },
  {
   "cell_type": "markdown",
   "metadata": {},
   "source": [
    "### Classification"
   ]
  },
  {
   "cell_type": "code",
   "execution_count": 52,
   "metadata": {},
   "outputs": [],
   "source": [
    "clf_scores = []\n",
    "\n",
    "# Split data into 80% training, 20% test\n",
    "train, test = train_test_split(df_fct, test_size=0.2, random_state=123)\n",
    "\n",
    "# X is unlabeled training data, y is true training labels \n",
    "X, y = train.loc[:, train.columns != 'cluster'], train['cluster']\n",
    "\n",
    "X_test, y_test = test.loc[:, test.columns != 'cluster'], test['cluster']"
   ]
  },
  {
   "cell_type": "markdown",
   "metadata": {},
   "source": [
    "#### Random Forest"
   ]
  },
  {
   "cell_type": "code",
   "execution_count": 53,
   "metadata": {},
   "outputs": [
    {
     "name": "stdout",
     "output_type": "stream",
     "text": [
      "0.788235294117647\n"
     ]
    }
   ],
   "source": [
    "alg = 'random_forest'\n",
    "\n",
    "# Create the Random Forest object\n",
    "clf = RandomForestClassifier(random_state=0)\n",
    "\n",
    "# Fit the model to the training data\n",
    "clf.fit(X,y)\n",
    "\n",
    "# Score model\n",
    "print(clf.score(X_test,y_test))\n",
    "\n",
    "results = []\n",
    "results.append(alg)\n",
    "results.append(clf.score(X_test,y_test))\n",
    "\n",
    "clf_scores.append(results)"
   ]
  },
  {
   "cell_type": "markdown",
   "metadata": {},
   "source": [
    "##### RF Grid Search CV"
   ]
  },
  {
   "cell_type": "code",
   "execution_count": 54,
   "metadata": {},
   "outputs": [
    {
     "name": "stdout",
     "output_type": "stream",
     "text": [
      "{'bootstrap': [True, False],\n",
      " 'max_depth': [10, 14, 18, 23, 27, 32, 36, 41, 45, 50, None],\n",
      " 'max_features': ['sqrt', 3.7],\n",
      " 'min_samples_leaf': [1, 2, 4],\n",
      " 'min_samples_split': [2, 5, 10],\n",
      " 'n_estimators': [100, 136, 172, 208, 244, 280, 316, 352, 388, 424]}\n"
     ]
    }
   ],
   "source": [
    "from sklearn.model_selection import RandomizedSearchCV\n",
    "from pprint import pprint\n",
    "\n",
    "# Number of trees in random forest\n",
    "n_estimators = [int(x) for x in np.linspace(start = 100, stop = len(df_fct), num = 10)]\n",
    "\n",
    "# Number of features to consider at every split\n",
    "max_features = ['sqrt', len(df_fct.columns)*0.1]\n",
    "\n",
    "# Maximum number of levels in tree\n",
    "max_depth = [int(x) for x in np.linspace(10, 50, num = 10)]\n",
    "max_depth.append(None)\n",
    "\n",
    "# Minimum number of samples required to split a node\n",
    "min_samples_split = [2, 5, 10]\n",
    "\n",
    "# Minimum number of samples required at each leaf node\n",
    "min_samples_leaf = [1, 2, 4]\n",
    "\n",
    "# Method of selecting samples for training each tree\n",
    "bootstrap = [True, False]\n",
    "\n",
    "# Create the random grid\n",
    "random_grid = {'n_estimators': n_estimators,\n",
    "               'max_features': max_features,\n",
    "               'max_depth': max_depth,\n",
    "               'min_samples_split': min_samples_split,\n",
    "               'min_samples_leaf': min_samples_leaf,\n",
    "               'bootstrap': bootstrap}\n",
    "\n",
    "pprint(random_grid)"
   ]
  },
  {
   "cell_type": "code",
   "execution_count": 55,
   "metadata": {},
   "outputs": [
    {
     "name": "stdout",
     "output_type": "stream",
     "text": [
      "Fitting 5 folds for each of 100 candidates, totalling 500 fits\n"
     ]
    },
    {
     "name": "stderr",
     "output_type": "stream",
     "text": [
      "[Parallel(n_jobs=-1)]: Using backend LokyBackend with 8 concurrent workers.\n",
      "[Parallel(n_jobs=-1)]: Done  16 tasks      | elapsed:    5.9s\n",
      "[Parallel(n_jobs=-1)]: Done 112 tasks      | elapsed:   21.2s\n",
      "[Parallel(n_jobs=-1)]: Done 272 tasks      | elapsed:   36.8s\n",
      "[Parallel(n_jobs=-1)]: Done 500 out of 500 | elapsed:  1.1min finished\n"
     ]
    },
    {
     "data": {
      "text/plain": [
       "RandomizedSearchCV(cv=5, error_score=nan,\n",
       "                   estimator=RandomForestClassifier(bootstrap=True,\n",
       "                                                    ccp_alpha=0.0,\n",
       "                                                    class_weight=None,\n",
       "                                                    criterion='gini',\n",
       "                                                    max_depth=None,\n",
       "                                                    max_features='auto',\n",
       "                                                    max_leaf_nodes=None,\n",
       "                                                    max_samples=None,\n",
       "                                                    min_impurity_decrease=0.0,\n",
       "                                                    min_impurity_split=None,\n",
       "                                                    min_samples_leaf=1,\n",
       "                                                    min_samples_split=2,\n",
       "                                                    min_weight_fraction_leaf=0.0,\n",
       "                                                    n_estimators=100,\n",
       "                                                    n_jobs...\n",
       "                   iid='deprecated', n_iter=100, n_jobs=-1,\n",
       "                   param_distributions={'bootstrap': [True, False],\n",
       "                                        'max_depth': [10, 14, 18, 23, 27, 32,\n",
       "                                                      36, 41, 45, 50, None],\n",
       "                                        'max_features': ['sqrt', 3.7],\n",
       "                                        'min_samples_leaf': [1, 2, 4],\n",
       "                                        'min_samples_split': [2, 5, 10],\n",
       "                                        'n_estimators': [100, 136, 172, 208,\n",
       "                                                         244, 280, 316, 352,\n",
       "                                                         388, 424]},\n",
       "                   pre_dispatch='2*n_jobs', random_state=0, refit=True,\n",
       "                   return_train_score=False, scoring=None, verbose=3)"
      ]
     },
     "execution_count": 55,
     "metadata": {},
     "output_type": "execute_result"
    }
   ],
   "source": [
    "# Use the random grid to search for best hyperparameters\n",
    "# First create the base model to tune\n",
    "rf = RandomForestClassifier()\n",
    "\n",
    "# Random search of parameters, using 3 fold cross validation, \n",
    "# search across 100 different combinations, and use all available cores\n",
    "rf_random = RandomizedSearchCV(estimator = rf, param_distributions = random_grid, n_iter = 100, cv = 5, verbose=3, random_state=0, n_jobs = -1)\n",
    "\n",
    "# Fit the random search model\n",
    "rf_random.fit(X, y)"
   ]
  },
  {
   "cell_type": "code",
   "execution_count": 56,
   "metadata": {},
   "outputs": [
    {
     "data": {
      "text/plain": [
       "{'n_estimators': 352,\n",
       " 'min_samples_split': 5,\n",
       " 'min_samples_leaf': 2,\n",
       " 'max_features': 'sqrt',\n",
       " 'max_depth': 10,\n",
       " 'bootstrap': False}"
      ]
     },
     "execution_count": 56,
     "metadata": {},
     "output_type": "execute_result"
    }
   ],
   "source": [
    "rf_random.best_params_"
   ]
  },
  {
   "cell_type": "code",
   "execution_count": 57,
   "metadata": {},
   "outputs": [
    {
     "data": {
      "text/plain": [
       "0.7647058823529411"
      ]
     },
     "execution_count": 57,
     "metadata": {},
     "output_type": "execute_result"
    }
   ],
   "source": [
    "best_random = rf_random.best_estimator_\n",
    "\n",
    "best_random.score(X_test, y_test)"
   ]
  },
  {
   "cell_type": "markdown",
   "metadata": {},
   "source": [
    "#### Gradient Boosting"
   ]
  },
  {
   "cell_type": "code",
   "execution_count": 58,
   "metadata": {},
   "outputs": [
    {
     "name": "stdout",
     "output_type": "stream",
     "text": [
      "0.7764705882352941\n"
     ]
    }
   ],
   "source": [
    "alg = 'gradient_boosting'\n",
    "\n",
    "# Create the Random Forest object\n",
    "clf = GradientBoostingClassifier(random_state=0)\n",
    "\n",
    "# Fit the model to the training data\n",
    "clf.fit(X,y)\n",
    "\n",
    "# Score model\n",
    "print(clf.score(X_test,y_test))\n",
    "\n",
    "results = []\n",
    "results.append(alg)\n",
    "results.append(clf.score(X_test,y_test))\n",
    "\n",
    "clf_scores.append(results)"
   ]
  },
  {
   "cell_type": "markdown",
   "metadata": {},
   "source": [
    "#### Support Vector Machine"
   ]
  },
  {
   "cell_type": "code",
   "execution_count": 59,
   "metadata": {},
   "outputs": [],
   "source": [
    "from sklearn.svm import SVC\n",
    "\n",
    "alg = 'support_vector_machine'\n",
    "\n",
    "clf = SVC()\n",
    "clf.fit(X, y)\n",
    "clf.score(X_test,y_test)\n",
    "\n",
    "results = []\n",
    "results.append(alg)\n",
    "results.append(clf.score(X_test,y_test))\n",
    "\n",
    "clf_scores.append(results)\n",
    "\n",
    "# Note, you can update the paramters like \n",
    "# model = SVC(C=10)\n",
    "# model = SVC(gamma=100)\n",
    "# from sklearn.svm import SVC\n",
    "# model = SVC()\n",
    "\n",
    "# model.fit(X_train, y_train)\n",
    "\n",
    "# model.score(X_test,y_test)\n",
    "\n",
    "# Note, you can update the paramters like \n",
    "# model = SVC(C=10)\n",
    "# model = SVC(kernel='linear')\n",
    "\n",
    "# Note: use Shift + Tab for the different options to pop up."
   ]
  },
  {
   "cell_type": "code",
   "execution_count": 60,
   "metadata": {},
   "outputs": [
    {
     "data": {
      "text/plain": [
       "[['support_vector_machine', 0.8705882352941177],\n",
       " ['random_forest', 0.788235294117647],\n",
       " ['gradient_boosting', 0.7764705882352941]]"
      ]
     },
     "execution_count": 60,
     "metadata": {},
     "output_type": "execute_result"
    }
   ],
   "source": [
    "clf_scores = sorted(clf_scores, key=itemgetter(1), reverse=True)\n",
    "\n",
    "clf_scores"
   ]
  },
  {
   "cell_type": "markdown",
   "metadata": {},
   "source": [
    "#### Ensembling with VotingClassifier"
   ]
  },
  {
   "cell_type": "code",
   "execution_count": 137,
   "metadata": {},
   "outputs": [],
   "source": [
    "from sklearn.ensemble import VotingClassifier"
   ]
  },
  {
   "cell_type": "code",
   "execution_count": 138,
   "metadata": {},
   "outputs": [
    {
     "name": "stdout",
     "output_type": "stream",
     "text": [
      "Mean Accuracy: 92.94%\n"
     ]
    }
   ],
   "source": [
    "clf1 = RandomForestClassifier(random_state=0)\n",
    "clf2 = GradientBoostingClassifier(random_state=0)\n",
    "\n",
    "eclf = VotingClassifier(estimators=[('rf', clf1), ('gb', clf2)], voting='hard')\n",
    "eclf = eclf.fit(X,y)\n",
    "\n",
    "eclf_scores = eclf.score(X_test,y_test)\n",
    "\n",
    "print(\"Mean Accuracy: \", round(eclf_scores*100,2), '%', sep='')"
   ]
  },
  {
   "cell_type": "markdown",
   "metadata": {},
   "source": [
    "**Next Steps**\n",
    "* Is there an AutoML library for clustering/classification that we can use to autocluster and autoclassify\n",
    "* Can we convert/bin all variable values to 1, 2, or 3 and then run the classification on that?\n",
    "* If we look across rows, that will show an individual's preferences.  If we look down columns, that will show population preferences.\n",
    "* Ensembling classifiers\n",
    "* Adding and ensembling cluster algorithms\n",
    "* Hyperparameter tuning on classifiers\n",
    "* Meet with someone from NC State who can give some input"
   ]
  },
  {
   "cell_type": "code",
   "execution_count": 57,
   "metadata": {},
   "outputs": [],
   "source": [
    "importance = pd.DataFrame(clf.feature_importances_)"
   ]
  },
  {
   "cell_type": "code",
   "execution_count": 60,
   "metadata": {},
   "outputs": [
    {
     "data": {
      "text/plain": [
       "<AxesSubplot:>"
      ]
     },
     "execution_count": 60,
     "metadata": {},
     "output_type": "execute_result"
    },
    {
     "data": {
      "image/png": "[encoded data removed]",
      "text/plain": [
       "<Figure size 432x288 with 1 Axes>"
      ]
     },
     "metadata": {
      "needs_background": "light"
     },
     "output_type": "display_data"
    }
   ],
   "source": [
    "importance.plot(kind='bar')"
   ]
  },
  {
   "cell_type": "markdown",
   "metadata": {},
   "source": [
    "## The Big Picture\n",
    "\n",
    "Start with raw, unlabeled data - 400 data points in the population\n",
    "\n",
    "Cluster and label all 400 data points\n",
    "\n",
    "--- Some time passes, the clusters are evaluated.  Turns out, they are excellent!\n",
    "\n",
    "--- New project comes along to assign clusters/personas to new customers\n",
    "\n",
    "Split the original 400 classified data points and hold out 20% for evaluation\n",
    "\n",
    "Create and evaluate classifiers (RF, Boost) based on the original 400 folks"
   ]
  },
  {
   "cell_type": "markdown",
   "metadata": {},
   "source": [
    "### Other Ideas\n",
    "\n",
    "Look for cluster evaluation\n",
    "\n",
    "Tuning/looping through different factor analysis options\n",
    "\n",
    "DBSCAN clustering algorithm\n",
    "hierarchical clustering\n",
    "k-fold cross-validation\n",
    "\n",
    "Tuning classification algorithm\n",
    "\n",
    "\n",
    "\n",
    "Instead of rotating the factors, we can just use the first 3 factors\n",
    "Plot those 3 factors in 3 dimensions and view clusters"
   ]
  },
  {
   "cell_type": "code",
   "execution_count": 63,
   "metadata": {},
   "outputs": [
    {
     "data": {
      "text/html": [
       "<div>\n",
       "<style scoped>\n",
       "    .dataframe tbody tr th:only-of-type {\n",
       "        vertical-align: middle;\n",
       "    }\n",
       "\n",
       "    .dataframe tbody tr th {\n",
       "        vertical-align: top;\n",
       "    }\n",
       "\n",
       "    .dataframe thead th {\n",
       "        text-align: right;\n",
       "    }\n",
       "</style>\n",
       "<table border=\"1\" class=\"dataframe\">\n",
       "  <thead>\n",
       "    <tr style=\"text-align: right;\">\n",
       "      <th></th>\n",
       "      <th>0</th>\n",
       "      <th>1</th>\n",
       "      <th>2</th>\n",
       "    </tr>\n",
       "  </thead>\n",
       "  <tbody>\n",
       "    <tr>\n",
       "      <th>0</th>\n",
       "      <td>-0.361479</td>\n",
       "      <td>0.511281</td>\n",
       "      <td>0.031665</td>\n",
       "    </tr>\n",
       "    <tr>\n",
       "      <th>1</th>\n",
       "      <td>0.084484</td>\n",
       "      <td>-1.051186</td>\n",
       "      <td>-0.091764</td>\n",
       "    </tr>\n",
       "    <tr>\n",
       "      <th>2</th>\n",
       "      <td>0.976740</td>\n",
       "      <td>0.029938</td>\n",
       "      <td>0.201850</td>\n",
       "    </tr>\n",
       "    <tr>\n",
       "      <th>3</th>\n",
       "      <td>-0.368205</td>\n",
       "      <td>-0.234792</td>\n",
       "      <td>-0.080435</td>\n",
       "    </tr>\n",
       "    <tr>\n",
       "      <th>4</th>\n",
       "      <td>0.038101</td>\n",
       "      <td>-0.307296</td>\n",
       "      <td>-0.062750</td>\n",
       "    </tr>\n",
       "    <tr>\n",
       "      <th>...</th>\n",
       "      <td>...</td>\n",
       "      <td>...</td>\n",
       "      <td>...</td>\n",
       "    </tr>\n",
       "    <tr>\n",
       "      <th>419</th>\n",
       "      <td>-1.388653</td>\n",
       "      <td>-0.942997</td>\n",
       "      <td>0.421107</td>\n",
       "    </tr>\n",
       "    <tr>\n",
       "      <th>420</th>\n",
       "      <td>1.599482</td>\n",
       "      <td>-0.421197</td>\n",
       "      <td>1.638810</td>\n",
       "    </tr>\n",
       "    <tr>\n",
       "      <th>421</th>\n",
       "      <td>0.122759</td>\n",
       "      <td>0.509517</td>\n",
       "      <td>-1.825720</td>\n",
       "    </tr>\n",
       "    <tr>\n",
       "      <th>422</th>\n",
       "      <td>0.822916</td>\n",
       "      <td>0.977341</td>\n",
       "      <td>-0.452744</td>\n",
       "    </tr>\n",
       "    <tr>\n",
       "      <th>423</th>\n",
       "      <td>0.307421</td>\n",
       "      <td>0.466541</td>\n",
       "      <td>-0.656510</td>\n",
       "    </tr>\n",
       "  </tbody>\n",
       "</table>\n",
       "<p>424 rows × 3 columns</p>\n",
       "</div>"
      ],
      "text/plain": [
       "            0         1         2\n",
       "0   -0.361479  0.511281  0.031665\n",
       "1    0.084484 -1.051186 -0.091764\n",
       "2    0.976740  0.029938  0.201850\n",
       "3   -0.368205 -0.234792 -0.080435\n",
       "4    0.038101 -0.307296 -0.062750\n",
       "..        ...       ...       ...\n",
       "419 -1.388653 -0.942997  0.421107\n",
       "420  1.599482 -0.421197  1.638810\n",
       "421  0.122759  0.509517 -1.825720\n",
       "422  0.822916  0.977341 -0.452744\n",
       "423  0.307421  0.466541 -0.656510\n",
       "\n",
       "[424 rows x 3 columns]"
      ]
     },
     "execution_count": 63,
     "metadata": {},
     "output_type": "execute_result"
    }
   ],
   "source": [
    "# Create factor analysis object and perform factor analysis\n",
    "fa = FactorAnalyzer(n_factors=len(df_fct.columns), rotation=None)\n",
    "fa.fit(df_fct)\n",
    "\n",
    "# Check Eigenvalues\n",
    "ev, v = fa.get_eigenvalues()\n",
    "\n",
    "# Create FactorAnalyzer object\n",
    "fa = FactorAnalyzer(n_factors=3, rotation=None)\n",
    "\n",
    "# Fit factor analysis model to variables\n",
    "fa.fit(df_fct)\n",
    "\n",
    "# The loadings are the coefficients that make up the linear combination of original variables to get the factors (v1 = l1x1 + l2X2)\n",
    "loadings = fa.loadings_\n",
    "\n",
    "# Create dataframe of eigenvalues of the covariance matrix\n",
    "\n",
    "data = {'factor'                    : range(1,4),\n",
    "        'eigenvalues'               : fa.get_eigenvalues()[0][0:3],\n",
    "        'common_factor_eigenvalues' : fa.get_eigenvalues()[1][0:3],\n",
    "        'variance'                  : fa.get_factor_variance()[0],\n",
    "        'proportional_variance'     : fa.get_factor_variance()[1],\n",
    "        'cumulative_variance'       : fa.get_factor_variance()[2]\n",
    "       }\n",
    "\n",
    "cov_matrix_eigenvals = pd.DataFrame(data=data).set_index('factor')\n",
    "\n",
    "# Scores for the factor analysis, converted to dataframe\n",
    "scores = pd.DataFrame(fa.transform(df_fct))\n",
    "scores"
   ]
  },
  {
   "cell_type": "code",
   "execution_count": 66,
   "metadata": {},
   "outputs": [
    {
     "data": {
      "text/html": [
       "<div>\n",
       "<style scoped>\n",
       "    .dataframe tbody tr th:only-of-type {\n",
       "        vertical-align: middle;\n",
       "    }\n",
       "\n",
       "    .dataframe tbody tr th {\n",
       "        vertical-align: top;\n",
       "    }\n",
       "\n",
       "    .dataframe thead th {\n",
       "        text-align: right;\n",
       "    }\n",
       "</style>\n",
       "<table border=\"1\" class=\"dataframe\">\n",
       "  <thead>\n",
       "    <tr style=\"text-align: right;\">\n",
       "      <th></th>\n",
       "      <th>0</th>\n",
       "      <th>1</th>\n",
       "      <th>2</th>\n",
       "      <th>cluster</th>\n",
       "    </tr>\n",
       "  </thead>\n",
       "  <tbody>\n",
       "    <tr>\n",
       "      <th>0</th>\n",
       "      <td>-0.361479</td>\n",
       "      <td>0.511281</td>\n",
       "      <td>0.031665</td>\n",
       "      <td>3</td>\n",
       "    </tr>\n",
       "    <tr>\n",
       "      <th>1</th>\n",
       "      <td>0.084484</td>\n",
       "      <td>-1.051186</td>\n",
       "      <td>-0.091764</td>\n",
       "      <td>0</td>\n",
       "    </tr>\n",
       "    <tr>\n",
       "      <th>2</th>\n",
       "      <td>0.976740</td>\n",
       "      <td>0.029938</td>\n",
       "      <td>0.201850</td>\n",
       "      <td>1</td>\n",
       "    </tr>\n",
       "    <tr>\n",
       "      <th>3</th>\n",
       "      <td>-0.368205</td>\n",
       "      <td>-0.234792</td>\n",
       "      <td>-0.080435</td>\n",
       "      <td>3</td>\n",
       "    </tr>\n",
       "    <tr>\n",
       "      <th>4</th>\n",
       "      <td>0.038101</td>\n",
       "      <td>-0.307296</td>\n",
       "      <td>-0.062750</td>\n",
       "      <td>3</td>\n",
       "    </tr>\n",
       "  </tbody>\n",
       "</table>\n",
       "</div>"
      ],
      "text/plain": [
       "          0         1         2  cluster\n",
       "0 -0.361479  0.511281  0.031665        3\n",
       "1  0.084484 -1.051186 -0.091764        0\n",
       "2  0.976740  0.029938  0.201850        1\n",
       "3 -0.368205 -0.234792 -0.080435        3\n",
       "4  0.038101 -0.307296 -0.062750        3"
      ]
     },
     "execution_count": 66,
     "metadata": {},
     "output_type": "execute_result"
    }
   ],
   "source": [
    "scores['cluster'] = df_fct['cluster']\n",
    "scores.head()"
   ]
  },
  {
   "cell_type": "code",
   "execution_count": 82,
   "metadata": {},
   "outputs": [
    {
     "data": {
      "text/plain": [
       "<mpl_toolkits.mplot3d.art3d.Path3DCollection at 0x1459bef2448>"
      ]
     },
     "execution_count": 82,
     "metadata": {},
     "output_type": "execute_result"
    },
    {
     "data": {
      "image/png": "[encoded data removed]",
      "text/plain": [
       "<Figure size 720x720 with 1 Axes>"
      ]
     },
     "metadata": {
      "needs_background": "light"
     },
     "output_type": "display_data"
    }
   ],
   "source": [
    "from mpl_toolkits.mplot3d import axes3d\n",
    "import matplotlib.pyplot as plt\n",
    "\n",
    "fig = plt.figure(figsize=(10,10))\n",
    "ax = fig.add_subplot(111, projection='3d')\n",
    "\n",
    "ax.scatter(scores[0], scores[1], scores[2], c=scores['cluster'], marker='o')\n",
    "\n",
    "\n",
    "# load some test data for demonstration and plot a wireframe\n",
    "# ax.plot_wireframe(scores[0], scores[1], scores[2], rstride=5, cstride=5)"
   ]
  },
  {
   "cell_type": "code",
   "execution_count": 83,
   "metadata": {},
   "outputs": [
    {
     "data": {
      "application/vnd.plotly.v1+json": {
       "config": {
        "plotlyServerURL": "https://plot.ly"
       },
       "data": [
        {
         "hovertemplate": "0=%{x}<br>1=%{y}<br>2=%{z}<br>cluster=%{marker.color}<extra></extra>",
         "legendgroup": "",
         "marker": {
          "color": [
           3,
           0,
           1,
           3,
           3,
           2,
           1,
           4,
           5,
           2,
           3,
           0,
           3,
           3,
           1,
           5,
           1,
           3,
           3,
           1,
           3,
           1,
           3,
           3,
           1,
           0,
           3,
           3,
           3,
           4,
           1,
           3,
           3,
           4,
           3,
           3,
           3,
           3,
           3,
           2,
           0,
           4,
           3,
           3,
           5,
           1,
           3,
           1,
           1,
           1,
           3,
           3,
           3,
           3,
           0,
           1,
           1,
           3,
           3,
           3,
           5,
           3,
           0,
           0,
           5,
           3,
           5,
           0,
           5,
           3,
           4,
           5,
           2,
           3,
           5,
           3,
           3,
           4,
           5,
           5,
           0,
           3,
           1,
           1,
           0,
           3,
           3,
           0,
           1,
           1,
           3,
           1,
           2,
           0,
           5,
           4,
           0,
           3,
           3,
           3,
           3,
           3,
           1,
           3,
           5,
           3,
           0,
           0,
           4,
           3,
           2,
           1,
           1,
           0,
           1,
           1,
           2,
           3,
           1,
           3,
           3,
           3,
           5,
           3,
           3,
           5,
           0,
           0,
           5,
           1,
           1,
           3,
           3,
           3,
           0,
           3,
           1,
           3,
           1,
           3,
           4,
           3,
           2,
           1,
           3,
           0,
           5,
           3,
           4,
           0,
           3,
           5,
           1,
           5,
           5,
           3,
           3,
           1,
           4,
           3,
           4,
           1,
           1,
           4,
           5,
           4,
           3,
           1,
           3,
           1,
           1,
           3,
           4,
           3,
           0,
           2,
           4,
           3,
           3,
           5,
           3,
           3,
           3,
           3,
           3,
           0,
           5,
           3,
           3,
           3,
           5,
           3,
           3,
           3,
           3,
           0,
           0,
           5,
           5,
           3,
           1,
           1,
           3,
           3,
           1,
           3,
           3,
           3,
           3,
           1,
           3,
           1,
           3,
           4,
           4,
           3,
           0,
           3,
           3,
           3,
           3,
           3,
           5,
           5,
           3,
           1,
           3,
           5,
           1,
           4,
           4,
           4,
           3,
           5,
           3,
           1,
           3,
           1,
           0,
           1,
           3,
           2,
           0,
           1,
           5,
           3,
           5,
           3,
           3,
           3,
           1,
           4,
           3,
           3,
           3,
           3,
           0,
           3,
           3,
           1,
           3,
           0,
           3,
           5,
           2,
           3,
           0,
           5,
           3,
           3,
           2,
           4,
           3,
           1,
           4,
           3,
           5,
           3,
           1,
           2,
           3,
           0,
           1,
           0,
           4,
           3,
           0,
           1,
           3,
           1,
           5,
           3,
           3,
           3,
           3,
           5,
           3,
           0,
           3,
           4,
           3,
           3,
           3,
           1,
           1,
           0,
           4,
           3,
           4,
           4,
           1,
           5,
           2,
           3,
           3,
           3,
           4,
           0,
           1,
           3,
           3,
           3,
           1,
           0,
           2,
           5,
           0,
           1,
           1,
           5,
           3,
           3,
           4,
           1,
           4,
           4,
           0,
           1,
           5,
           0,
           3,
           4,
           2,
           5,
           1,
           3,
           0,
           3,
           1,
           3,
           3,
           3,
           3,
           3,
           1,
           5,
           3,
           3,
           1,
           4,
           0,
           1,
           5,
           3,
           1,
           3,
           0,
           0,
           5,
           3,
           5,
           0,
           3,
           3,
           5,
           2,
           4,
           1,
           1,
           1,
           1,
           3,
           5,
           2,
           3,
           4,
           5,
           3,
           2,
           5,
           5,
           5,
           1,
           3,
           5,
           2,
           3,
           3,
           0,
           1,
           1,
           3,
           1,
           0,
           3,
           0,
           1,
           3,
           3,
           3,
           3,
           1,
           3,
           1,
           3,
           3,
           2,
           3,
           1,
           4,
           2,
           5,
           1,
           1
          ],
          "coloraxis": "coloraxis",
          "symbol": "circle"
         },
         "mode": "markers",
         "name": "",
         "scene": "scene",
         "showlegend": false,
         "type": "scatter3d",
         "x": [
          -0.3614789076346994,
          0.08448446703298138,
          0.9767397872206347,
          -0.3682045248135451,
          0.03810108776916149,
          0.0008709059092417845,
          1.0318032517328388,
          -1.7835987342558468,
          -1.7018267140000083,
          -0.43724530146015,
          0.2672285258644185,
          1.135896241843507,
          0.14095428468678614,
          4.846644271073263e-05,
          0.9168404098378218,
          -0.11237265465223617,
          1.2329298856475706,
          -0.2067248078185602,
          -0.06435542397960407,
          0.9423781219413172,
          0.26747020160150076,
          0.551551631268804,
          0.057316313986421674,
          0.06857258053201937,
          4.03146245971752,
          -0.05502741739173697,
          -0.46645973619097403,
          0.0008014611726968442,
          0.05717776480079463,
          -1.3856809398553256,
          1.0268262745818444,
          0.24865559097986514,
          -0.2830951716374131,
          -3.84347197750389,
          0.30989633731529853,
          -0.24926916497262466,
          -0.09500249854510609,
          -0.3427081271593926,
          0.48610923533825506,
          1.0596130612201269,
          0.4188266132218149,
          -1.8638289301524333,
          0.00016024892475027653,
          0.26294579111590327,
          -1.5680009915197959,
          0.8532124143662232,
          0.21164950345717568,
          2.135625036681305,
          0.6528406516681927,
          2.487278918803727,
          0.6421907082138179,
          0.3979912722763816,
          0.0006564514796377304,
          -0.4293687104444225,
          0.89769497521326,
          0.9756639421764273,
          1.805688602587688,
          0.37829194572177155,
          -0.6698821834202433,
          -0.7054436886349877,
          -1.1576655451724722,
          -0.7014662731233603,
          0.20453487200505518,
          0.8023434319508154,
          -0.24066347610269298,
          0.1265486233725783,
          -0.055481120380910076,
          1.7437791739799968,
          -0.822221975871377,
          0.13908823391124892,
          -0.800218610513241,
          -0.6287749079029535,
          -0.9972694019407635,
          -0.3448014047687589,
          -0.654998757483778,
          0.22076111881538446,
          0.17394421627566994,
          -1.091323159633181,
          -0.670287598857829,
          -1.8780776842980145,
          0.6469876227847956,
          -0.49719477754912916,
          1.1499506838538807,
          0.7418908094144275,
          0.030139520053272636,
          -0.3856921170426144,
          0.00031525585028385593,
          0.11844384376379391,
          0.4339808349062057,
          0.6635943330218143,
          0.2453346880458244,
          0.8967322979805683,
          -0.28019401354799467,
          -0.44995207959484573,
          -0.6419967207308425,
          -2.019895746468816,
          1.701739930292276,
          0.15173197440670225,
          0.07751633605318191,
          0.0003237027532883964,
          -0.5149559210726049,
          0.16099279357760626,
          1.0489412395627182,
          0.0531452304963846,
          0.5581339879055442,
          -0.1351672489825639,
          0.4794873833080508,
          0.6280568239410527,
          -1.1464749172940318,
          0.5183392486651703,
          -1.3603832177189406,
          1.7812021865232046,
          1.898948398167933,
          0.3401771120115976,
          1.0459453619331418,
          0.755873157739935,
          -0.3102397851412685,
          -0.02341276220905643,
          0.3693882486818019,
          0.028762642259338937,
          -1.3108355245887875,
          0.2797028074566268,
          -0.3552296537336655,
          -0.08590390785847349,
          -0.4327952035217673,
          -0.9907004438347008,
          0.7178516670362514,
          0.992771568568,
          -0.05955509508552147,
          0.6476966452513376,
          0.9891450151725973,
          -0.4078345669589371,
          -0.08356051167105784,
          -0.4321951192483359,
          0.15079235408960504,
          -1.3027272116502338,
          0.9745743526924393,
          -0.152562834927399,
          1.5697342442161633,
          -0.7766637208172205,
          -0.8191270186055134,
          0.1738719634555321,
          -0.08066459196219541,
          0.9099620132083097,
          -0.08059958826539604,
          1.2457355065099804,
          0.1881112184770749,
          -0.03892552519696129,
          -1.5270417825350886,
          1.252115685266362,
          -0.41792823614409474,
          -0.17090718523106166,
          0.4410355243540647,
          -0.046362629462726616,
          -1.6217352365099096,
          0.32064656014696263,
          -0.2019946285900213,
          0.39986162466783054,
          -1.1101682954212542,
          0.000361356652344221,
          -2.7840141051807574,
          0.41731053444900984,
          0.851025438212511,
          -4.133778483659821,
          -0.7775235097917306,
          -2.3476059040444563,
          0.4125325649706973,
          0.6792914513815067,
          0.2265863696323466,
          0.6518097607136392,
          0.6821980953150576,
          0.11856487368424716,
          -1.0091503400032724,
          -0.3471187481481467,
          0.3350857621603661,
          -1.135098721241278,
          -2.2164101829201113,
          0.09703286377105433,
          0.13231885077590091,
          -0.09361656246063897,
          0.3558637846024796,
          -0.29238117960426124,
          0.13580904602097357,
          -0.2737992790957847,
          -0.5076076340454608,
          0.22074548198575553,
          -2.366448820801947,
          -0.45566119546996764,
          -1.1961203001230554,
          -0.45159821608595274,
          -1.4913733290630453,
          -0.2111872562269547,
          -0.02468573482738483,
          -0.7205295093996053,
          0.39258947242132813,
          1.4056655638312379,
          0.17185243446224088,
          0.766724803647273,
          -0.4570255580311836,
          -0.28657249978025096,
          0.9332054730454773,
          0.8762849849747468,
          -0.26632805578198104,
          -0.08721550277701746,
          0.45209175561599146,
          0.12688038906439428,
          -0.37748287181487306,
          0.09157213648792023,
          -0.5184361652008498,
          0.6866348538572565,
          -0.024969049860147,
          0.9200158082217925,
          -0.48626422028467053,
          -1.5502789103011596,
          -4.9904122870176,
          -0.07264360808422696,
          1.0949763812299935,
          -0.3914993823931108,
          0.00043922630918977125,
          -0.6110843219488212,
          -0.1751836676951397,
          -0.6804764731028081,
          -1.0956013184361475,
          -0.3713143889279773,
          0.2538492499945732,
          1.151848173929196,
          -0.05799052618490771,
          -1.507370594757792,
          0.7477350196802981,
          -1.5588414918586713,
          -0.8604117819622239,
          -1.8961637163013867,
          -0.7044358813725828,
          0.3721332403601707,
          -0.9792258340569749,
          0.8548797005590919,
          0.6124448627147124,
          1.3060393855993446,
          2.426539429886281,
          0.7770196076056219,
          0.08827094373408532,
          0.29604987134620825,
          0.8563351870248936,
          1.3565281818844415,
          -0.46092760717818976,
          -0.5790825500914172,
          -0.11784059512476694,
          -0.2900865661537244,
          -0.11176819607218065,
          0.05314159890251746,
          0.4414617465856999,
          -1.203591353293862,
          0.0019433212713927941,
          0.16088097981006455,
          -0.750624163800496,
          0.17527772111266673,
          -0.40856428549462104,
          -0.19033276207183905,
          -0.21721200418834172,
          0.2809110642830117,
          -1.162717622571564,
          -0.34424395089864207,
          -0.7083829412391142,
          0.005643086109648143,
          -0.2512286687169228,
          0.37063068973937896,
          -0.3781716258203406,
          -0.15828225506619398,
          0.20565514929753229,
          -0.14565461022357107,
          0.09316795975117644,
          -1.309979920663108,
          -0.5504880012083769,
          0.7985109487379972,
          -1.5021311820588346,
          -0.27825966130676394,
          -0.667709594043322,
          0.07574860814605085,
          2.2728792513478533,
          0.07520015265273067,
          -0.38595902991060294,
          -0.00048824130490012196,
          0.7483466255171413,
          0.8530491927262213,
          -2.1806968887602993,
          0.3688180207399716,
          1.224776330017054,
          1.9556986216396266,
          0.41260808058462883,
          1.7321266062838103,
          -0.7422395862922765,
          0.6092057746924676,
          0.16013453005602266,
          0.00015431441658224736,
          -0.2729141237299783,
          0.22117686331771866,
          0.3517847101973857,
          3.175904362803871,
          -0.8253961569764753,
          -1.8079669158006444,
          -0.06759710319109864,
          -1.1239995774280078,
          0.3813573114223175,
          1.6009966868813492,
          0.7646991640212836,
          0.7163381993020622,
          -1.5850181268205532,
          0.000298574106905937,
          -0.7647939228172504,
          -1.6837061132989273,
          1.2627625762178754,
          -2.5638794627015673,
          0.1157358578538028,
          -6.99761866504444e-05,
          -0.2368805971722609,
          0.2476034859832776,
          -1.0902197798543527,
          0.5110766745056836,
          0.6170587100047477,
          0.3148867871580588,
          -0.3877300348152619,
          0.34484067322047474,
          1.1374758577664381,
          1.3432313735666555,
          -1.5374999582686228,
          -0.3683110170669238,
          0.11747131307192607,
          0.40177265771772147,
          0.6096399366992832,
          -1.5306175043390366,
          0.6125491385117431,
          -0.5855212018086267,
          -1.1205624181232585,
          1.9104994337609376,
          -0.8137617743553857,
          -1.2344549459227518,
          0.616646065633782,
          1.2084811518308414,
          0.3793940085809962,
          0.9716601990287037,
          9.816535520620568e-05,
          -1.1187124602699194,
          -0.1132970345683053,
          -0.2930576335898849,
          0.6499909446949866,
          -0.12172992475479258,
          1.2445544812790124,
          -0.5088747166428987,
          2.181178480093217,
          -0.16716646746809535,
          -0.9253779183207836,
          -0.7269141609624691,
          0.45400768258878443,
          -0.6669405519931911,
          0.6637879592139397,
          -0.4733013123335034,
          -0.8341780254292185,
          0.3658187843979009,
          0.5704734911701951,
          -1.2102741892335425,
          0.06323657881278855,
          0.9082847915873359,
          -1.4316566747941382,
          0.14533913564175563,
          0.43161685809925465,
          0.6256955172217168,
          0.5835293844136641,
          0.1330212191799459,
          -0.5907988089331717,
          -0.22367060968893007,
          -0.08433157543722082,
          0.7653936469289169,
          0.24835947834645053,
          -0.29484242712743064,
          0.41736521422426903,
          0.8208657910457395,
          -1.0424761669486806,
          1.584030868672968,
          0.7637752158330592,
          1.2941616281576127,
          1.9376967436748844,
          -0.3742356256019033,
          0.14625608460638617,
          -0.4282358534432972,
          0.21092236378453194,
          -2.1696459402286963,
          -0.709495931642389,
          -0.1140079170674709,
          -0.007514465907887809,
          -1.4429393922002742,
          0.13672403442628936,
          0.20764468157907376,
          0.7021524273994879,
          -0.4088097816210741,
          -1.6948515828668014,
          0.5246287680978151,
          -0.012241593040557946,
          0.8232307935264344,
          0.26319965794627825,
          0.6930655563169024,
          0.49164401149054787,
          0.2515039092072651,
          0.7914754923869496,
          -0.11347504398595394,
          0.47497332932895747,
          0.41468021361984625,
          2.019720605812449,
          -0.21103863456935829,
          -0.41765230386206453,
          -0.3287254958661411,
          -0.059846593962947704,
          0.9154285500029802,
          -0.5713079320069585,
          1.7007516758220385,
          0.00041308918800241724,
          0.39778671260264936,
          -1.1813057893952674,
          0.23690336086470512,
          0.6104109176472593,
          -1.3886526092096765,
          1.599481594816676,
          0.12275856234743754,
          0.822915542348446,
          0.3074211722066493
         ],
         "y": [
          0.5112809931261808,
          -1.0511858648293537,
          0.02993799832837315,
          -0.234792416678631,
          -0.30729578585751466,
          -0.19703387012788223,
          0.12472228967144312,
          -2.046237629428493,
          0.13640687347625943,
          -1.135616616228359,
          0.2707394347748207,
          -0.7139557640563792,
          -0.1299697814611963,
          0.09908699783830566,
          1.1851049640832252,
          0.5558583896048624,
          0.5592996194951108,
          0.04168422311475099,
          0.16746291675446215,
          0.2799994381495906,
          0.6820639664485793,
          0.36952622131382745,
          -0.7924255409732961,
          0.2644323329138392,
          0.5135635959622764,
          -1.2566710854832908,
          -0.07155334730717673,
          0.09876522560984415,
          0.0950278666008551,
          0.6586299894674604,
          0.09017782516612265,
          0.056084139197320255,
          -0.04781064162574185,
          -0.6776505307248495,
          0.23514591274230676,
          -0.08949583363196571,
          0.28364458143596616,
          0.37721679522977347,
          -0.21007209896481166,
          1.0462966618970788,
          -1.0737228969474424,
          -0.50795582048882,
          0.09907563767581191,
          -0.00917056955170036,
          0.3176918922677212,
          0.7814840561299837,
          -0.16429168293711063,
          -0.02499671158738749,
          0.6351959517249206,
          -0.36764092662570247,
          -0.2664034120442681,
          0.050406754477067925,
          0.0988314589841062,
          0.047244790472224296,
          -0.7065391739034235,
          0.42800467364683226,
          0.19402934132290228,
          0.17303387110743784,
          0.3472027006980567,
          1.4115072508174926,
          0.2931470682181364,
          0.6161675005191593,
          -0.7242016849690053,
          -0.7710760286601639,
          -0.5240454706820682,
          -0.1330597946400908,
          0.21663472364699443,
          -1.080733275684185,
          0.561324898846347,
          -0.1486841152496885,
          -2.330255914669307,
          0.26201892494921036,
          0.4482217756226766,
          -0.5490165166747634,
          0.43976423704321954,
          0.1979627893743875,
          0.43816506349996154,
          -0.24107088078987335,
          2.4714354820628555,
          0.6400548151004067,
          -0.28164363818800103,
          0.7473490898652259,
          0.15819299822907526,
          -0.0190151656211111,
          -1.2084082623380326,
          0.3178679750430273,
          0.09925083623348868,
          -1.109895569120132,
          0.34828178761652767,
          1.1051259738393622,
          0.0011023890325733965,
          0.9431258755390031,
          -0.79110153867575,
          -2.1596717246670543,
          0.20010213220697315,
          0.31802145403955706,
          -1.3080270241344425,
          0.06918130279842256,
          0.6756573801118131,
          0.09850716541397299,
          -0.20038404036156132,
          -0.10852904685067816,
          0.4869370984223637,
          0.3196398497339397,
          1.141410199761224,
          0.004317287938494329,
          -1.1443823259492079,
          -2.9242942446394142,
          -0.8439134758793677,
          -0.385336992484882,
          -0.8225619085439239,
          1.5233564644611906,
          1.6993967597825126,
          -2.7599004979755684,
          0.488915407759279,
          -0.09375617374955478,
          0.747286335182324,
          0.34013850574125604,
          0.5293278584740557,
          0.014238328322865647,
          0.6639321599633446,
          -0.018550836566656324,
          -0.4127702070583257,
          -0.1034472933284147,
          0.05405767951635826,
          1.8974745991034074,
          -0.4896721770883617,
          -1.098003434106064,
          -0.20369472313755788,
          0.1752954274240218,
          -0.014307180495839763,
          1.172281530843446,
          0.15772782661952345,
          -0.14766656811806408,
          -1.1050179344757756,
          0.9500810707783499,
          0.987255536884639,
          0.14068948906026713,
          -0.3615137503887709,
          -0.2206083215198451,
          -0.4249107621599547,
          0.2869886283907955,
          -0.9397702122554981,
          -0.13579056465794453,
          -0.07705660037400433,
          -0.9210331694418027,
          1.6526544704991788,
          -0.7685157578340477,
          -1.7125757491183036,
          -0.8760340828002433,
          -0.10379521142536945,
          -0.409850898288911,
          0.3554140160136523,
          0.4134925133036874,
          -0.24241340815273604,
          0.2668784296427734,
          -0.38719638780338556,
          0.2880396371442873,
          -1.519375235420796,
          0.09911399664482545,
          -0.9343962964387617,
          0.6785185770055677,
          3.927486575679452,
          1.764897429264984,
          -0.577476494407961,
          -1.8835208028439812,
          0.10746909682421381,
          0.10968430055886157,
          0.4012925792446793,
          0.4563873168625035,
          -0.04106467172788369,
          0.20962367281471309,
          -0.4944010205820499,
          0.2940373125027257,
          -0.562591883807437,
          -0.21355832695595747,
          -1.1203303434651435,
          0.24357616213950511,
          -0.28617819078809764,
          -0.08273239839343893,
          0.11503522783179017,
          -0.5785932410032248,
          1.0009654685886364,
          0.6289009542310492,
          -0.855165283775435,
          -1.9782627249859086,
          2.366731049837825,
          -0.4480085453255631,
          0.7411613826227603,
          0.19525416054567757,
          3.09994587018367,
          0.005441841220185395,
          0.05542825511437371,
          -0.25043633226892154,
          0.2584882406573931,
          -1.5214858527873556,
          -0.8625434988697495,
          1.1817587218162664,
          0.6922922512378091,
          0.11805026975567112,
          0.6975603442348703,
          -0.1291113329562917,
          -0.28142303019210285,
          0.025017884645732378,
          0.2088783745781214,
          0.06576361640945584,
          -0.5764630948871632,
          0.09714038490787473,
          -0.5151879697725554,
          0.28744982226386784,
          0.017750610591066567,
          -0.43904748896651885,
          0.087463289189827,
          -0.19017054601639344,
          0.7364994998157566,
          1.2941198601904613,
          -0.48205503220252405,
          0.759036616085469,
          0.09897326698719382,
          -0.1440275429936165,
          -0.32719618051957466,
          0.6131756218265119,
          -0.623441432915498,
          0.6072468267394368,
          0.2943987007985623,
          0.6680869947377007,
          -0.03570972031428152,
          0.13133712424297647,
          0.3186418690510874,
          -0.9113776588795369,
          -1.079623968182988,
          0.4311916500345414,
          0.291475396149987,
          -0.2902848332605924,
          0.025780092914950942,
          2.23400478249712,
          -0.1312096925371173,
          0.33472442634305344,
          -1.4012802594475726,
          0.2719312807155898,
          0.012415019227854623,
          -0.09541322081930691,
          -1.0163454466931225,
          0.8535380124029426,
          0.5056357272001878,
          0.6114427170787677,
          1.0928569691056351,
          0.4075865741829716,
          0.4758044306286421,
          -0.46615477463978977,
          0.26487671683520125,
          -0.35173738335926125,
          -0.13709222599969184,
          0.19877667038794625,
          -0.2636472486065446,
          0.023075682761446586,
          -1.775441699050546,
          0.40956669132567136,
          -0.2532609182610416,
          1.1544825680955393,
          0.44412347071359304,
          -1.2958937274174738,
          0.6486988607141925,
          -0.021683009629270233,
          0.8959315753356062,
          -0.012398884250868015,
          -1.789815820765897,
          1.4630971230963565,
          0.15944128691754184,
          0.16695986963839635,
          -0.9157164210648635,
          -0.4994102724325518,
          -0.05219630803108935,
          0.21021925129266172,
          0.1336855151935577,
          -0.5085409921298163,
          -0.5598821915859719,
          -0.472608867680641,
          0.23854660453003523,
          0.39583136950657166,
          -0.040421545671631906,
          -1.704129791658779,
          -0.03350236897512352,
          -0.6576270187922562,
          -1.269597153050047,
          0.08142809476816287,
          -0.6409600773439194,
          0.7819854632998439,
          -0.3750182747909062,
          -0.5564713160287036,
          0.16816036479040045,
          -0.2428857644017691,
          0.2637637309869482,
          0.09897303997066055,
          -0.6215345905029305,
          -0.22693793256090572,
          -0.1442182598433125,
          -2.414047903399852,
          0.6529090006936896,
          -0.26482678255961956,
          0.10160665570945342,
          1.8411060271894646,
          -0.054723905469795796,
          -0.09859751464078356,
          -0.3212641278097322,
          -0.5607624603359304,
          0.11203735899417788,
          0.0992816797819087,
          -1.019095332607842,
          -1.0953864732652876,
          0.13993301246967754,
          -0.6481489655024054,
          0.23880608382515128,
          0.09902686247437145,
          0.2426767699752929,
          0.16578436999971136,
          -1.2011672104454894,
          -1.7137383326899147,
          0.20746156942558436,
          0.003952428809492468,
          -0.047263870861538534,
          0.28321951842719534,
          1.1307565762841758,
          -2.2798398457773716,
          0.5072359650333889,
          0.14272457437592795,
          -2.4643010851428278,
          0.43037633161081446,
          0.6831375220892435,
          3.2374285211400746,
          -0.0744749999066491,
          0.9900195954158848,
          -0.21150798325513345,
          0.8170671681255286,
          -1.3677440324158792,
          -0.11805863904581611,
          -1.055804904049818,
          0.07943979036042562,
          1.9501791632071446,
          -0.816012375307305,
          0.09866669421562603,
          -1.0437695887519645,
          -0.12400663427034858,
          0.23695822655613977,
          0.3613033204395096,
          -0.11738271662456386,
          -0.6112305682253159,
          -0.48298719123157285,
          0.16457995237441697,
          0.07390642790249805,
          0.3089890876618249,
          -0.23448221767465252,
          0.4329656844038006,
          -0.5828225222524641,
          -0.2635583572295968,
          0.3837831966289549,
          -0.5621845837205489,
          -0.6202745837160233,
          0.08943547321455149,
          -1.4219186811603544,
          -1.3976259240272177,
          0.9097002826449382,
          1.2455945503379267,
          0.06777019801655669,
          0.2516154319851844,
          -0.29545694457364585,
          -1.5283670023722387,
          -1.162294326180446,
          -0.7344905878549036,
          -0.3685261680638374,
          0.12214437593090086,
          -1.2884066731010446,
          0.5277467628679213,
          -0.38372837639654866,
          -0.27813464991375064,
          1.2781813921679752,
          -0.9172015232099823,
          0.16086698007392336,
          0.5120087666003492,
          -0.2464164605914365,
          0.23882102606760447,
          0.6604698846085407,
          0.671547209828165,
          -0.17375215567211721,
          0.7544553170733036,
          -0.1943946030204982,
          0.3190227951781654,
          1.1151839387332414,
          2.0492690511819536,
          0.27522061200271086,
          -0.1807192964899301,
          0.5521027982563208,
          0.7757117011315651,
          -0.21786132337646,
          3.0269609910486204,
          1.1277508087264265,
          1.209439653230633,
          -0.41623079225809456,
          -2.3563176007961926,
          0.635469434512294,
          0.7296464149155131,
          0.2679874102324676,
          0.3423434002177605,
          -1.4898175229682673,
          -0.5650496152603603,
          -0.5992743213884796,
          0.2014001910047244,
          -0.28789337940739984,
          0.6266371689810236,
          0.00814194478990128,
          -0.34706496585829233,
          3.324165676307334,
          -0.191398095563506,
          -0.36955723926658646,
          0.09857342064503467,
          0.31604811464996535,
          -1.0910056501362377,
          -0.40202089557316034,
          1.5145054651558965,
          -0.9429965001979576,
          -0.42119688088601503,
          0.5095166572275273,
          0.9773407343039024,
          0.46654084101766147
         ],
         "z": [
          0.031664934444369186,
          -0.0917638337449857,
          0.20184992547243996,
          -0.08043450035157726,
          -0.06274961623540934,
          1.1750015903044317,
          -0.17668223556474993,
          -0.22326231605429087,
          -1.3276988045835925,
          1.799108454301598,
          0.35965185699273383,
          0.21670440063424465,
          0.12647146346339466,
          0.03599776084660384,
          0.06699135637577158,
          -0.713562520567399,
          -0.08167557514568666,
          0.31823469519131936,
          0.0024099696198824454,
          -0.01677146185568057,
          0.26358160903902145,
          -0.046435547030164254,
          0.35830186121958774,
          -0.1412223733867063,
          -1.4002677485420223,
          -0.8460609657288545,
          -0.12684763923139186,
          0.03606511213728607,
          0.16542194237597552,
          0.18790536882435604,
          -0.3558470238298183,
          0.05454280834960254,
          0.33118334926004334,
          1.8110959081437907,
          0.9774469251535551,
          0.8496443210096405,
          0.8450757396141371,
          0.2953344828541844,
          0.21155925565856243,
          1.5797216226714366,
          -0.8088617787605018,
          0.40235454200157106,
          0.03669918304283111,
          0.4575071011694084,
          -2.0737875016542247,
          0.2198679360355326,
          0.21143869750501315,
          0.1125607385954564,
          0.06637062065405185,
          -0.045314138707706786,
          0.412302418960265,
          -0.15078546913343094,
          0.03598605978520532,
          -0.13201224965326347,
          -0.9756791495161075,
          0.08874059317401242,
          -0.5045081386422998,
          0.2602393557222584,
          0.6220406338410471,
          0.5316179953064514,
          -1.3893273277101075,
          -0.17981103129515588,
          -0.4032336129092776,
          -0.606788036730459,
          -0.958527643088626,
          0.5844273921260853,
          -1.5567599674210995,
          -0.2071450750514141,
          -0.3735790759538806,
          -0.20780911535815694,
          1.132237664144361,
          -0.7650819807991581,
          2.600170980461674,
          0.13302487953020792,
          -1.468279899154835,
          -0.04042750364787452,
          0.008251303680779297,
          0.3144943636334826,
          0.03834993755339178,
          -0.7068930178055637,
          -1.2784525908094813,
          0.5209970165373308,
          0.5252825901380413,
          -0.004061993591002178,
          -0.9297713149721838,
          0.1314661677726011,
          0.03621668640317871,
          -1.596443994194828,
          -0.37164710340921914,
          0.07336541974467073,
          0.5142429600955565,
          -0.9949075218256881,
          1.640154519924631,
          0.909307405843564,
          -2.497731829051984,
          -0.2405173379012858,
          -2.0278831721007493,
          0.21300253818110612,
          -0.2357705833385418,
          0.03567438539357679,
          0.02198267949107513,
          0.7540281651126812,
          -1.1095918859354614,
          0.03142315644333282,
          -1.396077886862919,
          0.4320976415815079,
          -0.2360924664074292,
          -1.4193531900621636,
          -0.06915844618484082,
          0.35390336960980906,
          4.509503357028306,
          -1.504764187822147,
          -0.9679481981094344,
          0.5960265598744303,
          0.37146377310963796,
          0.11702074428356303,
          1.4369314117503,
          0.38585750606168867,
          -0.6748056369832403,
          0.05521811808872755,
          0.4205086485192038,
          0.2797715913639314,
          -0.8807117688618591,
          -0.01003138566360011,
          0.0291338320032268,
          0.022845213228308126,
          -0.6412815974931261,
          0.5001979599972364,
          -0.9972243157806363,
          0.6212469398299514,
          -0.07119914835649838,
          0.2368495980525661,
          0.2689540116934547,
          1.0709942832606452,
          0.38047168511348073,
          0.6219176296327964,
          -0.04419170783590773,
          0.3181006995178115,
          -0.44381202039459194,
          0.43872496963925156,
          -0.08087905770691109,
          0.6681614425950152,
          4.3924197362568025,
          -1.0701560215438173,
          -0.1004997253239656,
          0.2226062023966738,
          -0.9780910439964224,
          0.25256076198543775,
          -1.1520647020091026,
          -0.9112482373728127,
          0.6210749857289775,
          -0.958192933715675,
          -0.4442389026918169,
          -0.5876747652773597,
          -1.224837598871788,
          0.7757192621310991,
          0.46414466209385485,
          -0.2792979060649695,
          -1.3397261938648197,
          0.03631198823392698,
          0.7208220303958132,
          -0.41521687588143674,
          0.20820553503457118,
          0.987863338469323,
          -1.284007922323049,
          -0.556173117177599,
          0.4036388856143279,
          0.5367385299313147,
          0.36229641311697247,
          -0.31939696419626407,
          0.36487654896320126,
          0.13005004855698707,
          0.12300107621539426,
          0.29914737032984356,
          -0.9751306342519356,
          2.0510191114546203,
          -1.1881407187644757,
          0.0015564508187757148,
          0.836866376623555,
          -1.068914247493616,
          -0.05462892127421651,
          0.2219575819863705,
          0.8182689056756164,
          -0.26575702110810656,
          0.40837210479843655,
          0.3325281837792045,
          -0.24413062841972302,
          -0.041555874777346014,
          0.6606687062756806,
          0.19755708672061484,
          -1.761762638449777,
          0.15639729653816142,
          0.3635512062339521,
          -0.5141322130805908,
          0.7362121064134332,
          -0.839456403730779,
          -0.6164014138120155,
          -2.5121865218408006,
          -0.6430763348823404,
          0.965047707173278,
          0.5531209948095415,
          -0.7261045345702585,
          0.05047061922927639,
          0.21574674370313782,
          -0.3704339448879009,
          0.25263948930429125,
          0.8198169074158796,
          0.4593426056648413,
          0.501392622194284,
          0.14023862060665893,
          0.7228222784130502,
          0.49040267552718997,
          0.046828806883350615,
          -0.048510504551700945,
          -0.09470168418918101,
          -0.1291339890960427,
          -0.47554074199127555,
          0.345753419443738,
          0.035850830894110966,
          0.13552213561722673,
          0.6820343442789739,
          0.3708353902634298,
          -1.1315383398077035,
          -1.650985255164899,
          0.13296440867891812,
          -1.2041668750269814,
          0.34951144903393017,
          -1.8717570906066898,
          -0.020448336111463655,
          0.13066862563745674,
          -0.8187771847213076,
          -0.04818109053523664,
          0.09697879218088065,
          -1.3203274429961334,
          0.07655100413612659,
          1.4991091590917625,
          0.5649594935561226,
          0.7471890441591044,
          0.2972439255174387,
          -0.47613279513743956,
          -0.23469729458928418,
          1.5968805097958914,
          -0.4562383195235259,
          0.8810897968319658,
          -0.5529483672805598,
          0.49514968211496696,
          -0.39075468345358866,
          0.5565994360630132,
          0.062283705429207456,
          0.1275772600921018,
          -0.16772248111558907,
          0.30140163880803283,
          -0.17340231461181438,
          0.7342368655007145,
          0.6222105142070194,
          0.05595182213146292,
          1.0445843662145755,
          0.07721419141804414,
          0.1220752796231383,
          0.09966409364339948,
          0.18732425281903148,
          0.6173078769988779,
          0.8881097572303974,
          -1.7735893771426543,
          3.74353202327957,
          0.3092960544774865,
          1.015585297862609,
          -1.4330159018952253,
          -0.1720627239665607,
          -0.13401545071598708,
          1.3922858402026734,
          -0.45041062542209964,
          -0.10572159741149448,
          -0.4658545193709189,
          0.3657568275375724,
          -0.21935330990155455,
          -1.6119493546976797,
          -0.3637885030833077,
          1.045931333941735,
          1.2184515084356904,
          -0.46596263577324204,
          -0.17831468773613376,
          0.1465907790654709,
          0.604043902251969,
          -0.8272060309417465,
          0.14987697674211645,
          -0.4785162582296179,
          0.2799268949751003,
          0.3845953984378332,
          -0.2866074734989321,
          -0.6523571000110937,
          0.12099302636099976,
          0.2197927604577018,
          0.035532028367491926,
          0.06319001680149322,
          -1.029756258505674,
          -0.02660348489932393,
          1.2115861607293672,
          -0.14423305500280392,
          0.8936841004237616,
          0.514506736497081,
          0.4019498334042689,
          -0.12361968400076873,
          0.32205803248975046,
          0.1041680403532278,
          -1.139114468244998,
          -0.042976592478595005,
          0.035805798732697895,
          -0.739146144996757,
          -0.30207302964618427,
          -1.275967999101769,
          -2.6701562406631068,
          1.2770044424913538,
          0.03586294190527161,
          -0.1116507272482486,
          0.533837530479822,
          0.7745196724679831,
          -0.4534789482608707,
          0.3388417920534354,
          0.5144691861788327,
          0.052036363178710514,
          -0.017317163502780508,
          0.1020667296583162,
          -0.4562483718631995,
          1.3666213610326854,
          -0.7310287891133249,
          -1.4006581289572217,
          -0.27590980084252376,
          0.4714542656623436,
          -1.7290182975478094,
          0.4417404294878252,
          0.7114982891426196,
          0.022416799317747094,
          0.25515194895298293,
          -0.28659447740342253,
          0.9336930088237541,
          -0.18150520257195205,
          0.19471211867579785,
          -1.0434818749181303,
          -0.13713781783558415,
          0.03600281243626066,
          0.3031184029809869,
          1.1259585515039627,
          -0.7269325271107487,
          0.4337213524779293,
          0.5443762332469033,
          -0.11555297473096782,
          0.06827616273679378,
          -0.039660733710782936,
          0.6919960229835604,
          -0.10867369139713196,
          0.13582479808128495,
          0.4980351988718134,
          -0.02301564891634894,
          -0.1260351482523731,
          -0.8506720808722107,
          0.8693571491934857,
          0.6053752240594161,
          -0.004469850690735883,
          -0.37775726147899025,
          0.0018609293990789928,
          -0.3816771796009147,
          -2.166222929795242,
          -0.40742806288363276,
          -0.701968357097131,
          0.20607356131969098,
          -1.3083424125568484,
          0.6120530736662941,
          -1.710188870427703,
          0.22990439811062616,
          -0.8206181040279154,
          -0.48210876800587826,
          0.2688896073068141,
          0.3645719130027088,
          -2.3682686861522795,
          2.825812386365282,
          -0.49516139033149664,
          0.5650924194952236,
          0.300615843571342,
          -0.420983972678559,
          1.1356705757682253,
          0.04594467563310076,
          -1.101760689266449,
          1.2146202065824037,
          0.27897553657150526,
          0.11241791734498574,
          -1.639251073609826,
          0.17664819271936383,
          2.1237886445638896,
          -1.3417761917418864,
          -0.9290255395255762,
          -0.7149140171572552,
          0.01939829715712449,
          -0.06434956369366623,
          -1.289750420292786,
          1.6089863260774482,
          -0.013625054030073962,
          0.9121274074953751,
          0.1134851740992015,
          -0.5427236747558573,
          0.10683391838867418,
          0.2820255872952184,
          -0.24476014022139603,
          -0.663310041186198,
          0.2590390750834528,
          -0.3620463370682038,
          0.6030224527195676,
          -0.31720929460700553,
          0.14322862747705323,
          -0.3287364539429084,
          0.19803032136774912,
          1.5772966791304595,
          -0.2887937733298399,
          -0.4746189505646581,
          0.03590505877088933,
          -0.13646547755620203,
          2.1503913372251318,
          -0.250286787595437,
          0.48775832104842287,
          0.4211071677510409,
          1.6388099015278863,
          -1.8257202097744227,
          -0.45274422198830794,
          -0.6565104781552767
         ]
        }
       ],
       "layout": {
        "coloraxis": {
         "colorbar": {
          "title": {
           "text": "cluster"
          }
         },
         "colorscale": [
          [
           0,
           "#0d0887"
          ],
          [
           0.1111111111111111,
           "#46039f"
          ],
          [
           0.2222222222222222,
           "#7201a8"
          ],
          [
           0.3333333333333333,
           "#9c179e"
          ],
          [
           0.4444444444444444,
           "#bd3786"
          ],
          [
           0.5555555555555556,
           "#d8576b"
          ],
          [
           0.6666666666666666,
           "#ed7953"
          ],
          [
           0.7777777777777778,
           "#fb9f3a"
          ],
          [
           0.8888888888888888,
           "#fdca26"
          ],
          [
           1,
           "#f0f921"
          ]
         ]
        },
        "legend": {
         "tracegroupgap": 0
        },
        "margin": {
         "t": 60
        },
        "scene": {
         "domain": {
          "x": [
           0,
           1
          ],
          "y": [
           0,
           1
          ]
         },
         "xaxis": {
          "title": {
           "text": "0"
          }
         },
         "yaxis": {
          "title": {
           "text": "1"
          }
         },
         "zaxis": {
          "title": {
           "text": "2"
          }
         }
        },
        "template": {
         "data": {
          "bar": [
           {
            "error_x": {
             "color": "#2a3f5f"
            },
            "error_y": {
             "color": "#2a3f5f"
            },
            "marker": {
             "line": {
              "color": "#E5ECF6",
              "width": 0.5
             }
            },
            "type": "bar"
           }
          ],
          "barpolar": [
           {
            "marker": {
             "line": {
              "color": "#E5ECF6",
              "width": 0.5
             }
            },
            "type": "barpolar"
           }
          ],
          "carpet": [
           {
            "aaxis": {
             "endlinecolor": "#2a3f5f",
             "gridcolor": "white",
             "linecolor": "white",
             "minorgridcolor": "white",
             "startlinecolor": "#2a3f5f"
            },
            "baxis": {
             "endlinecolor": "#2a3f5f",
             "gridcolor": "white",
             "linecolor": "white",
             "minorgridcolor": "white",
             "startlinecolor": "#2a3f5f"
            },
            "type": "carpet"
           }
          ],
          "choropleth": [
           {
            "colorbar": {
             "outlinewidth": 0,
             "ticks": ""
            },
            "type": "choropleth"
           }
          ],
          "contour": [
           {
            "colorbar": {
             "outlinewidth": 0,
             "ticks": ""
            },
            "colorscale": [
             [
              0,
              "#0d0887"
             ],
             [
              0.1111111111111111,
              "#46039f"
             ],
             [
              0.2222222222222222,
              "#7201a8"
             ],
             [
              0.3333333333333333,
              "#9c179e"
             ],
             [
              0.4444444444444444,
              "#bd3786"
             ],
             [
              0.5555555555555556,
              "#d8576b"
             ],
             [
              0.6666666666666666,
              "#ed7953"
             ],
             [
              0.7777777777777778,
              "#fb9f3a"
             ],
             [
              0.8888888888888888,
              "#fdca26"
             ],
             [
              1,
              "#f0f921"
             ]
            ],
            "type": "contour"
           }
          ],
          "contourcarpet": [
           {
            "colorbar": {
             "outlinewidth": 0,
             "ticks": ""
            },
            "type": "contourcarpet"
           }
          ],
          "heatmap": [
           {
            "colorbar": {
             "outlinewidth": 0,
             "ticks": ""
            },
            "colorscale": [
             [
              0,
              "#0d0887"
             ],
             [
              0.1111111111111111,
              "#46039f"
             ],
             [
              0.2222222222222222,
              "#7201a8"
             ],
             [
              0.3333333333333333,
              "#9c179e"
             ],
             [
              0.4444444444444444,
              "#bd3786"
             ],
             [
              0.5555555555555556,
              "#d8576b"
             ],
             [
              0.6666666666666666,
              "#ed7953"
             ],
             [
              0.7777777777777778,
              "#fb9f3a"
             ],
             [
              0.8888888888888888,
              "#fdca26"
             ],
             [
              1,
              "#f0f921"
             ]
            ],
            "type": "heatmap"
           }
          ],
          "heatmapgl": [
           {
            "colorbar": {
             "outlinewidth": 0,
             "ticks": ""
            },
            "colorscale": [
             [
              0,
              "#0d0887"
             ],
             [
              0.1111111111111111,
              "#46039f"
             ],
             [
              0.2222222222222222,
              "#7201a8"
             ],
             [
              0.3333333333333333,
              "#9c179e"
             ],
             [
              0.4444444444444444,
              "#bd3786"
             ],
             [
              0.5555555555555556,
              "#d8576b"
             ],
             [
              0.6666666666666666,
              "#ed7953"
             ],
             [
              0.7777777777777778,
              "#fb9f3a"
             ],
             [
              0.8888888888888888,
              "#fdca26"
             ],
             [
              1,
              "#f0f921"
             ]
            ],
            "type": "heatmapgl"
           }
          ],
          "histogram": [
           {
            "marker": {
             "colorbar": {
              "outlinewidth": 0,
              "ticks": ""
             }
            },
            "type": "histogram"
           }
          ],
          "histogram2d": [
           {
            "colorbar": {
             "outlinewidth": 0,
             "ticks": ""
            },
            "colorscale": [
             [
              0,
              "#0d0887"
             ],
             [
              0.1111111111111111,
              "#46039f"
             ],
             [
              0.2222222222222222,
              "#7201a8"
             ],
             [
              0.3333333333333333,
              "#9c179e"
             ],
             [
              0.4444444444444444,
              "#bd3786"
             ],
             [
              0.5555555555555556,
              "#d8576b"
             ],
             [
              0.6666666666666666,
              "#ed7953"
             ],
             [
              0.7777777777777778,
              "#fb9f3a"
             ],
             [
              0.8888888888888888,
              "#fdca26"
             ],
             [
              1,
              "#f0f921"
             ]
            ],
            "type": "histogram2d"
           }
          ],
          "histogram2dcontour": [
           {
            "colorbar": {
             "outlinewidth": 0,
             "ticks": ""
            },
            "colorscale": [
             [
              0,
              "#0d0887"
             ],
             [
              0.1111111111111111,
              "#46039f"
             ],
             [
              0.2222222222222222,
              "#7201a8"
             ],
             [
              0.3333333333333333,
              "#9c179e"
             ],
             [
              0.4444444444444444,
              "#bd3786"
             ],
             [
              0.5555555555555556,
              "#d8576b"
             ],
             [
              0.6666666666666666,
              "#ed7953"
             ],
             [
              0.7777777777777778,
              "#fb9f3a"
             ],
             [
              0.8888888888888888,
              "#fdca26"
             ],
             [
              1,
              "#f0f921"
             ]
            ],
            "type": "histogram2dcontour"
           }
          ],
          "mesh3d": [
           {
            "colorbar": {
             "outlinewidth": 0,
             "ticks": ""
            },
            "type": "mesh3d"
           }
          ],
          "parcoords": [
           {
            "line": {
             "colorbar": {
              "outlinewidth": 0,
              "ticks": ""
             }
            },
            "type": "parcoords"
           }
          ],
          "pie": [
           {
            "automargin": true,
            "type": "pie"
           }
          ],
          "scatter": [
           {
            "marker": {
             "colorbar": {
              "outlinewidth": 0,
              "ticks": ""
             }
            },
            "type": "scatter"
           }
          ],
          "scatter3d": [
           {
            "line": {
             "colorbar": {
              "outlinewidth": 0,
              "ticks": ""
             }
            },
            "marker": {
             "colorbar": {
              "outlinewidth": 0,
              "ticks": ""
             }
            },
            "type": "scatter3d"
           }
          ],
          "scattercarpet": [
           {
            "marker": {
             "colorbar": {
              "outlinewidth": 0,
              "ticks": ""
             }
            },
            "type": "scattercarpet"
           }
          ],
          "scattergeo": [
           {
            "marker": {
             "colorbar": {
              "outlinewidth": 0,
              "ticks": ""
             }
            },
            "type": "scattergeo"
           }
          ],
          "scattergl": [
           {
            "marker": {
             "colorbar": {
              "outlinewidth": 0,
              "ticks": ""
             }
            },
            "type": "scattergl"
           }
          ],
          "scattermapbox": [
           {
            "marker": {
             "colorbar": {
              "outlinewidth": 0,
              "ticks": ""
             }
            },
            "type": "scattermapbox"
           }
          ],
          "scatterpolar": [
           {
            "marker": {
             "colorbar": {
              "outlinewidth": 0,
              "ticks": ""
             }
            },
            "type": "scatterpolar"
           }
          ],
          "scatterpolargl": [
           {
            "marker": {
             "colorbar": {
              "outlinewidth": 0,
              "ticks": ""
             }
            },
            "type": "scatterpolargl"
           }
          ],
          "scatterternary": [
           {
            "marker": {
             "colorbar": {
              "outlinewidth": 0,
              "ticks": ""
             }
            },
            "type": "scatterternary"
           }
          ],
          "surface": [
           {
            "colorbar": {
             "outlinewidth": 0,
             "ticks": ""
            },
            "colorscale": [
             [
              0,
              "#0d0887"
             ],
             [
              0.1111111111111111,
              "#46039f"
             ],
             [
              0.2222222222222222,
              "#7201a8"
             ],
             [
              0.3333333333333333,
              "#9c179e"
             ],
             [
              0.4444444444444444,
              "#bd3786"
             ],
             [
              0.5555555555555556,
              "#d8576b"
             ],
             [
              0.6666666666666666,
              "#ed7953"
             ],
             [
              0.7777777777777778,
              "#fb9f3a"
             ],
             [
              0.8888888888888888,
              "#fdca26"
             ],
             [
              1,
              "#f0f921"
             ]
            ],
            "type": "surface"
           }
          ],
          "table": [
           {
            "cells": {
             "fill": {
              "color": "#EBF0F8"
             },
             "line": {
              "color": "white"
             }
            },
            "header": {
             "fill": {
              "color": "#C8D4E3"
             },
             "line": {
              "color": "white"
             }
            },
            "type": "table"
           }
          ]
         },
         "layout": {
          "annotationdefaults": {
           "arrowcolor": "#2a3f5f",
           "arrowhead": 0,
           "arrowwidth": 1
          },
          "coloraxis": {
           "colorbar": {
            "outlinewidth": 0,
            "ticks": ""
           }
          },
          "colorscale": {
           "diverging": [
            [
             0,
             "#8e0152"
            ],
            [
             0.1,
             "#c51b7d"
            ],
            [
             0.2,
             "#de77ae"
            ],
            [
             0.3,
             "#f1b6da"
            ],
            [
             0.4,
             "#fde0ef"
            ],
            [
             0.5,
             "#f7f7f7"
            ],
            [
             0.6,
             "#e6f5d0"
            ],
            [
             0.7,
             "#b8e186"
            ],
            [
             0.8,
             "#7fbc41"
            ],
            [
             0.9,
             "#4d9221"
            ],
            [
             1,
             "#276419"
            ]
           ],
           "sequential": [
            [
             0,
             "#0d0887"
            ],
            [
             0.1111111111111111,
             "#46039f"
            ],
            [
             0.2222222222222222,
             "#7201a8"
            ],
            [
             0.3333333333333333,
             "#9c179e"
            ],
            [
             0.4444444444444444,
             "#bd3786"
            ],
            [
             0.5555555555555556,
             "#d8576b"
            ],
            [
             0.6666666666666666,
             "#ed7953"
            ],
            [
             0.7777777777777778,
             "#fb9f3a"
            ],
            [
             0.8888888888888888,
             "#fdca26"
            ],
            [
             1,
             "#f0f921"
            ]
           ],
           "sequentialminus": [
            [
             0,
             "#0d0887"
            ],
            [
             0.1111111111111111,
             "#46039f"
            ],
            [
             0.2222222222222222,
             "#7201a8"
            ],
            [
             0.3333333333333333,
             "#9c179e"
            ],
            [
             0.4444444444444444,
             "#bd3786"
            ],
            [
             0.5555555555555556,
             "#d8576b"
            ],
            [
             0.6666666666666666,
             "#ed7953"
            ],
            [
             0.7777777777777778,
             "#fb9f3a"
            ],
            [
             0.8888888888888888,
             "#fdca26"
            ],
            [
             1,
             "#f0f921"
            ]
           ]
          },
          "colorway": [
           "#636efa",
           "#EF553B",
           "#00cc96",
           "#ab63fa",
           "#FFA15A",
           "#19d3f3",
           "#FF6692",
           "#B6E880",
           "#FF97FF",
           "#FECB52"
          ],
          "font": {
           "color": "#2a3f5f"
          },
          "geo": {
           "bgcolor": "white",
           "lakecolor": "white",
           "landcolor": "#E5ECF6",
           "showlakes": true,
           "showland": true,
           "subunitcolor": "white"
          },
          "hoverlabel": {
           "align": "left"
          },
          "hovermode": "closest",
          "mapbox": {
           "style": "light"
          },
          "paper_bgcolor": "white",
          "plot_bgcolor": "#E5ECF6",
          "polar": {
           "angularaxis": {
            "gridcolor": "white",
            "linecolor": "white",
            "ticks": ""
           },
           "bgcolor": "#E5ECF6",
           "radialaxis": {
            "gridcolor": "white",
            "linecolor": "white",
            "ticks": ""
           }
          },
          "scene": {
           "xaxis": {
            "backgroundcolor": "#E5ECF6",
            "gridcolor": "white",
            "gridwidth": 2,
            "linecolor": "white",
            "showbackground": true,
            "ticks": "",
            "zerolinecolor": "white"
           },
           "yaxis": {
            "backgroundcolor": "#E5ECF6",
            "gridcolor": "white",
            "gridwidth": 2,
            "linecolor": "white",
            "showbackground": true,
            "ticks": "",
            "zerolinecolor": "white"
           },
           "zaxis": {
            "backgroundcolor": "#E5ECF6",
            "gridcolor": "white",
            "gridwidth": 2,
            "linecolor": "white",
            "showbackground": true,
            "ticks": "",
            "zerolinecolor": "white"
           }
          },
          "shapedefaults": {
           "line": {
            "color": "#2a3f5f"
           }
          },
          "ternary": {
           "aaxis": {
            "gridcolor": "white",
            "linecolor": "white",
            "ticks": ""
           },
           "baxis": {
            "gridcolor": "white",
            "linecolor": "white",
            "ticks": ""
           },
           "bgcolor": "#E5ECF6",
           "caxis": {
            "gridcolor": "white",
            "linecolor": "white",
            "ticks": ""
           }
          },
          "title": {
           "x": 0.05
          },
          "xaxis": {
           "automargin": true,
           "gridcolor": "white",
           "linecolor": "white",
           "ticks": "",
           "title": {
            "standoff": 15
           },
           "zerolinecolor": "white",
           "zerolinewidth": 2
          },
          "yaxis": {
           "automargin": true,
           "gridcolor": "white",
           "linecolor": "white",
           "ticks": "",
           "title": {
            "standoff": 15
           },
           "zerolinecolor": "white",
           "zerolinewidth": 2
          }
         }
        }
       }
      },
      "text/html": [
       "<div>                            <div id=\"f49facd1-fd28-404d-9306-e8fe7cdcebb1\" class=\"plotly-graph-div\" style=\"height:525px; width:100%;\"></div>            <script type=\"text/javascript\">                require([\"plotly\"], function(Plotly) {                    window.PLOTLYENV=window.PLOTLYENV || {};                                    if (document.getElementById(\"f49facd1-fd28-404d-9306-e8fe7cdcebb1\")) {                    Plotly.newPlot(                        \"f49facd1-fd28-404d-9306-e8fe7cdcebb1\",                        [{\"hovertemplate\": \"0=%{x}<br>1=%{y}<br>2=%{z}<br>cluster=%{marker.color}<extra></extra>\", \"legendgroup\": \"\", \"marker\": {\"color\": [3, 0, 1, 3, 3, 2, 1, 4, 5, 2, 3, 0, 3, 3, 1, 5, 1, 3, 3, 1, 3, 1, 3, 3, 1, 0, 3, 3, 3, 4, 1, 3, 3, 4, 3, 3, 3, 3, 3, 2, 0, 4, 3, 3, 5, 1, 3, 1, 1, 1, 3, 3, 3, 3, 0, 1, 1, 3, 3, 3, 5, 3, 0, 0, 5, 3, 5, 0, 5, 3, 4, 5, 2, 3, 5, 3, 3, 4, 5, 5, 0, 3, 1, 1, 0, 3, 3, 0, 1, 1, 3, 1, 2, 0, 5, 4, 0, 3, 3, 3, 3, 3, 1, 3, 5, 3, 0, 0, 4, 3, 2, 1, 1, 0, 1, 1, 2, 3, 1, 3, 3, 3, 5, 3, 3, 5, 0, 0, 5, 1, 1, 3, 3, 3, 0, 3, 1, 3, 1, 3, 4, 3, 2, 1, 3, 0, 5, 3, 4, 0, 3, 5, 1, 5, 5, 3, 3, 1, 4, 3, 4, 1, 1, 4, 5, 4, 3, 1, 3, 1, 1, 3, 4, 3, 0, 2, 4, 3, 3, 5, 3, 3, 3, 3, 3, 0, 5, 3, 3, 3, 5, 3, 3, 3, 3, 0, 0, 5, 5, 3, 1, 1, 3, 3, 1, 3, 3, 3, 3, 1, 3, 1, 3, 4, 4, 3, 0, 3, 3, 3, 3, 3, 5, 5, 3, 1, 3, 5, 1, 4, 4, 4, 3, 5, 3, 1, 3, 1, 0, 1, 3, 2, 0, 1, 5, 3, 5, 3, 3, 3, 1, 4, 3, 3, 3, 3, 0, 3, 3, 1, 3, 0, 3, 5, 2, 3, 0, 5, 3, 3, 2, 4, 3, 1, 4, 3, 5, 3, 1, 2, 3, 0, 1, 0, 4, 3, 0, 1, 3, 1, 5, 3, 3, 3, 3, 5, 3, 0, 3, 4, 3, 3, 3, 1, 1, 0, 4, 3, 4, 4, 1, 5, 2, 3, 3, 3, 4, 0, 1, 3, 3, 3, 1, 0, 2, 5, 0, 1, 1, 5, 3, 3, 4, 1, 4, 4, 0, 1, 5, 0, 3, 4, 2, 5, 1, 3, 0, 3, 1, 3, 3, 3, 3, 3, 1, 5, 3, 3, 1, 4, 0, 1, 5, 3, 1, 3, 0, 0, 5, 3, 5, 0, 3, 3, 5, 2, 4, 1, 1, 1, 1, 3, 5, 2, 3, 4, 5, 3, 2, 5, 5, 5, 1, 3, 5, 2, 3, 3, 0, 1, 1, 3, 1, 0, 3, 0, 1, 3, 3, 3, 3, 1, 3, 1, 3, 3, 2, 3, 1, 4, 2, 5, 1, 1], \"coloraxis\": \"coloraxis\", \"symbol\": \"circle\"}, \"mode\": \"markers\", \"name\": \"\", \"scene\": \"scene\", \"showlegend\": false, \"type\": \"scatter3d\", \"x\": [-0.3614789076346994, 0.08448446703298138, 0.9767397872206347, -0.3682045248135451, 0.03810108776916149, 0.0008709059092417845, 1.0318032517328388, -1.7835987342558468, -1.7018267140000083, -0.43724530146015, 0.2672285258644185, 1.135896241843507, 0.14095428468678614, 4.846644271073263e-05, 0.9168404098378218, -0.11237265465223617, 1.2329298856475706, -0.2067248078185602, -0.06435542397960407, 0.9423781219413172, 0.26747020160150076, 0.551551631268804, 0.057316313986421674, 0.06857258053201937, 4.03146245971752, -0.05502741739173697, -0.46645973619097403, 0.0008014611726968442, 0.05717776480079463, -1.3856809398553256, 1.0268262745818444, 0.24865559097986514, -0.2830951716374131, -3.84347197750389, 0.30989633731529853, -0.24926916497262466, -0.09500249854510609, -0.3427081271593926, 0.48610923533825506, 1.0596130612201269, 0.4188266132218149, -1.8638289301524333, 0.00016024892475027653, 0.26294579111590327, -1.5680009915197959, 0.8532124143662232, 0.21164950345717568, 2.135625036681305, 0.6528406516681927, 2.487278918803727, 0.6421907082138179, 0.3979912722763816, 0.0006564514796377304, -0.4293687104444225, 0.89769497521326, 0.9756639421764273, 1.805688602587688, 0.37829194572177155, -0.6698821834202433, -0.7054436886349877, -1.1576655451724722, -0.7014662731233603, 0.20453487200505518, 0.8023434319508154, -0.24066347610269298, 0.1265486233725783, -0.055481120380910076, 1.7437791739799968, -0.822221975871377, 0.13908823391124892, -0.800218610513241, -0.6287749079029535, -0.9972694019407635, -0.3448014047687589, -0.654998757483778, 0.22076111881538446, 0.17394421627566994, -1.091323159633181, -0.670287598857829, -1.8780776842980145, 0.6469876227847956, -0.49719477754912916, 1.1499506838538807, 0.7418908094144275, 0.030139520053272636, -0.3856921170426144, 0.00031525585028385593, 0.11844384376379391, 0.4339808349062057, 0.6635943330218143, 0.2453346880458244, 0.8967322979805683, -0.28019401354799467, -0.44995207959484573, -0.6419967207308425, -2.019895746468816, 1.701739930292276, 0.15173197440670225, 0.07751633605318191, 0.0003237027532883964, -0.5149559210726049, 0.16099279357760626, 1.0489412395627182, 0.0531452304963846, 0.5581339879055442, -0.1351672489825639, 0.4794873833080508, 0.6280568239410527, -1.1464749172940318, 0.5183392486651703, -1.3603832177189406, 1.7812021865232046, 1.898948398167933, 0.3401771120115976, 1.0459453619331418, 0.755873157739935, -0.3102397851412685, -0.02341276220905643, 0.3693882486818019, 0.028762642259338937, -1.3108355245887875, 0.2797028074566268, -0.3552296537336655, -0.08590390785847349, -0.4327952035217673, -0.9907004438347008, 0.7178516670362514, 0.992771568568, -0.05955509508552147, 0.6476966452513376, 0.9891450151725973, -0.4078345669589371, -0.08356051167105784, -0.4321951192483359, 0.15079235408960504, -1.3027272116502338, 0.9745743526924393, -0.152562834927399, 1.5697342442161633, -0.7766637208172205, -0.8191270186055134, 0.1738719634555321, -0.08066459196219541, 0.9099620132083097, -0.08059958826539604, 1.2457355065099804, 0.1881112184770749, -0.03892552519696129, -1.5270417825350886, 1.252115685266362, -0.41792823614409474, -0.17090718523106166, 0.4410355243540647, -0.046362629462726616, -1.6217352365099096, 0.32064656014696263, -0.2019946285900213, 0.39986162466783054, -1.1101682954212542, 0.000361356652344221, -2.7840141051807574, 0.41731053444900984, 0.851025438212511, -4.133778483659821, -0.7775235097917306, -2.3476059040444563, 0.4125325649706973, 0.6792914513815067, 0.2265863696323466, 0.6518097607136392, 0.6821980953150576, 0.11856487368424716, -1.0091503400032724, -0.3471187481481467, 0.3350857621603661, -1.135098721241278, -2.2164101829201113, 0.09703286377105433, 0.13231885077590091, -0.09361656246063897, 0.3558637846024796, -0.29238117960426124, 0.13580904602097357, -0.2737992790957847, -0.5076076340454608, 0.22074548198575553, -2.366448820801947, -0.45566119546996764, -1.1961203001230554, -0.45159821608595274, -1.4913733290630453, -0.2111872562269547, -0.02468573482738483, -0.7205295093996053, 0.39258947242132813, 1.4056655638312379, 0.17185243446224088, 0.766724803647273, -0.4570255580311836, -0.28657249978025096, 0.9332054730454773, 0.8762849849747468, -0.26632805578198104, -0.08721550277701746, 0.45209175561599146, 0.12688038906439428, -0.37748287181487306, 0.09157213648792023, -0.5184361652008498, 0.6866348538572565, -0.024969049860147, 0.9200158082217925, -0.48626422028467053, -1.5502789103011596, -4.9904122870176, -0.07264360808422696, 1.0949763812299935, -0.3914993823931108, 0.00043922630918977125, -0.6110843219488212, -0.1751836676951397, -0.6804764731028081, -1.0956013184361475, -0.3713143889279773, 0.2538492499945732, 1.151848173929196, -0.05799052618490771, -1.507370594757792, 0.7477350196802981, -1.5588414918586713, -0.8604117819622239, -1.8961637163013867, -0.7044358813725828, 0.3721332403601707, -0.9792258340569749, 0.8548797005590919, 0.6124448627147124, 1.3060393855993446, 2.426539429886281, 0.7770196076056219, 0.08827094373408532, 0.29604987134620825, 0.8563351870248936, 1.3565281818844415, -0.46092760717818976, -0.5790825500914172, -0.11784059512476694, -0.2900865661537244, -0.11176819607218065, 0.05314159890251746, 0.4414617465856999, -1.203591353293862, 0.0019433212713927941, 0.16088097981006455, -0.750624163800496, 0.17527772111266673, -0.40856428549462104, -0.19033276207183905, -0.21721200418834172, 0.2809110642830117, -1.162717622571564, -0.34424395089864207, -0.7083829412391142, 0.005643086109648143, -0.2512286687169228, 0.37063068973937896, -0.3781716258203406, -0.15828225506619398, 0.20565514929753229, -0.14565461022357107, 0.09316795975117644, -1.309979920663108, -0.5504880012083769, 0.7985109487379972, -1.5021311820588346, -0.27825966130676394, -0.667709594043322, 0.07574860814605085, 2.2728792513478533, 0.07520015265273067, -0.38595902991060294, -0.00048824130490012196, 0.7483466255171413, 0.8530491927262213, -2.1806968887602993, 0.3688180207399716, 1.224776330017054, 1.9556986216396266, 0.41260808058462883, 1.7321266062838103, -0.7422395862922765, 0.6092057746924676, 0.16013453005602266, 0.00015431441658224736, -0.2729141237299783, 0.22117686331771866, 0.3517847101973857, 3.175904362803871, -0.8253961569764753, -1.8079669158006444, -0.06759710319109864, -1.1239995774280078, 0.3813573114223175, 1.6009966868813492, 0.7646991640212836, 0.7163381993020622, -1.5850181268205532, 0.000298574106905937, -0.7647939228172504, -1.6837061132989273, 1.2627625762178754, -2.5638794627015673, 0.1157358578538028, -6.99761866504444e-05, -0.2368805971722609, 0.2476034859832776, -1.0902197798543527, 0.5110766745056836, 0.6170587100047477, 0.3148867871580588, -0.3877300348152619, 0.34484067322047474, 1.1374758577664381, 1.3432313735666555, -1.5374999582686228, -0.3683110170669238, 0.11747131307192607, 0.40177265771772147, 0.6096399366992832, -1.5306175043390366, 0.6125491385117431, -0.5855212018086267, -1.1205624181232585, 1.9104994337609376, -0.8137617743553857, -1.2344549459227518, 0.616646065633782, 1.2084811518308414, 0.3793940085809962, 0.9716601990287037, 9.816535520620568e-05, -1.1187124602699194, -0.1132970345683053, -0.2930576335898849, 0.6499909446949866, -0.12172992475479258, 1.2445544812790124, -0.5088747166428987, 2.181178480093217, -0.16716646746809535, -0.9253779183207836, -0.7269141609624691, 0.45400768258878443, -0.6669405519931911, 0.6637879592139397, -0.4733013123335034, -0.8341780254292185, 0.3658187843979009, 0.5704734911701951, -1.2102741892335425, 0.06323657881278855, 0.9082847915873359, -1.4316566747941382, 0.14533913564175563, 0.43161685809925465, 0.6256955172217168, 0.5835293844136641, 0.1330212191799459, -0.5907988089331717, -0.22367060968893007, -0.08433157543722082, 0.7653936469289169, 0.24835947834645053, -0.29484242712743064, 0.41736521422426903, 0.8208657910457395, -1.0424761669486806, 1.584030868672968, 0.7637752158330592, 1.2941616281576127, 1.9376967436748844, -0.3742356256019033, 0.14625608460638617, -0.4282358534432972, 0.21092236378453194, -2.1696459402286963, -0.709495931642389, -0.1140079170674709, -0.007514465907887809, -1.4429393922002742, 0.13672403442628936, 0.20764468157907376, 0.7021524273994879, -0.4088097816210741, -1.6948515828668014, 0.5246287680978151, -0.012241593040557946, 0.8232307935264344, 0.26319965794627825, 0.6930655563169024, 0.49164401149054787, 0.2515039092072651, 0.7914754923869496, -0.11347504398595394, 0.47497332932895747, 0.41468021361984625, 2.019720605812449, -0.21103863456935829, -0.41765230386206453, -0.3287254958661411, -0.059846593962947704, 0.9154285500029802, -0.5713079320069585, 1.7007516758220385, 0.00041308918800241724, 0.39778671260264936, -1.1813057893952674, 0.23690336086470512, 0.6104109176472593, -1.3886526092096765, 1.599481594816676, 0.12275856234743754, 0.822915542348446, 0.3074211722066493], \"y\": [0.5112809931261808, -1.0511858648293537, 0.02993799832837315, -0.234792416678631, -0.30729578585751466, -0.19703387012788223, 0.12472228967144312, -2.046237629428493, 0.13640687347625943, -1.135616616228359, 0.2707394347748207, -0.7139557640563792, -0.1299697814611963, 0.09908699783830566, 1.1851049640832252, 0.5558583896048624, 0.5592996194951108, 0.04168422311475099, 0.16746291675446215, 0.2799994381495906, 0.6820639664485793, 0.36952622131382745, -0.7924255409732961, 0.2644323329138392, 0.5135635959622764, -1.2566710854832908, -0.07155334730717673, 0.09876522560984415, 0.0950278666008551, 0.6586299894674604, 0.09017782516612265, 0.056084139197320255, -0.04781064162574185, -0.6776505307248495, 0.23514591274230676, -0.08949583363196571, 0.28364458143596616, 0.37721679522977347, -0.21007209896481166, 1.0462966618970788, -1.0737228969474424, -0.50795582048882, 0.09907563767581191, -0.00917056955170036, 0.3176918922677212, 0.7814840561299837, -0.16429168293711063, -0.02499671158738749, 0.6351959517249206, -0.36764092662570247, -0.2664034120442681, 0.050406754477067925, 0.0988314589841062, 0.047244790472224296, -0.7065391739034235, 0.42800467364683226, 0.19402934132290228, 0.17303387110743784, 0.3472027006980567, 1.4115072508174926, 0.2931470682181364, 0.6161675005191593, -0.7242016849690053, -0.7710760286601639, -0.5240454706820682, -0.1330597946400908, 0.21663472364699443, -1.080733275684185, 0.561324898846347, -0.1486841152496885, -2.330255914669307, 0.26201892494921036, 0.4482217756226766, -0.5490165166747634, 0.43976423704321954, 0.1979627893743875, 0.43816506349996154, -0.24107088078987335, 2.4714354820628555, 0.6400548151004067, -0.28164363818800103, 0.7473490898652259, 0.15819299822907526, -0.0190151656211111, -1.2084082623380326, 0.3178679750430273, 0.09925083623348868, -1.109895569120132, 0.34828178761652767, 1.1051259738393622, 0.0011023890325733965, 0.9431258755390031, -0.79110153867575, -2.1596717246670543, 0.20010213220697315, 0.31802145403955706, -1.3080270241344425, 0.06918130279842256, 0.6756573801118131, 0.09850716541397299, -0.20038404036156132, -0.10852904685067816, 0.4869370984223637, 0.3196398497339397, 1.141410199761224, 0.004317287938494329, -1.1443823259492079, -2.9242942446394142, -0.8439134758793677, -0.385336992484882, -0.8225619085439239, 1.5233564644611906, 1.6993967597825126, -2.7599004979755684, 0.488915407759279, -0.09375617374955478, 0.747286335182324, 0.34013850574125604, 0.5293278584740557, 0.014238328322865647, 0.6639321599633446, -0.018550836566656324, -0.4127702070583257, -0.1034472933284147, 0.05405767951635826, 1.8974745991034074, -0.4896721770883617, -1.098003434106064, -0.20369472313755788, 0.1752954274240218, -0.014307180495839763, 1.172281530843446, 0.15772782661952345, -0.14766656811806408, -1.1050179344757756, 0.9500810707783499, 0.987255536884639, 0.14068948906026713, -0.3615137503887709, -0.2206083215198451, -0.4249107621599547, 0.2869886283907955, -0.9397702122554981, -0.13579056465794453, -0.07705660037400433, -0.9210331694418027, 1.6526544704991788, -0.7685157578340477, -1.7125757491183036, -0.8760340828002433, -0.10379521142536945, -0.409850898288911, 0.3554140160136523, 0.4134925133036874, -0.24241340815273604, 0.2668784296427734, -0.38719638780338556, 0.2880396371442873, -1.519375235420796, 0.09911399664482545, -0.9343962964387617, 0.6785185770055677, 3.927486575679452, 1.764897429264984, -0.577476494407961, -1.8835208028439812, 0.10746909682421381, 0.10968430055886157, 0.4012925792446793, 0.4563873168625035, -0.04106467172788369, 0.20962367281471309, -0.4944010205820499, 0.2940373125027257, -0.562591883807437, -0.21355832695595747, -1.1203303434651435, 0.24357616213950511, -0.28617819078809764, -0.08273239839343893, 0.11503522783179017, -0.5785932410032248, 1.0009654685886364, 0.6289009542310492, -0.855165283775435, -1.9782627249859086, 2.366731049837825, -0.4480085453255631, 0.7411613826227603, 0.19525416054567757, 3.09994587018367, 0.005441841220185395, 0.05542825511437371, -0.25043633226892154, 0.2584882406573931, -1.5214858527873556, -0.8625434988697495, 1.1817587218162664, 0.6922922512378091, 0.11805026975567112, 0.6975603442348703, -0.1291113329562917, -0.28142303019210285, 0.025017884645732378, 0.2088783745781214, 0.06576361640945584, -0.5764630948871632, 0.09714038490787473, -0.5151879697725554, 0.28744982226386784, 0.017750610591066567, -0.43904748896651885, 0.087463289189827, -0.19017054601639344, 0.7364994998157566, 1.2941198601904613, -0.48205503220252405, 0.759036616085469, 0.09897326698719382, -0.1440275429936165, -0.32719618051957466, 0.6131756218265119, -0.623441432915498, 0.6072468267394368, 0.2943987007985623, 0.6680869947377007, -0.03570972031428152, 0.13133712424297647, 0.3186418690510874, -0.9113776588795369, -1.079623968182988, 0.4311916500345414, 0.291475396149987, -0.2902848332605924, 0.025780092914950942, 2.23400478249712, -0.1312096925371173, 0.33472442634305344, -1.4012802594475726, 0.2719312807155898, 0.012415019227854623, -0.09541322081930691, -1.0163454466931225, 0.8535380124029426, 0.5056357272001878, 0.6114427170787677, 1.0928569691056351, 0.4075865741829716, 0.4758044306286421, -0.46615477463978977, 0.26487671683520125, -0.35173738335926125, -0.13709222599969184, 0.19877667038794625, -0.2636472486065446, 0.023075682761446586, -1.775441699050546, 0.40956669132567136, -0.2532609182610416, 1.1544825680955393, 0.44412347071359304, -1.2958937274174738, 0.6486988607141925, -0.021683009629270233, 0.8959315753356062, -0.012398884250868015, -1.789815820765897, 1.4630971230963565, 0.15944128691754184, 0.16695986963839635, -0.9157164210648635, -0.4994102724325518, -0.05219630803108935, 0.21021925129266172, 0.1336855151935577, -0.5085409921298163, -0.5598821915859719, -0.472608867680641, 0.23854660453003523, 0.39583136950657166, -0.040421545671631906, -1.704129791658779, -0.03350236897512352, -0.6576270187922562, -1.269597153050047, 0.08142809476816287, -0.6409600773439194, 0.7819854632998439, -0.3750182747909062, -0.5564713160287036, 0.16816036479040045, -0.2428857644017691, 0.2637637309869482, 0.09897303997066055, -0.6215345905029305, -0.22693793256090572, -0.1442182598433125, -2.414047903399852, 0.6529090006936896, -0.26482678255961956, 0.10160665570945342, 1.8411060271894646, -0.054723905469795796, -0.09859751464078356, -0.3212641278097322, -0.5607624603359304, 0.11203735899417788, 0.0992816797819087, -1.019095332607842, -1.0953864732652876, 0.13993301246967754, -0.6481489655024054, 0.23880608382515128, 0.09902686247437145, 0.2426767699752929, 0.16578436999971136, -1.2011672104454894, -1.7137383326899147, 0.20746156942558436, 0.003952428809492468, -0.047263870861538534, 0.28321951842719534, 1.1307565762841758, -2.2798398457773716, 0.5072359650333889, 0.14272457437592795, -2.4643010851428278, 0.43037633161081446, 0.6831375220892435, 3.2374285211400746, -0.0744749999066491, 0.9900195954158848, -0.21150798325513345, 0.8170671681255286, -1.3677440324158792, -0.11805863904581611, -1.055804904049818, 0.07943979036042562, 1.9501791632071446, -0.816012375307305, 0.09866669421562603, -1.0437695887519645, -0.12400663427034858, 0.23695822655613977, 0.3613033204395096, -0.11738271662456386, -0.6112305682253159, -0.48298719123157285, 0.16457995237441697, 0.07390642790249805, 0.3089890876618249, -0.23448221767465252, 0.4329656844038006, -0.5828225222524641, -0.2635583572295968, 0.3837831966289549, -0.5621845837205489, -0.6202745837160233, 0.08943547321455149, -1.4219186811603544, -1.3976259240272177, 0.9097002826449382, 1.2455945503379267, 0.06777019801655669, 0.2516154319851844, -0.29545694457364585, -1.5283670023722387, -1.162294326180446, -0.7344905878549036, -0.3685261680638374, 0.12214437593090086, -1.2884066731010446, 0.5277467628679213, -0.38372837639654866, -0.27813464991375064, 1.2781813921679752, -0.9172015232099823, 0.16086698007392336, 0.5120087666003492, -0.2464164605914365, 0.23882102606760447, 0.6604698846085407, 0.671547209828165, -0.17375215567211721, 0.7544553170733036, -0.1943946030204982, 0.3190227951781654, 1.1151839387332414, 2.0492690511819536, 0.27522061200271086, -0.1807192964899301, 0.5521027982563208, 0.7757117011315651, -0.21786132337646, 3.0269609910486204, 1.1277508087264265, 1.209439653230633, -0.41623079225809456, -2.3563176007961926, 0.635469434512294, 0.7296464149155131, 0.2679874102324676, 0.3423434002177605, -1.4898175229682673, -0.5650496152603603, -0.5992743213884796, 0.2014001910047244, -0.28789337940739984, 0.6266371689810236, 0.00814194478990128, -0.34706496585829233, 3.324165676307334, -0.191398095563506, -0.36955723926658646, 0.09857342064503467, 0.31604811464996535, -1.0910056501362377, -0.40202089557316034, 1.5145054651558965, -0.9429965001979576, -0.42119688088601503, 0.5095166572275273, 0.9773407343039024, 0.46654084101766147], \"z\": [0.031664934444369186, -0.0917638337449857, 0.20184992547243996, -0.08043450035157726, -0.06274961623540934, 1.1750015903044317, -0.17668223556474993, -0.22326231605429087, -1.3276988045835925, 1.799108454301598, 0.35965185699273383, 0.21670440063424465, 0.12647146346339466, 0.03599776084660384, 0.06699135637577158, -0.713562520567399, -0.08167557514568666, 0.31823469519131936, 0.0024099696198824454, -0.01677146185568057, 0.26358160903902145, -0.046435547030164254, 0.35830186121958774, -0.1412223733867063, -1.4002677485420223, -0.8460609657288545, -0.12684763923139186, 0.03606511213728607, 0.16542194237597552, 0.18790536882435604, -0.3558470238298183, 0.05454280834960254, 0.33118334926004334, 1.8110959081437907, 0.9774469251535551, 0.8496443210096405, 0.8450757396141371, 0.2953344828541844, 0.21155925565856243, 1.5797216226714366, -0.8088617787605018, 0.40235454200157106, 0.03669918304283111, 0.4575071011694084, -2.0737875016542247, 0.2198679360355326, 0.21143869750501315, 0.1125607385954564, 0.06637062065405185, -0.045314138707706786, 0.412302418960265, -0.15078546913343094, 0.03598605978520532, -0.13201224965326347, -0.9756791495161075, 0.08874059317401242, -0.5045081386422998, 0.2602393557222584, 0.6220406338410471, 0.5316179953064514, -1.3893273277101075, -0.17981103129515588, -0.4032336129092776, -0.606788036730459, -0.958527643088626, 0.5844273921260853, -1.5567599674210995, -0.2071450750514141, -0.3735790759538806, -0.20780911535815694, 1.132237664144361, -0.7650819807991581, 2.600170980461674, 0.13302487953020792, -1.468279899154835, -0.04042750364787452, 0.008251303680779297, 0.3144943636334826, 0.03834993755339178, -0.7068930178055637, -1.2784525908094813, 0.5209970165373308, 0.5252825901380413, -0.004061993591002178, -0.9297713149721838, 0.1314661677726011, 0.03621668640317871, -1.596443994194828, -0.37164710340921914, 0.07336541974467073, 0.5142429600955565, -0.9949075218256881, 1.640154519924631, 0.909307405843564, -2.497731829051984, -0.2405173379012858, -2.0278831721007493, 0.21300253818110612, -0.2357705833385418, 0.03567438539357679, 0.02198267949107513, 0.7540281651126812, -1.1095918859354614, 0.03142315644333282, -1.396077886862919, 0.4320976415815079, -0.2360924664074292, -1.4193531900621636, -0.06915844618484082, 0.35390336960980906, 4.509503357028306, -1.504764187822147, -0.9679481981094344, 0.5960265598744303, 0.37146377310963796, 0.11702074428356303, 1.4369314117503, 0.38585750606168867, -0.6748056369832403, 0.05521811808872755, 0.4205086485192038, 0.2797715913639314, -0.8807117688618591, -0.01003138566360011, 0.0291338320032268, 0.022845213228308126, -0.6412815974931261, 0.5001979599972364, -0.9972243157806363, 0.6212469398299514, -0.07119914835649838, 0.2368495980525661, 0.2689540116934547, 1.0709942832606452, 0.38047168511348073, 0.6219176296327964, -0.04419170783590773, 0.3181006995178115, -0.44381202039459194, 0.43872496963925156, -0.08087905770691109, 0.6681614425950152, 4.3924197362568025, -1.0701560215438173, -0.1004997253239656, 0.2226062023966738, -0.9780910439964224, 0.25256076198543775, -1.1520647020091026, -0.9112482373728127, 0.6210749857289775, -0.958192933715675, -0.4442389026918169, -0.5876747652773597, -1.224837598871788, 0.7757192621310991, 0.46414466209385485, -0.2792979060649695, -1.3397261938648197, 0.03631198823392698, 0.7208220303958132, -0.41521687588143674, 0.20820553503457118, 0.987863338469323, -1.284007922323049, -0.556173117177599, 0.4036388856143279, 0.5367385299313147, 0.36229641311697247, -0.31939696419626407, 0.36487654896320126, 0.13005004855698707, 0.12300107621539426, 0.29914737032984356, -0.9751306342519356, 2.0510191114546203, -1.1881407187644757, 0.0015564508187757148, 0.836866376623555, -1.068914247493616, -0.05462892127421651, 0.2219575819863705, 0.8182689056756164, -0.26575702110810656, 0.40837210479843655, 0.3325281837792045, -0.24413062841972302, -0.041555874777346014, 0.6606687062756806, 0.19755708672061484, -1.761762638449777, 0.15639729653816142, 0.3635512062339521, -0.5141322130805908, 0.7362121064134332, -0.839456403730779, -0.6164014138120155, -2.5121865218408006, -0.6430763348823404, 0.965047707173278, 0.5531209948095415, -0.7261045345702585, 0.05047061922927639, 0.21574674370313782, -0.3704339448879009, 0.25263948930429125, 0.8198169074158796, 0.4593426056648413, 0.501392622194284, 0.14023862060665893, 0.7228222784130502, 0.49040267552718997, 0.046828806883350615, -0.048510504551700945, -0.09470168418918101, -0.1291339890960427, -0.47554074199127555, 0.345753419443738, 0.035850830894110966, 0.13552213561722673, 0.6820343442789739, 0.3708353902634298, -1.1315383398077035, -1.650985255164899, 0.13296440867891812, -1.2041668750269814, 0.34951144903393017, -1.8717570906066898, -0.020448336111463655, 0.13066862563745674, -0.8187771847213076, -0.04818109053523664, 0.09697879218088065, -1.3203274429961334, 0.07655100413612659, 1.4991091590917625, 0.5649594935561226, 0.7471890441591044, 0.2972439255174387, -0.47613279513743956, -0.23469729458928418, 1.5968805097958914, -0.4562383195235259, 0.8810897968319658, -0.5529483672805598, 0.49514968211496696, -0.39075468345358866, 0.5565994360630132, 0.062283705429207456, 0.1275772600921018, -0.16772248111558907, 0.30140163880803283, -0.17340231461181438, 0.7342368655007145, 0.6222105142070194, 0.05595182213146292, 1.0445843662145755, 0.07721419141804414, 0.1220752796231383, 0.09966409364339948, 0.18732425281903148, 0.6173078769988779, 0.8881097572303974, -1.7735893771426543, 3.74353202327957, 0.3092960544774865, 1.015585297862609, -1.4330159018952253, -0.1720627239665607, -0.13401545071598708, 1.3922858402026734, -0.45041062542209964, -0.10572159741149448, -0.4658545193709189, 0.3657568275375724, -0.21935330990155455, -1.6119493546976797, -0.3637885030833077, 1.045931333941735, 1.2184515084356904, -0.46596263577324204, -0.17831468773613376, 0.1465907790654709, 0.604043902251969, -0.8272060309417465, 0.14987697674211645, -0.4785162582296179, 0.2799268949751003, 0.3845953984378332, -0.2866074734989321, -0.6523571000110937, 0.12099302636099976, 0.2197927604577018, 0.035532028367491926, 0.06319001680149322, -1.029756258505674, -0.02660348489932393, 1.2115861607293672, -0.14423305500280392, 0.8936841004237616, 0.514506736497081, 0.4019498334042689, -0.12361968400076873, 0.32205803248975046, 0.1041680403532278, -1.139114468244998, -0.042976592478595005, 0.035805798732697895, -0.739146144996757, -0.30207302964618427, -1.275967999101769, -2.6701562406631068, 1.2770044424913538, 0.03586294190527161, -0.1116507272482486, 0.533837530479822, 0.7745196724679831, -0.4534789482608707, 0.3388417920534354, 0.5144691861788327, 0.052036363178710514, -0.017317163502780508, 0.1020667296583162, -0.4562483718631995, 1.3666213610326854, -0.7310287891133249, -1.4006581289572217, -0.27590980084252376, 0.4714542656623436, -1.7290182975478094, 0.4417404294878252, 0.7114982891426196, 0.022416799317747094, 0.25515194895298293, -0.28659447740342253, 0.9336930088237541, -0.18150520257195205, 0.19471211867579785, -1.0434818749181303, -0.13713781783558415, 0.03600281243626066, 0.3031184029809869, 1.1259585515039627, -0.7269325271107487, 0.4337213524779293, 0.5443762332469033, -0.11555297473096782, 0.06827616273679378, -0.039660733710782936, 0.6919960229835604, -0.10867369139713196, 0.13582479808128495, 0.4980351988718134, -0.02301564891634894, -0.1260351482523731, -0.8506720808722107, 0.8693571491934857, 0.6053752240594161, -0.004469850690735883, -0.37775726147899025, 0.0018609293990789928, -0.3816771796009147, -2.166222929795242, -0.40742806288363276, -0.701968357097131, 0.20607356131969098, -1.3083424125568484, 0.6120530736662941, -1.710188870427703, 0.22990439811062616, -0.8206181040279154, -0.48210876800587826, 0.2688896073068141, 0.3645719130027088, -2.3682686861522795, 2.825812386365282, -0.49516139033149664, 0.5650924194952236, 0.300615843571342, -0.420983972678559, 1.1356705757682253, 0.04594467563310076, -1.101760689266449, 1.2146202065824037, 0.27897553657150526, 0.11241791734498574, -1.639251073609826, 0.17664819271936383, 2.1237886445638896, -1.3417761917418864, -0.9290255395255762, -0.7149140171572552, 0.01939829715712449, -0.06434956369366623, -1.289750420292786, 1.6089863260774482, -0.013625054030073962, 0.9121274074953751, 0.1134851740992015, -0.5427236747558573, 0.10683391838867418, 0.2820255872952184, -0.24476014022139603, -0.663310041186198, 0.2590390750834528, -0.3620463370682038, 0.6030224527195676, -0.31720929460700553, 0.14322862747705323, -0.3287364539429084, 0.19803032136774912, 1.5772966791304595, -0.2887937733298399, -0.4746189505646581, 0.03590505877088933, -0.13646547755620203, 2.1503913372251318, -0.250286787595437, 0.48775832104842287, 0.4211071677510409, 1.6388099015278863, -1.8257202097744227, -0.45274422198830794, -0.6565104781552767]}],                        {\"coloraxis\": {\"colorbar\": {\"title\": {\"text\": \"cluster\"}}, \"colorscale\": [[0.0, \"#0d0887\"], [0.1111111111111111, \"#46039f\"], [0.2222222222222222, \"#7201a8\"], [0.3333333333333333, \"#9c179e\"], [0.4444444444444444, \"#bd3786\"], [0.5555555555555556, \"#d8576b\"], [0.6666666666666666, \"#ed7953\"], [0.7777777777777778, \"#fb9f3a\"], [0.8888888888888888, \"#fdca26\"], [1.0, \"#f0f921\"]]}, \"legend\": {\"tracegroupgap\": 0}, \"margin\": {\"t\": 60}, \"scene\": {\"domain\": {\"x\": [0.0, 1.0], \"y\": [0.0, 1.0]}, \"xaxis\": {\"title\": {\"text\": \"0\"}}, \"yaxis\": {\"title\": {\"text\": \"1\"}}, \"zaxis\": {\"title\": {\"text\": \"2\"}}}, \"template\": {\"data\": {\"bar\": [{\"error_x\": {\"color\": \"#2a3f5f\"}, \"error_y\": {\"color\": \"#2a3f5f\"}, \"marker\": {\"line\": {\"color\": \"#E5ECF6\", \"width\": 0.5}}, \"type\": \"bar\"}], \"barpolar\": [{\"marker\": {\"line\": {\"color\": \"#E5ECF6\", \"width\": 0.5}}, \"type\": \"barpolar\"}], \"carpet\": [{\"aaxis\": {\"endlinecolor\": \"#2a3f5f\", \"gridcolor\": \"white\", \"linecolor\": \"white\", \"minorgridcolor\": \"white\", \"startlinecolor\": \"#2a3f5f\"}, \"baxis\": {\"endlinecolor\": \"#2a3f5f\", \"gridcolor\": \"white\", \"linecolor\": \"white\", \"minorgridcolor\": \"white\", \"startlinecolor\": \"#2a3f5f\"}, \"type\": \"carpet\"}], \"choropleth\": [{\"colorbar\": {\"outlinewidth\": 0, \"ticks\": \"\"}, \"type\": \"choropleth\"}], \"contour\": [{\"colorbar\": {\"outlinewidth\": 0, \"ticks\": \"\"}, \"colorscale\": [[0.0, \"#0d0887\"], [0.1111111111111111, \"#46039f\"], [0.2222222222222222, \"#7201a8\"], [0.3333333333333333, \"#9c179e\"], [0.4444444444444444, \"#bd3786\"], [0.5555555555555556, \"#d8576b\"], [0.6666666666666666, \"#ed7953\"], [0.7777777777777778, \"#fb9f3a\"], [0.8888888888888888, \"#fdca26\"], [1.0, \"#f0f921\"]], \"type\": \"contour\"}], \"contourcarpet\": [{\"colorbar\": {\"outlinewidth\": 0, \"ticks\": \"\"}, \"type\": \"contourcarpet\"}], \"heatmap\": [{\"colorbar\": {\"outlinewidth\": 0, \"ticks\": \"\"}, \"colorscale\": [[0.0, \"#0d0887\"], [0.1111111111111111, \"#46039f\"], [0.2222222222222222, \"#7201a8\"], [0.3333333333333333, \"#9c179e\"], [0.4444444444444444, \"#bd3786\"], [0.5555555555555556, \"#d8576b\"], [0.6666666666666666, \"#ed7953\"], [0.7777777777777778, \"#fb9f3a\"], [0.8888888888888888, \"#fdca26\"], [1.0, \"#f0f921\"]], \"type\": \"heatmap\"}], \"heatmapgl\": [{\"colorbar\": {\"outlinewidth\": 0, \"ticks\": \"\"}, \"colorscale\": [[0.0, \"#0d0887\"], [0.1111111111111111, \"#46039f\"], [0.2222222222222222, \"#7201a8\"], [0.3333333333333333, \"#9c179e\"], [0.4444444444444444, \"#bd3786\"], [0.5555555555555556, \"#d8576b\"], [0.6666666666666666, \"#ed7953\"], [0.7777777777777778, \"#fb9f3a\"], [0.8888888888888888, \"#fdca26\"], [1.0, \"#f0f921\"]], \"type\": \"heatmapgl\"}], \"histogram\": [{\"marker\": {\"colorbar\": {\"outlinewidth\": 0, \"ticks\": \"\"}}, \"type\": \"histogram\"}], \"histogram2d\": [{\"colorbar\": {\"outlinewidth\": 0, \"ticks\": \"\"}, \"colorscale\": [[0.0, \"#0d0887\"], [0.1111111111111111, \"#46039f\"], [0.2222222222222222, \"#7201a8\"], [0.3333333333333333, \"#9c179e\"], [0.4444444444444444, \"#bd3786\"], [0.5555555555555556, \"#d8576b\"], [0.6666666666666666, \"#ed7953\"], [0.7777777777777778, \"#fb9f3a\"], [0.8888888888888888, \"#fdca26\"], [1.0, \"#f0f921\"]], \"type\": \"histogram2d\"}], \"histogram2dcontour\": [{\"colorbar\": {\"outlinewidth\": 0, \"ticks\": \"\"}, \"colorscale\": [[0.0, \"#0d0887\"], [0.1111111111111111, \"#46039f\"], [0.2222222222222222, \"#7201a8\"], [0.3333333333333333, \"#9c179e\"], [0.4444444444444444, \"#bd3786\"], [0.5555555555555556, \"#d8576b\"], [0.6666666666666666, \"#ed7953\"], [0.7777777777777778, \"#fb9f3a\"], [0.8888888888888888, \"#fdca26\"], [1.0, \"#f0f921\"]], \"type\": \"histogram2dcontour\"}], \"mesh3d\": [{\"colorbar\": {\"outlinewidth\": 0, \"ticks\": \"\"}, \"type\": \"mesh3d\"}], \"parcoords\": [{\"line\": {\"colorbar\": {\"outlinewidth\": 0, \"ticks\": \"\"}}, \"type\": \"parcoords\"}], \"pie\": [{\"automargin\": true, \"type\": \"pie\"}], \"scatter\": [{\"marker\": {\"colorbar\": {\"outlinewidth\": 0, \"ticks\": \"\"}}, \"type\": \"scatter\"}], \"scatter3d\": [{\"line\": {\"colorbar\": {\"outlinewidth\": 0, \"ticks\": \"\"}}, \"marker\": {\"colorbar\": {\"outlinewidth\": 0, \"ticks\": \"\"}}, \"type\": \"scatter3d\"}], \"scattercarpet\": [{\"marker\": {\"colorbar\": {\"outlinewidth\": 0, \"ticks\": \"\"}}, \"type\": \"scattercarpet\"}], \"scattergeo\": [{\"marker\": {\"colorbar\": {\"outlinewidth\": 0, \"ticks\": \"\"}}, \"type\": \"scattergeo\"}], \"scattergl\": [{\"marker\": {\"colorbar\": {\"outlinewidth\": 0, \"ticks\": \"\"}}, \"type\": \"scattergl\"}], \"scattermapbox\": [{\"marker\": {\"colorbar\": {\"outlinewidth\": 0, \"ticks\": \"\"}}, \"type\": \"scattermapbox\"}], \"scatterpolar\": [{\"marker\": {\"colorbar\": {\"outlinewidth\": 0, \"ticks\": \"\"}}, \"type\": \"scatterpolar\"}], \"scatterpolargl\": [{\"marker\": {\"colorbar\": {\"outlinewidth\": 0, \"ticks\": \"\"}}, \"type\": \"scatterpolargl\"}], \"scatterternary\": [{\"marker\": {\"colorbar\": {\"outlinewidth\": 0, \"ticks\": \"\"}}, \"type\": \"scatterternary\"}], \"surface\": [{\"colorbar\": {\"outlinewidth\": 0, \"ticks\": \"\"}, \"colorscale\": [[0.0, \"#0d0887\"], [0.1111111111111111, \"#46039f\"], [0.2222222222222222, \"#7201a8\"], [0.3333333333333333, \"#9c179e\"], [0.4444444444444444, \"#bd3786\"], [0.5555555555555556, \"#d8576b\"], [0.6666666666666666, \"#ed7953\"], [0.7777777777777778, \"#fb9f3a\"], [0.8888888888888888, \"#fdca26\"], [1.0, \"#f0f921\"]], \"type\": \"surface\"}], \"table\": [{\"cells\": {\"fill\": {\"color\": \"#EBF0F8\"}, \"line\": {\"color\": \"white\"}}, \"header\": {\"fill\": {\"color\": \"#C8D4E3\"}, \"line\": {\"color\": \"white\"}}, \"type\": \"table\"}]}, \"layout\": {\"annotationdefaults\": {\"arrowcolor\": \"#2a3f5f\", \"arrowhead\": 0, \"arrowwidth\": 1}, \"coloraxis\": {\"colorbar\": {\"outlinewidth\": 0, \"ticks\": \"\"}}, \"colorscale\": {\"diverging\": [[0, \"#8e0152\"], [0.1, \"#c51b7d\"], [0.2, \"#de77ae\"], [0.3, \"#f1b6da\"], [0.4, \"#fde0ef\"], [0.5, \"#f7f7f7\"], [0.6, \"#e6f5d0\"], [0.7, \"#b8e186\"], [0.8, \"#7fbc41\"], [0.9, \"#4d9221\"], [1, \"#276419\"]], \"sequential\": [[0.0, \"#0d0887\"], [0.1111111111111111, \"#46039f\"], [0.2222222222222222, \"#7201a8\"], [0.3333333333333333, \"#9c179e\"], [0.4444444444444444, \"#bd3786\"], [0.5555555555555556, \"#d8576b\"], [0.6666666666666666, \"#ed7953\"], [0.7777777777777778, \"#fb9f3a\"], [0.8888888888888888, \"#fdca26\"], [1.0, \"#f0f921\"]], \"sequentialminus\": [[0.0, \"#0d0887\"], [0.1111111111111111, \"#46039f\"], [0.2222222222222222, \"#7201a8\"], [0.3333333333333333, \"#9c179e\"], [0.4444444444444444, \"#bd3786\"], [0.5555555555555556, \"#d8576b\"], [0.6666666666666666, \"#ed7953\"], [0.7777777777777778, \"#fb9f3a\"], [0.8888888888888888, \"#fdca26\"], [1.0, \"#f0f921\"]]}, \"colorway\": [\"#636efa\", \"#EF553B\", \"#00cc96\", \"#ab63fa\", \"#FFA15A\", \"#19d3f3\", \"#FF6692\", \"#B6E880\", \"#FF97FF\", \"#FECB52\"], \"font\": {\"color\": \"#2a3f5f\"}, \"geo\": {\"bgcolor\": \"white\", \"lakecolor\": \"white\", \"landcolor\": \"#E5ECF6\", \"showlakes\": true, \"showland\": true, \"subunitcolor\": \"white\"}, \"hoverlabel\": {\"align\": \"left\"}, \"hovermode\": \"closest\", \"mapbox\": {\"style\": \"light\"}, \"paper_bgcolor\": \"white\", \"plot_bgcolor\": \"#E5ECF6\", \"polar\": {\"angularaxis\": {\"gridcolor\": \"white\", \"linecolor\": \"white\", \"ticks\": \"\"}, \"bgcolor\": \"#E5ECF6\", \"radialaxis\": {\"gridcolor\": \"white\", \"linecolor\": \"white\", \"ticks\": \"\"}}, \"scene\": {\"xaxis\": {\"backgroundcolor\": \"#E5ECF6\", \"gridcolor\": \"white\", \"gridwidth\": 2, \"linecolor\": \"white\", \"showbackground\": true, \"ticks\": \"\", \"zerolinecolor\": \"white\"}, \"yaxis\": {\"backgroundcolor\": \"#E5ECF6\", \"gridcolor\": \"white\", \"gridwidth\": 2, \"linecolor\": \"white\", \"showbackground\": true, \"ticks\": \"\", \"zerolinecolor\": \"white\"}, \"zaxis\": {\"backgroundcolor\": \"#E5ECF6\", \"gridcolor\": \"white\", \"gridwidth\": 2, \"linecolor\": \"white\", \"showbackground\": true, \"ticks\": \"\", \"zerolinecolor\": \"white\"}}, \"shapedefaults\": {\"line\": {\"color\": \"#2a3f5f\"}}, \"ternary\": {\"aaxis\": {\"gridcolor\": \"white\", \"linecolor\": \"white\", \"ticks\": \"\"}, \"baxis\": {\"gridcolor\": \"white\", \"linecolor\": \"white\", \"ticks\": \"\"}, \"bgcolor\": \"#E5ECF6\", \"caxis\": {\"gridcolor\": \"white\", \"linecolor\": \"white\", \"ticks\": \"\"}}, \"title\": {\"x\": 0.05}, \"xaxis\": {\"automargin\": true, \"gridcolor\": \"white\", \"linecolor\": \"white\", \"ticks\": \"\", \"title\": {\"standoff\": 15}, \"zerolinecolor\": \"white\", \"zerolinewidth\": 2}, \"yaxis\": {\"automargin\": true, \"gridcolor\": \"white\", \"linecolor\": \"white\", \"ticks\": \"\", \"title\": {\"standoff\": 15}, \"zerolinecolor\": \"white\", \"zerolinewidth\": 2}}}},                        {\"responsive\": true}                    ).then(function(){\n",
       "                            \n",
       "var gd = document.getElementById('f49facd1-fd28-404d-9306-e8fe7cdcebb1');\n",
       "var x = new MutationObserver(function (mutations, observer) {{\n",
       "        var display = window.getComputedStyle(gd).display;\n",
       "        if (!display || display === 'none') {{\n",
       "            console.log([gd, 'removed!']);\n",
       "            Plotly.purge(gd);\n",
       "            observer.disconnect();\n",
       "        }}\n",
       "}});\n",
       "\n",
       "// Listen for the removal of the full notebook cells\n",
       "var notebookContainer = gd.closest('#notebook-container');\n",
       "if (notebookContainer) {{\n",
       "    x.observe(notebookContainer, {childList: true});\n",
       "}}\n",
       "\n",
       "// Listen for the clearing of the current output cell\n",
       "var outputEl = gd.closest('.output');\n",
       "if (outputEl) {{\n",
       "    x.observe(outputEl, {childList: true});\n",
       "}}\n",
       "\n",
       "                        })                };                });            </script>        </div>"
      ]
     },
     "metadata": {},
     "output_type": "display_data"
    }
   ],
   "source": [
    "import plotly.express as px\n",
    "fig = px.scatter_3d(scores, x=0, y=1, z=2, color='cluster')\n",
    "fig.show()"
   ]
  },
  {
   "cell_type": "code",
   "execution_count": null,
   "metadata": {},
   "outputs": [],
   "source": []
  }
 ],
 "metadata": {
  "kernelspec": {
   "display_name": "Python 3",
   "language": "python",
   "name": "python3"
  },
  "language_info": {
   "codemirror_mode": {
    "name": "ipython",
    "version": 3
   },
   "file_extension": ".py",
   "mimetype": "text/x-python",
   "name": "python",
   "nbconvert_exporter": "python",
   "pygments_lexer": "ipython3",
   "version": "3.8.5"
  }
 },
 "nbformat": 4,
 "nbformat_minor": 4
}
