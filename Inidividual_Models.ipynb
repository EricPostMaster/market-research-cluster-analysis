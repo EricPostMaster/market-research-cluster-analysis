{
 "cells": [
  {
   "cell_type": "code",
   "execution_count": null,
   "metadata": {},
   "outputs": [],
   "source": [
    "#!pip install streamlit\n",
    "import numpy as np\n",
    "import pandas as pd\n",
    "from sklearn.linear_model import LinearRegression"
   ]
  },
  {
   "cell_type": "code",
   "execution_count": null,
   "metadata": {},
   "outputs": [],
   "source": [
    "# df = pd.read_csv('sample data.csv')\n",
    "#df = pd.read_csv('dgn.csv')\n",
    "df = pd.read_csv('dgn2.csv')"
   ]
  },
  {
   "cell_type": "code",
   "execution_count": null,
   "metadata": {},
   "outputs": [],
   "source": [
    "#df['UID']='ID' + df['UID'].astype(str)\n",
    "df"
   ]
  },
  {
   "cell_type": "code",
   "execution_count": null,
   "metadata": {},
   "outputs": [],
   "source": [
    "X =df.drop(['UID','Rating'], axis=1)\n",
    "y= df['Rating']"
   ]
  },
  {
   "cell_type": "code",
   "execution_count": null,
   "metadata": {},
   "outputs": [],
   "source": [
    "ids = df.UID.unique()"
   ]
  },
  {
   "cell_type": "code",
   "execution_count": null,
   "metadata": {},
   "outputs": [],
   "source": [
    "colNames = df.drop(['Rating',], axis=1).columns\n",
    "colNames = colNames.insert(1, 'Const')\n",
    "colNames"
   ]
  },
  {
   "cell_type": "code",
   "execution_count": null,
   "metadata": {},
   "outputs": [],
   "source": [
    "op = pd.DataFrame\n",
    "intercept = []\n",
    "coefficients=[]\n",
    "UID = []\n",
    "for i in ids:\n",
    "    df_i = df[df.UID == i]\n",
    "    X =df_i.drop(['UID','Rating'], axis=1)\n",
    "    y= df_i['Rating']\n",
    "    reg = LinearRegression().fit(X, y)\n",
    "    reg.score(X, y)\n",
    "    unique_id=df_i['UID'].unique()   \n",
    "    const = reg.intercept_\n",
    "    coef = reg.coef_\n",
    "    UID.append(unique_id)\n",
    "    intercept.append(const)\n",
    "    coefficients.append(coef)\n",
    "#print(UID)    \n",
    "intercep_new = pd.DataFrame(intercept)\n",
    "coefficients_new = pd.DataFrame(coefficients)\n",
    "UID_new = pd.DataFrame(UID)\n",
    "\n",
    "UID_new.head()\n",
    "intercep_new.head()\n",
    "coefficients_new.head()"
   ]
  },
  {
   "cell_type": "code",
   "execution_count": null,
   "metadata": {},
   "outputs": [],
   "source": [
    "op = pd.concat([UID_new,intercep_new, coefficients_new], axis=1)\n",
    "op.columns = colNames\n",
    "op"
   ]
  },
  {
   "cell_type": "markdown",
   "metadata": {},
   "source": [
    "<b>Add random small number to Rating</b>"
   ]
  },
  {
   "cell_type": "code",
   "execution_count": null,
   "metadata": {},
   "outputs": [],
   "source": [
    "import random\n",
    "df['noise']=df['Rating'].apply(lambda x: x+random.random()/1000)"
   ]
  },
  {
   "cell_type": "markdown",
   "metadata": {},
   "source": [
    "<b>Scenario Analysis</b>"
   ]
  },
  {
   "cell_type": "code",
   "execution_count": null,
   "metadata": {},
   "outputs": [],
   "source": [
    "df.head()"
   ]
  },
  {
   "cell_type": "code",
   "execution_count": null,
   "metadata": {},
   "outputs": [],
   "source": [
    "# np.where(condition, value if condition is true, value if condition is false)\n",
    "\n",
    "# create a list of the column categories\n",
    "\n",
    "cat_A = ['A1', 'A2', 'A3', 'A4']\n",
    "cat_B = ['B1', 'B2', 'B3', 'B4']\n",
    "cat_C = ['C1', 'C2', 'C3', 'C4']\n",
    "cat_D = ['D1', 'D2', 'D3', 'D4']\n",
    "\n",
    "# create a list of our conditions\n",
    "cat_A_conditions = [\n",
    "    (df['A1'] == 1),\n",
    "    (df['A2'] == 1),\n",
    "    (df['A3'] == 1),\n",
    "    (df['A4'] == 1),\n",
    "    (df['A1']==0) & (df['A2']==0) & (df['A3']==0) & (df['A4']==0),\n",
    "    ]\n",
    "\n",
    "cat_B_conditions = [    \n",
    "    (df['B1'] == 1),\n",
    "    (df['B2'] == 1),\n",
    "    (df['B3'] == 1),\n",
    "    (df['B4'] == 1),\n",
    "    (df['B1']==0) & (df['B2']==0) & (df['B3']==0) & (df['B4']==0),\n",
    "    ]    \n",
    "\n",
    "cat_C_conditions = [    \n",
    "    (df['C1'] == 1),\n",
    "    (df['C2'] == 1),\n",
    "    (df['C3'] == 1),\n",
    "    (df['C4'] == 1),\n",
    "    (df['C1']==0) & (df['C2']==0) & (df['C3']==0) & (df['C4']==0),\n",
    "    ]\n",
    "\n",
    "cat_D_conditions = [    \n",
    "    (df['D1'] == 1),\n",
    "    (df['D2'] == 1),\n",
    "    (df['D3'] == 1),\n",
    "    (df['D4'] == 1),  \n",
    "    (df['D1']==0) & (df['D2']==0) & (df['D3']==0) & (df['D4']==0),\n",
    "    ]\n",
    "\n",
    "# create a list of the values we want to assign for each condition\n",
    "cat_A_values = ['A1', 'A2', 'A3', 'A4', 'A0']\n",
    "cat_B_values = ['B1', 'B2', 'B3', 'B4','B0']\n",
    "cat_C_values = ['C1', 'C2', 'C3', 'C4','C0']\n",
    "cat_D_values = ['D1', 'D2', 'D3', 'D4','D0']\n",
    "    \n",
    "df['cat_A_scenario'] = np.select(cat_A_conditions, cat_A_values)\n",
    "df['cat_B_scenario'] = np.select(cat_B_conditions, cat_B_values)\n",
    "df['cat_C_scenario'] = np.select(cat_C_conditions, cat_C_values)\n",
    "df['cat_D_scenario'] = np.select(cat_D_conditions, cat_D_values)"
   ]
  },
  {
   "cell_type": "markdown",
   "metadata": {},
   "source": [
    "<b> Example of Scenario where Variable A1 has a 1 </b>"
   ]
  },
  {
   "cell_type": "code",
   "execution_count": null,
   "metadata": {},
   "outputs": [],
   "source": [
    "cat_A = df['cat_A_scenario'].unique()\n",
    "# list of independant variables for regression\n",
    "fields = df.columns[1:17]\n",
    "dep_var = df['noise']"
   ]
  },
  {
   "cell_type": "code",
   "execution_count": null,
   "metadata": {},
   "outputs": [],
   "source": [
    "df_A1 = df[df['cat_A_scenario']=='A1']\n",
    "df_A1"
   ]
  },
  {
   "cell_type": "code",
   "execution_count": 241,
   "metadata": {},
   "outputs": [
    {
     "data": {
      "text/plain": [
       "array([-0.03408812,  0.17440261,  0.07657172,  0.14460094, -0.10767165,\n",
       "       -0.08126447, -0.14041124,  0.14454578,  0.15141297,  0.22199258,\n",
       "        0.18103123,  0.21045197])"
      ]
     },
     "execution_count": 241,
     "metadata": {},
     "output_type": "execute_result"
    }
   ],
   "source": [
    "X =df_A1[['B1', 'B2', 'B3', 'B4','C1', 'C2', 'C3', 'C4','D1', 'D2', 'D3', 'D4']]\n",
    "y= df_A1['noise']\n",
    "reg = LinearRegression().fit(X, y)\n",
    "reg.score(X, y)\n",
    "const = reg.intercept_\n",
    "coef = reg.coef_"
   ]
  },
  {
   "cell_type": "code",
   "execution_count": null,
   "metadata": {},
   "outputs": [],
   "source": [
    "# scratch pad, not finished\n",
    "for i in cat_A:\n",
    "    df_i = df[df.cat_A_scenario == i]\n",
    "    X =df_i[df_i.columns[1:17]]\n",
    "    y= df_i['noise']\n",
    "    reg = LinearRegression().fit(X, y)\n",
    "    reg.score(X, y)\n",
    "    const = reg.intercept_\n",
    "    coef = reg.coef_\n",
    "    intercept.append(const)\n",
    "    coefficients.append(coef)\n",
    "#print(UID)    \n",
    "intercep_new = pd.DataFrame(intercept)\n",
    "coefficients_new = pd.DataFrame(coefficients)"
   ]
  }
 ],
 "metadata": {
  "kernelspec": {
   "display_name": "Python 3",
   "language": "python",
   "name": "python3"
  },
  "language_info": {
   "codemirror_mode": {
    "name": "ipython",
    "version": 3
   },
   "file_extension": ".py",
   "mimetype": "text/x-python",
   "name": "python",
   "nbconvert_exporter": "python",
   "pygments_lexer": "ipython3",
   "version": "3.8.5"
  }
 },
 "nbformat": 4,
 "nbformat_minor": 4
}
