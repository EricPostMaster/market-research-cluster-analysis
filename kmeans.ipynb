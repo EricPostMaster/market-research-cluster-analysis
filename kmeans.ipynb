{
 "cells": [
  {
   "cell_type": "code",
   "execution_count": 1,
   "metadata": {},
   "outputs": [],
   "source": [
    "import pandas as pd"
   ]
  },
  {
   "cell_type": "code",
   "execution_count": 2,
   "metadata": {},
   "outputs": [
    {
     "name": "stdout",
     "output_type": "stream",
     "text": [
      "Requirement already satisfied: factor_analyzer in c:\\anaconda\\envs\\kmeans\\lib\\site-packages (0.3.2)\n",
      "Requirement already satisfied: scikit-learn in c:\\anaconda\\envs\\kmeans\\lib\\site-packages (from factor_analyzer) (0.23.2)\n",
      "Requirement already satisfied: scipy in c:\\anaconda\\envs\\kmeans\\lib\\site-packages (from factor_analyzer) (1.5.3)\n",
      "Requirement already satisfied: numpy in c:\\anaconda\\envs\\kmeans\\lib\\site-packages (from factor_analyzer) (1.19.2)\n",
      "Requirement already satisfied: pandas in c:\\anaconda\\envs\\kmeans\\lib\\site-packages (from factor_analyzer) (1.1.3)\n",
      "Requirement already satisfied: joblib>=0.11 in c:\\anaconda\\envs\\kmeans\\lib\\site-packages (from scikit-learn->factor_analyzer) (0.17.0)\n",
      "Requirement already satisfied: threadpoolctl>=2.0.0 in c:\\anaconda\\envs\\kmeans\\lib\\site-packages (from scikit-learn->factor_analyzer) (2.1.0)\n",
      "Requirement already satisfied: python-dateutil>=2.7.3 in c:\\anaconda\\envs\\kmeans\\lib\\site-packages (from pandas->factor_analyzer) (2.8.1)\n",
      "Requirement already satisfied: pytz>=2017.2 in c:\\anaconda\\envs\\kmeans\\lib\\site-packages (from pandas->factor_analyzer) (2020.1)\n",
      "Requirement already satisfied: six>=1.5 in c:\\anaconda\\envs\\kmeans\\lib\\site-packages (from python-dateutil>=2.7.3->pandas->factor_analyzer) (1.15.0)\n",
      "Note: you may need to restart the kernel to use updated packages.\n"
     ]
    }
   ],
   "source": [
    "pip install factor_analyzer"
   ]
  },
  {
   "cell_type": "code",
   "execution_count": 3,
   "metadata": {},
   "outputs": [],
   "source": [
    "from factor_analyzer import FactorAnalyzer"
   ]
  },
  {
   "cell_type": "code",
   "execution_count": 4,
   "metadata": {},
   "outputs": [],
   "source": [
    "import sklearn.datasets\n",
    "import matplotlib.pyplot as plt\n",
    "import numpy as np"
   ]
  },
  {
   "cell_type": "code",
   "execution_count": 5,
   "metadata": {},
   "outputs": [],
   "source": [
    "df = pd.read_csv('C:/kmeans/UIGV1311956_OP0.txt', sep='\\t')"
   ]
  },
  {
   "cell_type": "code",
   "execution_count": 7,
   "metadata": {},
   "outputs": [
    {
     "data": {
      "text/html": [
       "<div>\n",
       "<style scoped>\n",
       "    .dataframe tbody tr th:only-of-type {\n",
       "        vertical-align: middle;\n",
       "    }\n",
       "\n",
       "    .dataframe tbody tr th {\n",
       "        vertical-align: top;\n",
       "    }\n",
       "\n",
       "    .dataframe thead th {\n",
       "        text-align: right;\n",
       "    }\n",
       "</style>\n",
       "<table border=\"1\" class=\"dataframe\">\n",
       "  <thead>\n",
       "    <tr style=\"text-align: right;\">\n",
       "      <th></th>\n",
       "      <th>UID</th>\n",
       "      <th>Const</th>\n",
       "      <th>E_1</th>\n",
       "      <th>E_2</th>\n",
       "      <th>E_3</th>\n",
       "      <th>E_4</th>\n",
       "      <th>E_5</th>\n",
       "      <th>E_6</th>\n",
       "      <th>E_7</th>\n",
       "      <th>E_8</th>\n",
       "      <th>...</th>\n",
       "      <th>E_27</th>\n",
       "      <th>E_28</th>\n",
       "      <th>E_29</th>\n",
       "      <th>E_30</th>\n",
       "      <th>E_31</th>\n",
       "      <th>E_32</th>\n",
       "      <th>E_33</th>\n",
       "      <th>E_34</th>\n",
       "      <th>E_35</th>\n",
       "      <th>E_36</th>\n",
       "    </tr>\n",
       "  </thead>\n",
       "  <tbody>\n",
       "    <tr>\n",
       "      <th>0</th>\n",
       "      <td>1311395</td>\n",
       "      <td>97.00</td>\n",
       "      <td>-18.57</td>\n",
       "      <td>9.52</td>\n",
       "      <td>-8.21</td>\n",
       "      <td>8.78</td>\n",
       "      <td>-2.36</td>\n",
       "      <td>-7.05</td>\n",
       "      <td>-17.03</td>\n",
       "      <td>-1.10</td>\n",
       "      <td>...</td>\n",
       "      <td>0.24</td>\n",
       "      <td>4.16</td>\n",
       "      <td>1.79</td>\n",
       "      <td>3.55</td>\n",
       "      <td>-17.28</td>\n",
       "      <td>-6.24</td>\n",
       "      <td>-3.01</td>\n",
       "      <td>-10.39</td>\n",
       "      <td>-14.77</td>\n",
       "      <td>-0.43</td>\n",
       "    </tr>\n",
       "    <tr>\n",
       "      <th>1</th>\n",
       "      <td>1311396</td>\n",
       "      <td>49.08</td>\n",
       "      <td>-10.39</td>\n",
       "      <td>-5.93</td>\n",
       "      <td>-6.21</td>\n",
       "      <td>-0.69</td>\n",
       "      <td>-0.85</td>\n",
       "      <td>-0.75</td>\n",
       "      <td>14.78</td>\n",
       "      <td>12.05</td>\n",
       "      <td>...</td>\n",
       "      <td>-12.44</td>\n",
       "      <td>-2.98</td>\n",
       "      <td>-1.55</td>\n",
       "      <td>-20.46</td>\n",
       "      <td>19.62</td>\n",
       "      <td>-1.95</td>\n",
       "      <td>12.16</td>\n",
       "      <td>19.88</td>\n",
       "      <td>6.91</td>\n",
       "      <td>28.41</td>\n",
       "    </tr>\n",
       "    <tr>\n",
       "      <th>2</th>\n",
       "      <td>1311397</td>\n",
       "      <td>15.51</td>\n",
       "      <td>8.22</td>\n",
       "      <td>11.68</td>\n",
       "      <td>16.48</td>\n",
       "      <td>11.85</td>\n",
       "      <td>14.33</td>\n",
       "      <td>1.97</td>\n",
       "      <td>8.11</td>\n",
       "      <td>22.31</td>\n",
       "      <td>...</td>\n",
       "      <td>25.23</td>\n",
       "      <td>10.03</td>\n",
       "      <td>-2.31</td>\n",
       "      <td>12.60</td>\n",
       "      <td>21.34</td>\n",
       "      <td>22.65</td>\n",
       "      <td>1.42</td>\n",
       "      <td>21.55</td>\n",
       "      <td>12.15</td>\n",
       "      <td>19.84</td>\n",
       "    </tr>\n",
       "    <tr>\n",
       "      <th>3</th>\n",
       "      <td>1311398</td>\n",
       "      <td>102.67</td>\n",
       "      <td>-6.45</td>\n",
       "      <td>-14.31</td>\n",
       "      <td>2.83</td>\n",
       "      <td>-13.21</td>\n",
       "      <td>3.70</td>\n",
       "      <td>5.54</td>\n",
       "      <td>6.60</td>\n",
       "      <td>-9.83</td>\n",
       "      <td>...</td>\n",
       "      <td>-7.13</td>\n",
       "      <td>-11.26</td>\n",
       "      <td>1.61</td>\n",
       "      <td>6.31</td>\n",
       "      <td>-0.44</td>\n",
       "      <td>-13.85</td>\n",
       "      <td>-1.76</td>\n",
       "      <td>-1.73</td>\n",
       "      <td>3.47</td>\n",
       "      <td>-11.69</td>\n",
       "    </tr>\n",
       "    <tr>\n",
       "      <th>4</th>\n",
       "      <td>1311400</td>\n",
       "      <td>74.15</td>\n",
       "      <td>13.68</td>\n",
       "      <td>2.96</td>\n",
       "      <td>6.57</td>\n",
       "      <td>-4.24</td>\n",
       "      <td>11.77</td>\n",
       "      <td>3.56</td>\n",
       "      <td>14.09</td>\n",
       "      <td>20.19</td>\n",
       "      <td>...</td>\n",
       "      <td>4.39</td>\n",
       "      <td>0.61</td>\n",
       "      <td>-17.85</td>\n",
       "      <td>4.01</td>\n",
       "      <td>-5.12</td>\n",
       "      <td>-13.57</td>\n",
       "      <td>-4.71</td>\n",
       "      <td>-6.06</td>\n",
       "      <td>-7.05</td>\n",
       "      <td>-16.62</td>\n",
       "    </tr>\n",
       "  </tbody>\n",
       "</table>\n",
       "<p>5 rows × 38 columns</p>\n",
       "</div>"
      ],
      "text/plain": [
       "       UID   Const    E_1    E_2    E_3    E_4    E_5   E_6    E_7    E_8  \\\n",
       "0  1311395   97.00 -18.57   9.52  -8.21   8.78  -2.36 -7.05 -17.03  -1.10   \n",
       "1  1311396   49.08 -10.39  -5.93  -6.21  -0.69  -0.85 -0.75  14.78  12.05   \n",
       "2  1311397   15.51   8.22  11.68  16.48  11.85  14.33  1.97   8.11  22.31   \n",
       "3  1311398  102.67  -6.45 -14.31   2.83 -13.21   3.70  5.54   6.60  -9.83   \n",
       "4  1311400   74.15  13.68   2.96   6.57  -4.24  11.77  3.56  14.09  20.19   \n",
       "\n",
       "   ...   E_27   E_28   E_29   E_30   E_31   E_32   E_33   E_34   E_35   E_36  \n",
       "0  ...   0.24   4.16   1.79   3.55 -17.28  -6.24  -3.01 -10.39 -14.77  -0.43  \n",
       "1  ... -12.44  -2.98  -1.55 -20.46  19.62  -1.95  12.16  19.88   6.91  28.41  \n",
       "2  ...  25.23  10.03  -2.31  12.60  21.34  22.65   1.42  21.55  12.15  19.84  \n",
       "3  ...  -7.13 -11.26   1.61   6.31  -0.44 -13.85  -1.76  -1.73   3.47 -11.69  \n",
       "4  ...   4.39   0.61 -17.85   4.01  -5.12 -13.57  -4.71  -6.06  -7.05 -16.62  \n",
       "\n",
       "[5 rows x 38 columns]"
      ]
     },
     "execution_count": 7,
     "metadata": {},
     "output_type": "execute_result"
    }
   ],
   "source": [
    "df.head(5)"
   ]
  },
  {
   "cell_type": "code",
   "execution_count": 8,
   "metadata": {},
   "outputs": [],
   "source": [
    "df_fct =  df.drop(['UID','Const'], axis = 1)"
   ]
  },
  {
   "cell_type": "code",
   "execution_count": 7,
   "metadata": {},
   "outputs": [
    {
     "data": {
      "text/html": [
       "<div>\n",
       "<style scoped>\n",
       "    .dataframe tbody tr th:only-of-type {\n",
       "        vertical-align: middle;\n",
       "    }\n",
       "\n",
       "    .dataframe tbody tr th {\n",
       "        vertical-align: top;\n",
       "    }\n",
       "\n",
       "    .dataframe thead th {\n",
       "        text-align: right;\n",
       "    }\n",
       "</style>\n",
       "<table border=\"1\" class=\"dataframe\">\n",
       "  <thead>\n",
       "    <tr style=\"text-align: right;\">\n",
       "      <th></th>\n",
       "      <th>E_1</th>\n",
       "      <th>E_2</th>\n",
       "      <th>E_3</th>\n",
       "      <th>E_4</th>\n",
       "      <th>E_5</th>\n",
       "      <th>E_6</th>\n",
       "      <th>E_7</th>\n",
       "      <th>E_8</th>\n",
       "      <th>E_9</th>\n",
       "      <th>E_10</th>\n",
       "      <th>...</th>\n",
       "      <th>E_27</th>\n",
       "      <th>E_28</th>\n",
       "      <th>E_29</th>\n",
       "      <th>E_30</th>\n",
       "      <th>E_31</th>\n",
       "      <th>E_32</th>\n",
       "      <th>E_33</th>\n",
       "      <th>E_34</th>\n",
       "      <th>E_35</th>\n",
       "      <th>E_36</th>\n",
       "    </tr>\n",
       "  </thead>\n",
       "  <tbody>\n",
       "    <tr>\n",
       "      <th>0</th>\n",
       "      <td>-18.57</td>\n",
       "      <td>9.52</td>\n",
       "      <td>-8.21</td>\n",
       "      <td>8.78</td>\n",
       "      <td>-2.36</td>\n",
       "      <td>-7.05</td>\n",
       "      <td>-17.03</td>\n",
       "      <td>-1.10</td>\n",
       "      <td>-6.89</td>\n",
       "      <td>-2.97</td>\n",
       "      <td>...</td>\n",
       "      <td>0.24</td>\n",
       "      <td>4.16</td>\n",
       "      <td>1.79</td>\n",
       "      <td>3.55</td>\n",
       "      <td>-17.28</td>\n",
       "      <td>-6.24</td>\n",
       "      <td>-3.01</td>\n",
       "      <td>-10.39</td>\n",
       "      <td>-14.77</td>\n",
       "      <td>-0.43</td>\n",
       "    </tr>\n",
       "    <tr>\n",
       "      <th>1</th>\n",
       "      <td>-10.39</td>\n",
       "      <td>-5.93</td>\n",
       "      <td>-6.21</td>\n",
       "      <td>-0.69</td>\n",
       "      <td>-0.85</td>\n",
       "      <td>-0.75</td>\n",
       "      <td>14.78</td>\n",
       "      <td>12.05</td>\n",
       "      <td>-13.98</td>\n",
       "      <td>18.30</td>\n",
       "      <td>...</td>\n",
       "      <td>-12.44</td>\n",
       "      <td>-2.98</td>\n",
       "      <td>-1.55</td>\n",
       "      <td>-20.46</td>\n",
       "      <td>19.62</td>\n",
       "      <td>-1.95</td>\n",
       "      <td>12.16</td>\n",
       "      <td>19.88</td>\n",
       "      <td>6.91</td>\n",
       "      <td>28.41</td>\n",
       "    </tr>\n",
       "    <tr>\n",
       "      <th>2</th>\n",
       "      <td>8.22</td>\n",
       "      <td>11.68</td>\n",
       "      <td>16.48</td>\n",
       "      <td>11.85</td>\n",
       "      <td>14.33</td>\n",
       "      <td>1.97</td>\n",
       "      <td>8.11</td>\n",
       "      <td>22.31</td>\n",
       "      <td>2.02</td>\n",
       "      <td>15.70</td>\n",
       "      <td>...</td>\n",
       "      <td>25.23</td>\n",
       "      <td>10.03</td>\n",
       "      <td>-2.31</td>\n",
       "      <td>12.60</td>\n",
       "      <td>21.34</td>\n",
       "      <td>22.65</td>\n",
       "      <td>1.42</td>\n",
       "      <td>21.55</td>\n",
       "      <td>12.15</td>\n",
       "      <td>19.84</td>\n",
       "    </tr>\n",
       "    <tr>\n",
       "      <th>3</th>\n",
       "      <td>-6.45</td>\n",
       "      <td>-14.31</td>\n",
       "      <td>2.83</td>\n",
       "      <td>-13.21</td>\n",
       "      <td>3.70</td>\n",
       "      <td>5.54</td>\n",
       "      <td>6.60</td>\n",
       "      <td>-9.83</td>\n",
       "      <td>-7.25</td>\n",
       "      <td>8.75</td>\n",
       "      <td>...</td>\n",
       "      <td>-7.13</td>\n",
       "      <td>-11.26</td>\n",
       "      <td>1.61</td>\n",
       "      <td>6.31</td>\n",
       "      <td>-0.44</td>\n",
       "      <td>-13.85</td>\n",
       "      <td>-1.76</td>\n",
       "      <td>-1.73</td>\n",
       "      <td>3.47</td>\n",
       "      <td>-11.69</td>\n",
       "    </tr>\n",
       "    <tr>\n",
       "      <th>4</th>\n",
       "      <td>13.68</td>\n",
       "      <td>2.96</td>\n",
       "      <td>6.57</td>\n",
       "      <td>-4.24</td>\n",
       "      <td>11.77</td>\n",
       "      <td>3.56</td>\n",
       "      <td>14.09</td>\n",
       "      <td>20.19</td>\n",
       "      <td>9.28</td>\n",
       "      <td>3.74</td>\n",
       "      <td>...</td>\n",
       "      <td>4.39</td>\n",
       "      <td>0.61</td>\n",
       "      <td>-17.85</td>\n",
       "      <td>4.01</td>\n",
       "      <td>-5.12</td>\n",
       "      <td>-13.57</td>\n",
       "      <td>-4.71</td>\n",
       "      <td>-6.06</td>\n",
       "      <td>-7.05</td>\n",
       "      <td>-16.62</td>\n",
       "    </tr>\n",
       "  </tbody>\n",
       "</table>\n",
       "<p>5 rows × 36 columns</p>\n",
       "</div>"
      ],
      "text/plain": [
       "     E_1    E_2    E_3    E_4    E_5   E_6    E_7    E_8    E_9   E_10  ...  \\\n",
       "0 -18.57   9.52  -8.21   8.78  -2.36 -7.05 -17.03  -1.10  -6.89  -2.97  ...   \n",
       "1 -10.39  -5.93  -6.21  -0.69  -0.85 -0.75  14.78  12.05 -13.98  18.30  ...   \n",
       "2   8.22  11.68  16.48  11.85  14.33  1.97   8.11  22.31   2.02  15.70  ...   \n",
       "3  -6.45 -14.31   2.83 -13.21   3.70  5.54   6.60  -9.83  -7.25   8.75  ...   \n",
       "4  13.68   2.96   6.57  -4.24  11.77  3.56  14.09  20.19   9.28   3.74  ...   \n",
       "\n",
       "    E_27   E_28   E_29   E_30   E_31   E_32   E_33   E_34   E_35   E_36  \n",
       "0   0.24   4.16   1.79   3.55 -17.28  -6.24  -3.01 -10.39 -14.77  -0.43  \n",
       "1 -12.44  -2.98  -1.55 -20.46  19.62  -1.95  12.16  19.88   6.91  28.41  \n",
       "2  25.23  10.03  -2.31  12.60  21.34  22.65   1.42  21.55  12.15  19.84  \n",
       "3  -7.13 -11.26   1.61   6.31  -0.44 -13.85  -1.76  -1.73   3.47 -11.69  \n",
       "4   4.39   0.61 -17.85   4.01  -5.12 -13.57  -4.71  -6.06  -7.05 -16.62  \n",
       "\n",
       "[5 rows x 36 columns]"
      ]
     },
     "execution_count": 7,
     "metadata": {},
     "output_type": "execute_result"
    }
   ],
   "source": [
    "df_fct.head()"
   ]
  },
  {
   "cell_type": "code",
   "execution_count": 7,
   "metadata": {},
   "outputs": [],
   "source": [
    "fa = FactorAnalyzer(n_factors=5,rotation='quartimax')"
   ]
  },
  {
   "cell_type": "code",
   "execution_count": 8,
   "metadata": {},
   "outputs": [
    {
     "data": {
      "text/plain": [
       "FactorAnalyzer(n_factors=5, rotation='quartimax', rotation_kwargs={})"
      ]
     },
     "execution_count": 8,
     "metadata": {},
     "output_type": "execute_result"
    }
   ],
   "source": [
    "fa.fit(df_fct)"
   ]
  },
  {
   "cell_type": "code",
   "execution_count": 9,
   "metadata": {},
   "outputs": [],
   "source": [
    "loadings = fa.loadings_"
   ]
  },
  {
   "cell_type": "code",
   "execution_count": 10,
   "metadata": {},
   "outputs": [],
   "source": [
    "ev, v = fa.get_eigenvalues()"
   ]
  },
  {
   "cell_type": "code",
   "execution_count": 11,
   "metadata": {},
   "outputs": [],
   "source": [
    "xvals = range(1, df_fct.shape[1]+1)"
   ]
  },
  {
   "cell_type": "code",
   "execution_count": 21,
   "metadata": {},
   "outputs": [
    {
     "data": {
      "image/png": "[encoded data removed]",
      "text/plain": [
       "<Figure size 432x288 with 1 Axes>"
      ]
     },
     "metadata": {
      "needs_background": "light"
     },
     "output_type": "display_data"
    }
   ],
   "source": [
    "plt.scatter(xvals,ev)\n",
    "plt.plot(xvals, ev)\n",
    "plt.title('Scree Plot')\n",
    "plt.xlabel('Factor')\n",
    "plt.ylabel('Eigenvalues')\n",
    "plt.yticks([0,1,2,3,4,5,6,7,8,9,10,11,12])\n",
    "plt.grid()\n",
    "plt.show()"
   ]
  },
  {
   "cell_type": "code",
   "execution_count": 16,
   "metadata": {},
   "outputs": [
    {
     "data": {
      "text/plain": [
       "array([10.59267071,  2.33116666,  2.11377727,  1.71775964,  1.67322846,\n",
       "        1.27020224,  1.06415029,  1.01468701,  0.95459751,  0.8236991 ,\n",
       "        0.77574707,  0.76307285,  0.72927801,  0.70705429,  0.6709557 ,\n",
       "        0.63189162,  0.60224659,  0.59349459,  0.57697191,  0.53641124,\n",
       "        0.51445916,  0.48302656,  0.47663102,  0.45151838,  0.41396747,\n",
       "        0.39596126,  0.39279193,  0.37517128,  0.34890969,  0.33141645,\n",
       "        0.31924346,  0.30453058,  0.30095566,  0.27860251,  0.24513374,\n",
       "        0.22461809])"
      ]
     },
     "execution_count": 16,
     "metadata": {},
     "output_type": "execute_result"
    }
   ],
   "source": [
    "ev"
   ]
  },
  {
   "cell_type": "code",
   "execution_count": 17,
   "metadata": {},
   "outputs": [
    {
     "data": {
      "text/plain": [
       "array([ 1.00384127e+01,  1.76655893e+00,  1.57385891e+00,  1.18512982e+00,\n",
       "        1.13391096e+00,  6.96962949e-01,  4.64937967e-01,  4.23663399e-01,\n",
       "        3.47115063e-01,  2.29655462e-01,  2.05732370e-01,  2.01155005e-01,\n",
       "        1.37720907e-01,  1.27301511e-01,  9.46998026e-02,  8.27808421e-02,\n",
       "        6.90442002e-02,  1.09338178e-02,  4.89412079e-03, -1.63612698e-02,\n",
       "       -4.27394901e-02, -8.11548252e-02, -8.92359590e-02, -1.13228783e-01,\n",
       "       -1.34440020e-01, -1.47318115e-01, -1.74436124e-01, -1.84286635e-01,\n",
       "       -2.04186908e-01, -2.15724482e-01, -2.39301301e-01, -2.59729230e-01,\n",
       "       -2.80931631e-01, -2.82997622e-01, -3.07658120e-01, -3.22865387e-01])"
      ]
     },
     "execution_count": 17,
     "metadata": {},
     "output_type": "execute_result"
    }
   ],
   "source": [
    "v"
   ]
  },
  {
   "cell_type": "code",
   "execution_count": 12,
   "metadata": {},
   "outputs": [],
   "source": [
    "eigen=pd.DataFrame(v,columns=['eigenvalues']) \n"
   ]
  },
  {
   "cell_type": "code",
   "execution_count": 13,
   "metadata": {
    "scrolled": true
   },
   "outputs": [
    {
     "data": {
      "text/plain": [
       "array([10.59267071,  2.33116666,  2.11377727,  1.71775964,  1.67322846,\n",
       "        1.27020224,  1.06415029,  1.01468701,  0.95459751,  0.8236991 ,\n",
       "        0.77574707,  0.76307285,  0.72927801,  0.70705429,  0.6709557 ,\n",
       "        0.63189162,  0.60224659,  0.59349459,  0.57697191,  0.53641124,\n",
       "        0.51445916,  0.48302656,  0.47663102,  0.45151838,  0.41396747,\n",
       "        0.39596126,  0.39279193,  0.37517128,  0.34890969,  0.33141645,\n",
       "        0.31924346,  0.30453058,  0.30095566,  0.27860251,  0.24513374,\n",
       "        0.22461809])"
      ]
     },
     "execution_count": 13,
     "metadata": {},
     "output_type": "execute_result"
    }
   ],
   "source": [
    "ev"
   ]
  },
  {
   "cell_type": "code",
   "execution_count": 14,
   "metadata": {},
   "outputs": [],
   "source": [
    "num_of_facts=sum(i >= 1 for i in ev)"
   ]
  },
  {
   "cell_type": "code",
   "execution_count": 15,
   "metadata": {},
   "outputs": [],
   "source": [
    "fa = FactorAnalyzer(n_factors=num_of_facts,rotation='quartimax')"
   ]
  },
  {
   "cell_type": "code",
   "execution_count": 16,
   "metadata": {},
   "outputs": [
    {
     "data": {
      "text/plain": [
       "FactorAnalyzer(n_factors=8, rotation='quartimax', rotation_kwargs={})"
      ]
     },
     "execution_count": 16,
     "metadata": {},
     "output_type": "execute_result"
    }
   ],
   "source": [
    "fa.fit(df_fct)"
   ]
  },
  {
   "cell_type": "code",
   "execution_count": 17,
   "metadata": {},
   "outputs": [],
   "source": [
    "loadings = fa.loadings_"
   ]
  },
  {
   "cell_type": "code",
   "execution_count": 18,
   "metadata": {},
   "outputs": [
    {
     "data": {
      "text/plain": [
       "36"
      ]
     },
     "execution_count": 18,
     "metadata": {},
     "output_type": "execute_result"
    }
   ],
   "source": [
    "len(loadings)"
   ]
  },
  {
   "cell_type": "code",
   "execution_count": 24,
   "metadata": {},
   "outputs": [
    {
     "name": "stdout",
     "output_type": "stream",
     "text": [
      "Collecting openpyxlNote: you may need to restart the kernel to use updated packages.\n",
      "\n",
      "  Downloading openpyxl-3.0.5-py2.py3-none-any.whl (242 kB)\n",
      "Collecting jdcal\n",
      "  Downloading jdcal-1.4.1-py2.py3-none-any.whl (9.5 kB)\n",
      "Collecting et-xmlfile\n",
      "  Downloading et_xmlfile-1.0.1.tar.gz (8.4 kB)\n",
      "Building wheels for collected packages: et-xmlfile\n",
      "  Building wheel for et-xmlfile (setup.py): started\n",
      "  Building wheel for et-xmlfile (setup.py): finished with status 'done'\n",
      "  Created wheel for et-xmlfile: filename=et_xmlfile-1.0.1-py3-none-any.whl size=8919 sha256=a3a016cc14935cc7aa966b541e2365231a4656aeb64b56fa8c4bb9f0b831dba9\n",
      "  Stored in directory: c:\\users\\david\\appdata\\local\\pip\\cache\\wheels\\6e\\df\\38\\abda47b884e3e25f9f9b6430e5ce44c47670758a50c0c51759\n",
      "Successfully built et-xmlfile\n",
      "Installing collected packages: jdcal, et-xmlfile, openpyxl\n",
      "Successfully installed et-xmlfile-1.0.1 jdcal-1.4.1 openpyxl-3.0.5\n"
     ]
    }
   ],
   "source": [
    "pip install openpyxl"
   ]
  },
  {
   "cell_type": "code",
   "execution_count": 26,
   "metadata": {},
   "outputs": [],
   "source": [
    "import pandas as pd \n",
    "factor_scores = fa.transform(df_fct)\n",
    "factor_scores = pd.DataFrame(factor_scores)\n",
    "loadings = pd.DataFrame(loadings)\n",
    "factor_scores.to_excel('C:/kmeans/factor_scores.xlsx')\n",
    "loadings.to_excel('C:/kmeans/loadings.xlsx')\n"
   ]
  },
  {
   "cell_type": "code",
   "execution_count": 49,
   "metadata": {},
   "outputs": [
    {
     "data": {
      "text/plain": [
       "0    16\n",
       "1     6\n",
       "2     3\n",
       "3     6\n",
       "4     6\n",
       "5     1\n",
       "6     1\n",
       "7     0\n",
       "dtype: int64"
      ]
     },
     "execution_count": 49,
     "metadata": {},
     "output_type": "execute_result"
    }
   ],
   "source": [
    "loadings_abs=loadings.abs()\n",
    "loadings[loadings.abs() >= .4].count()\n",
    "\n"
   ]
  },
  {
   "cell_type": "markdown",
   "metadata": {},
   "source": [
    "Below is for KMEANS Clustering"
   ]
  },
  {
   "cell_type": "code",
   "execution_count": 38,
   "metadata": {},
   "outputs": [],
   "source": [
    "from scipy.spatial import distance\n",
    "from sklearn.cluster import KMeans\n",
    "from sklearn.metrics import silhouette_score\n",
    "from sklearn.metrics import accuracy_score\n",
    "import numpy as np"
   ]
  },
  {
   "cell_type": "code",
   "execution_count": 55,
   "metadata": {},
   "outputs": [],
   "source": [
    "X=df_fct\n",
    "kmeans = KMeans(n_clusters=3)\n",
    "clusters = kmeans.fit_predict(X)"
   ]
  },
  {
   "cell_type": "code",
   "execution_count": 57,
   "metadata": {},
   "outputs": [
    {
     "ename": "TypeError",
     "evalue": "'(slice(None, None, None), 0)' is an invalid key",
     "output_type": "error",
     "traceback": [
      "\u001b[1;31m---------------------------------------------------------------------------\u001b[0m",
      "\u001b[1;31mTypeError\u001b[0m                                 Traceback (most recent call last)",
      "\u001b[1;32m<ipython-input-57-378c57debccb>\u001b[0m in \u001b[0;36m<module>\u001b[1;34m\u001b[0m\n\u001b[1;32m----> 1\u001b[1;33m \u001b[0mplt\u001b[0m\u001b[1;33m.\u001b[0m\u001b[0mscatter\u001b[0m\u001b[1;33m(\u001b[0m\u001b[0mX\u001b[0m\u001b[1;33m[\u001b[0m\u001b[1;33m:\u001b[0m\u001b[1;33m,\u001b[0m\u001b[1;36m0\u001b[0m\u001b[1;33m]\u001b[0m\u001b[1;33m,\u001b[0m\u001b[0mX\u001b[0m\u001b[1;33m[\u001b[0m\u001b[1;33m:\u001b[0m\u001b[1;33m,\u001b[0m\u001b[1;36m36\u001b[0m\u001b[1;33m]\u001b[0m\u001b[1;33m,\u001b[0m \u001b[0mc\u001b[0m\u001b[1;33m=\u001b[0m\u001b[0mkmeans\u001b[0m\u001b[1;33m.\u001b[0m\u001b[0mlabels_\u001b[0m\u001b[1;33m,\u001b[0m \u001b[0mcmap\u001b[0m\u001b[1;33m=\u001b[0m\u001b[1;34m'rainbow'\u001b[0m\u001b[1;33m)\u001b[0m\u001b[1;33m\u001b[0m\u001b[1;33m\u001b[0m\u001b[0m\n\u001b[0m",
      "\u001b[1;32mC:\\Anaconda\\envs\\kmeans\\lib\\site-packages\\pandas\\core\\frame.py\u001b[0m in \u001b[0;36m__getitem__\u001b[1;34m(self, key)\u001b[0m\n\u001b[0;32m   2900\u001b[0m             \u001b[1;32mif\u001b[0m \u001b[0mself\u001b[0m\u001b[1;33m.\u001b[0m\u001b[0mcolumns\u001b[0m\u001b[1;33m.\u001b[0m\u001b[0mnlevels\u001b[0m \u001b[1;33m>\u001b[0m \u001b[1;36m1\u001b[0m\u001b[1;33m:\u001b[0m\u001b[1;33m\u001b[0m\u001b[1;33m\u001b[0m\u001b[0m\n\u001b[0;32m   2901\u001b[0m                 \u001b[1;32mreturn\u001b[0m \u001b[0mself\u001b[0m\u001b[1;33m.\u001b[0m\u001b[0m_getitem_multilevel\u001b[0m\u001b[1;33m(\u001b[0m\u001b[0mkey\u001b[0m\u001b[1;33m)\u001b[0m\u001b[1;33m\u001b[0m\u001b[1;33m\u001b[0m\u001b[0m\n\u001b[1;32m-> 2902\u001b[1;33m             \u001b[0mindexer\u001b[0m \u001b[1;33m=\u001b[0m \u001b[0mself\u001b[0m\u001b[1;33m.\u001b[0m\u001b[0mcolumns\u001b[0m\u001b[1;33m.\u001b[0m\u001b[0mget_loc\u001b[0m\u001b[1;33m(\u001b[0m\u001b[0mkey\u001b[0m\u001b[1;33m)\u001b[0m\u001b[1;33m\u001b[0m\u001b[1;33m\u001b[0m\u001b[0m\n\u001b[0m\u001b[0;32m   2903\u001b[0m             \u001b[1;32mif\u001b[0m \u001b[0mis_integer\u001b[0m\u001b[1;33m(\u001b[0m\u001b[0mindexer\u001b[0m\u001b[1;33m)\u001b[0m\u001b[1;33m:\u001b[0m\u001b[1;33m\u001b[0m\u001b[1;33m\u001b[0m\u001b[0m\n\u001b[0;32m   2904\u001b[0m                 \u001b[0mindexer\u001b[0m \u001b[1;33m=\u001b[0m \u001b[1;33m[\u001b[0m\u001b[0mindexer\u001b[0m\u001b[1;33m]\u001b[0m\u001b[1;33m\u001b[0m\u001b[1;33m\u001b[0m\u001b[0m\n",
      "\u001b[1;32mC:\\Anaconda\\envs\\kmeans\\lib\\site-packages\\pandas\\core\\indexes\\base.py\u001b[0m in \u001b[0;36mget_loc\u001b[1;34m(self, key, method, tolerance)\u001b[0m\n\u001b[0;32m   2893\u001b[0m             \u001b[0mcasted_key\u001b[0m \u001b[1;33m=\u001b[0m \u001b[0mself\u001b[0m\u001b[1;33m.\u001b[0m\u001b[0m_maybe_cast_indexer\u001b[0m\u001b[1;33m(\u001b[0m\u001b[0mkey\u001b[0m\u001b[1;33m)\u001b[0m\u001b[1;33m\u001b[0m\u001b[1;33m\u001b[0m\u001b[0m\n\u001b[0;32m   2894\u001b[0m             \u001b[1;32mtry\u001b[0m\u001b[1;33m:\u001b[0m\u001b[1;33m\u001b[0m\u001b[1;33m\u001b[0m\u001b[0m\n\u001b[1;32m-> 2895\u001b[1;33m                 \u001b[1;32mreturn\u001b[0m \u001b[0mself\u001b[0m\u001b[1;33m.\u001b[0m\u001b[0m_engine\u001b[0m\u001b[1;33m.\u001b[0m\u001b[0mget_loc\u001b[0m\u001b[1;33m(\u001b[0m\u001b[0mcasted_key\u001b[0m\u001b[1;33m)\u001b[0m\u001b[1;33m\u001b[0m\u001b[1;33m\u001b[0m\u001b[0m\n\u001b[0m\u001b[0;32m   2896\u001b[0m             \u001b[1;32mexcept\u001b[0m \u001b[0mKeyError\u001b[0m \u001b[1;32mas\u001b[0m \u001b[0merr\u001b[0m\u001b[1;33m:\u001b[0m\u001b[1;33m\u001b[0m\u001b[1;33m\u001b[0m\u001b[0m\n\u001b[0;32m   2897\u001b[0m                 \u001b[1;32mraise\u001b[0m \u001b[0mKeyError\u001b[0m\u001b[1;33m(\u001b[0m\u001b[0mkey\u001b[0m\u001b[1;33m)\u001b[0m \u001b[1;32mfrom\u001b[0m \u001b[0merr\u001b[0m\u001b[1;33m\u001b[0m\u001b[1;33m\u001b[0m\u001b[0m\n",
      "\u001b[1;32mpandas\\_libs\\index.pyx\u001b[0m in \u001b[0;36mpandas._libs.index.IndexEngine.get_loc\u001b[1;34m()\u001b[0m\n",
      "\u001b[1;32mpandas\\_libs\\index.pyx\u001b[0m in \u001b[0;36mpandas._libs.index.IndexEngine.get_loc\u001b[1;34m()\u001b[0m\n",
      "\u001b[1;31mTypeError\u001b[0m: '(slice(None, None, None), 0)' is an invalid key"
     ]
    }
   ],
   "source": [
    "plt.scatter(X[:,0],X[:,36], c=kmeans.labels_, cmap='rainbow')"
   ]
  },
  {
   "cell_type": "code",
   "execution_count": 56,
   "metadata": {},
   "outputs": [
    {
     "data": {
      "text/plain": [
       "array([0, 0, 2, 0, 0, 0, 2, 1, 1, 0, 0, 2, 0, 0, 2, 0, 2, 0, 0, 2, 0, 2,\n",
       "       0, 0, 2, 0, 0, 0, 0, 1, 2, 0, 0, 1, 0, 0, 0, 0, 2, 2, 0, 1, 0, 0,\n",
       "       1, 2, 0, 2, 2, 2, 2, 0, 0, 0, 2, 2, 2, 0, 0, 1, 1, 0, 0, 2, 0, 0,\n",
       "       0, 2, 1, 0, 0, 0, 0, 0, 1, 0, 0, 1, 0, 1, 0, 0, 2, 2, 0, 0, 0, 0,\n",
       "       0, 2, 0, 2, 0, 0, 1, 1, 2, 0, 0, 0, 0, 0, 2, 0, 0, 0, 0, 0, 1, 2,\n",
       "       0, 2, 2, 0, 2, 2, 0, 0, 0, 0, 1, 0, 0, 0, 0, 1, 2, 2, 0, 2, 2, 0,\n",
       "       0, 0, 0, 1, 2, 0, 2, 0, 1, 0, 2, 2, 0, 2, 0, 0, 1, 2, 0, 0, 0, 0,\n",
       "       1, 0, 0, 0, 1, 0, 1, 0, 2, 1, 1, 1, 0, 0, 0, 2, 2, 0, 1, 0, 0, 0,\n",
       "       1, 0, 0, 0, 0, 0, 0, 0, 0, 0, 1, 0, 1, 0, 1, 0, 0, 0, 0, 2, 0, 2,\n",
       "       0, 0, 2, 2, 0, 0, 0, 0, 0, 0, 0, 2, 0, 2, 0, 1, 1, 0, 2, 0, 0, 0,\n",
       "       0, 0, 1, 0, 0, 2, 0, 1, 2, 1, 1, 1, 0, 0, 0, 2, 2, 2, 2, 2, 0, 0,\n",
       "       2, 2, 0, 0, 0, 0, 0, 0, 0, 1, 0, 0, 0, 0, 0, 0, 0, 0, 1, 0, 0, 0,\n",
       "       0, 0, 0, 0, 0, 0, 0, 1, 0, 2, 1, 0, 1, 0, 2, 0, 0, 0, 2, 2, 1, 0,\n",
       "       2, 2, 0, 2, 0, 2, 0, 0, 0, 0, 0, 2, 1, 1, 0, 1, 0, 2, 2, 2, 1, 0,\n",
       "       0, 1, 2, 1, 0, 0, 0, 0, 1, 0, 2, 0, 0, 0, 2, 2, 1, 0, 0, 0, 2, 1,\n",
       "       2, 0, 1, 2, 1, 1, 0, 2, 0, 2, 0, 1, 0, 0, 2, 0, 2, 0, 2, 0, 0, 0,\n",
       "       2, 0, 2, 0, 0, 0, 2, 1, 0, 2, 1, 0, 0, 2, 0, 0, 1, 0, 0, 0, 0, 0,\n",
       "       0, 2, 1, 2, 2, 2, 2, 0, 0, 0, 0, 1, 1, 0, 0, 1, 0, 0, 2, 0, 1, 2,\n",
       "       0, 2, 0, 2, 0, 0, 2, 0, 0, 0, 2, 0, 0, 0, 0, 2, 0, 2, 0, 0, 0, 0,\n",
       "       2, 1, 2, 0, 2, 0])"
      ]
     },
     "execution_count": 56,
     "metadata": {},
     "output_type": "execute_result"
    }
   ],
   "source": [
    "clusters"
   ]
  },
  {
   "cell_type": "code",
   "execution_count": 59,
   "metadata": {},
   "outputs": [
    {
     "ename": "NameError",
     "evalue": "name 'mglearn' is not defined",
     "output_type": "error",
     "traceback": [
      "\u001b[1;31m---------------------------------------------------------------------------\u001b[0m",
      "\u001b[1;31mNameError\u001b[0m                                 Traceback (most recent call last)",
      "\u001b[1;32m<ipython-input-59-20928d930bb0>\u001b[0m in \u001b[0;36m<module>\u001b[1;34m\u001b[0m\n\u001b[1;32m----> 1\u001b[1;33m \u001b[0mmglearn\u001b[0m\u001b[1;33m.\u001b[0m\u001b[0mplots\u001b[0m\u001b[1;33m.\u001b[0m\u001b[0mplot_dbscan\u001b[0m\u001b[1;33m(\u001b[0m\u001b[1;33m)\u001b[0m\u001b[1;33m\u001b[0m\u001b[1;33m\u001b[0m\u001b[0m\n\u001b[0m",
      "\u001b[1;31mNameError\u001b[0m: name 'mglearn' is not defined"
     ]
    }
   ],
   "source": [
    "mglearn.plots.plot_dbscan()"
   ]
  },
  {
   "cell_type": "code",
   "execution_count": 61,
   "metadata": {},
   "outputs": [],
   "source": [
    "from sklearn.cluster import DBSCAN"
   ]
  },
  {
   "cell_type": "code",
   "execution_count": 1,
   "metadata": {},
   "outputs": [],
   "source": [
    "from scipy.stats import pearsonr\n",
    "import numpy as np\n"
   ]
  },
  {
   "cell_type": "code",
   "execution_count": 2,
   "metadata": {},
   "outputs": [],
   "source": [
    "def pearson_affinity(M):\n",
    "   return 1 - np.array([[pearsonr(a,b)[0] for a in M] for b in M])"
   ]
  },
  {
   "cell_type": "code",
   "execution_count": null,
   "metadata": {},
   "outputs": [],
   "source": []
  }
 ],
 "metadata": {
  "kernelspec": {
   "display_name": "Python 3",
   "language": "python",
   "name": "python3"
  },
  "language_info": {
   "codemirror_mode": {
    "name": "ipython",
    "version": 3
   },
   "file_extension": ".py",
   "mimetype": "text/x-python",
   "name": "python",
   "nbconvert_exporter": "python",
   "pygments_lexer": "ipython3",
   "version": "3.8.5"
  }
 },
 "nbformat": 4,
 "nbformat_minor": 4
}
